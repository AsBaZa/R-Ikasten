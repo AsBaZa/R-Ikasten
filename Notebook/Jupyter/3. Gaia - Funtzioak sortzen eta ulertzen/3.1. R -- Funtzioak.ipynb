{
 "cells": [
  {
   "cell_type": "markdown",
   "metadata": {},
   "source": [
    "<img src=\"Images/Rlogo.png\"/>\n",
    "\n",
    "# Funtzioak sortzen\n",
    "\n",
    "Atal honetan, funtzioak sortzen hasiko gara. Funtzioak, nahi bezain sinpleak zein konplexuak izan daitezke eta nahi beste agindu edo/eta ekintza sar daitezke. `R`-n honako itxura izaten dute:\n",
    "\n",
    "`funtzioaren_izena <- function(aldagaia/aldagaiak){\n",
    "    ekintza edo ekintzak\n",
    "    return(objektua)\n",
    "}`\n",
    "\n",
    "Hasteko, funtzio erraz bat sortuko dugu, batuketarena:"
   ]
  },
  {
   "cell_type": "code",
   "execution_count": null,
   "metadata": {},
   "outputs": [],
   "source": [
    "batuketa <- function(x,y){\n",
    "    return(x + y)\n",
    "}"
   ]
  },
  {
   "cell_type": "markdown",
   "metadata": {},
   "source": [
    "Aurreko kodea exekutatzen baldin bada, `R`-k ez duela inongo baliorik jaurtitzen aztertu daiteke, aurreko kodean **funtzioa definitu** delako bakarrik. Definitu duguna hurrengo da: funtzioan bi balio sartzean, `x` eta `y`-ren lekuan, bien arteko batura itzuliko du.\n",
    "\n",
    "Jar dezagun martxan funtzioa, proba ezberdinak eginez"
   ]
  },
  {
   "cell_type": "code",
   "execution_count": null,
   "metadata": {},
   "outputs": [],
   "source": [
    "batuketa(10,5)\n",
    "\n",
    "batuketa(2,90)"
   ]
  },
  {
   "cell_type": "markdown",
   "metadata": {},
   "source": [
    "Ikus daitekeen bezala, funtzioan `x` eta `y`-ren partez zenbakiak ezarri ezkero bien arteko batuketa egiten du:\n",
    "\n",
    "\\begin{equation}\n",
    "    x = 10, y = 5\\\\\n",
    "    \\Downarrow\\\\\n",
    "    10 + 5\\\\\n",
    "    \\Downarrow\\\\\n",
    "    15\n",
    "\\end{equation}\n",
    "\n",
    "Funtzioak itzultzen duen balioa ere aldagai bezala gorde daiteke."
   ]
  },
  {
   "cell_type": "code",
   "execution_count": null,
   "metadata": {},
   "outputs": [],
   "source": [
    "a <- batuketa(10,5)"
   ]
  },
  {
   "cell_type": "code",
   "execution_count": null,
   "metadata": {},
   "outputs": [],
   "source": [
    "a"
   ]
  },
  {
   "cell_type": "markdown",
   "metadata": {},
   "source": [
    "Defini dezagun orain lehen atalean egindako ariketa bat, zenbakia bakoitia edo bikoitia den edo ez zehazten duena:"
   ]
  },
  {
   "cell_type": "code",
   "execution_count": null,
   "metadata": {},
   "outputs": [],
   "source": [
    "bakoiti_bikoiti <- function(x){\n",
    "    if (x %% 2 == 0){\n",
    "        \"Sartutako balioa BIKOITIA da\"\n",
    "    }\n",
    "    else{\n",
    "        \"Sartutako balioa BAKOITIA da\"\n",
    "    }\n",
    "}"
   ]
  },
  {
   "cell_type": "code",
   "execution_count": null,
   "metadata": {},
   "outputs": [],
   "source": [
    "bakoiti_bikoiti(100)\n",
    "bakoiti_bikoiti(505)"
   ]
  },
  {
   "cell_type": "markdown",
   "metadata": {},
   "source": [
    "Azken funtzio horretan bi **ohar garrantzitsu** daude. Alde batetik, funtzioak ez du `return`-ik eta bestetik `else` ez da `}` ikurraren atzean ezarrita agertzen.\n",
    "\n",
    "## `return`\n",
    "\n",
    "Funtzioen barruan, `return`-en bidez **funtzioa amaitzen da eta barruko elementua itzuli**. Hala ere, ez da derrigorrezkoa `return` egotea. Kasu horietan, funtzioko azken balioa itzultzen da (`bakoiti_bikoiti`-n ikusten den bezala). Gomendio orokorra `return` erabiltzea da, horrela espresuki zehazten delako non amaitu eta itzultzea nahi den elementua. Beraz, hurrengo bi funtzioek adibidez gauza berdina egiten dute:"
   ]
  },
  {
   "cell_type": "code",
   "execution_count": null,
   "metadata": {},
   "outputs": [],
   "source": [
    "bakoiti_bikoiti <- function(x){\n",
    "    if (x %% 2 == 0){\n",
    "        \"Sartutako balioa BIKOITIA da\"\n",
    "    }\n",
    "    else{\n",
    "        \"Sartutako balioa BAKOITIA da\"\n",
    "    }\n",
    "}\n",
    "\n",
    "bakoiti_bikoiti_return <- function(x){\n",
    "    if (x %% 2 == 0){\n",
    "        return(\"Sartutako balioa BIKOITIA da\")\n",
    "    }\n",
    "    else{\n",
    "        return(\"Sartutako balioa BAKOITIA da\")\n",
    "    }\n",
    "}"
   ]
  },
  {
   "cell_type": "markdown",
   "metadata": {},
   "source": [
    "## `else` funtzioetan\n",
    "\n",
    "Aurreko adibidea ikus daitekeen bezala, funtzioen barruan `else` ez da derrigorrez `}` ikurraren atzean joan behar. `R`-ko funtzioetan, funtzioaren barneko kode guztia era global batean irakurtzen da hasieratik bukaeraraino. Lerroz lerro exekutatzerakoan aldiz, `if` bat exekutatzerakoan, jarraian ez baldin badu `else` bat errorea ematen du, `R` ez delako gai aurretik gertatu dena jakitzeko."
   ]
  },
  {
   "cell_type": "code",
   "execution_count": null,
   "metadata": {},
   "outputs": [],
   "source": [
    "if (5 %% 2 == 0){\n",
    "    return(\"Sartutako balioa BIKOITIA da\")\n",
    "}\n",
    "else{\n",
    "    return(\"Sartutako balioa BAKOITIA da\")\n",
    "}"
   ]
  },
  {
   "cell_type": "code",
   "execution_count": null,
   "metadata": {},
   "outputs": [],
   "source": [
    "if (5 %% 2 == 0){\n",
    "    return(\"Sartutako balioa BIKOITIA da\")\n",
    "} else{\n",
    "    return(\"Sartutako balioa BAKOITIA da\")\n",
    "}"
   ]
  },
  {
   "cell_type": "markdown",
   "metadata": {},
   "source": [
    "## Funtzioko aldagaiei balioak esleitzen\n",
    "\n",
    "Funtzioetan, definitzen diren aldagaietan balio bat esleitu daiteke, hurrengo adibidean ikusten den bezala. Horren bidez, aldagaiari balio bat aurrefinkatzen zaio eta kontrakoa esaten ez den bitartean, aldagai horren balioa hori izango da. `eragiketa` funtzioan, `batu` aldagaiak `TRUE` balioa aurrefinkatuta dauka eta kasu horretan, egiten den eragiketa **batuketa** da. `FALSE` balioa esleitzen baldin bazaio aldiz, **kenketa** egiten da. Azter dezagun:"
   ]
  },
  {
   "cell_type": "code",
   "execution_count": null,
   "metadata": {},
   "outputs": [],
   "source": [
    "eragiketa <- function(x, y, batu = TRUE){\n",
    "    if (batu == TRUE){\n",
    "        return(x + y)\n",
    "    }\n",
    "    if (batu == FALSE){\n",
    "        return(x - y)\n",
    "    }\n",
    "}"
   ]
  },
  {
   "cell_type": "code",
   "execution_count": null,
   "metadata": {},
   "outputs": [],
   "source": [
    "#Funtzioan, 3 aldagai definitu diren arren, ez dira denak erabili behar derrigorrez\n",
    "#Bestalde, 'batu' aldagaiak berez 'TRUE' balioa gordetzen du\n",
    "eragiketa(5,5)\n",
    "\n",
    "#'batu' aldagaiaren balioa aldatzen baldin bada, kenketa egingo du\n",
    "eragiketa(5,5,FALSE)"
   ]
  },
  {
   "cell_type": "markdown",
   "metadata": {},
   "source": [
    "Hortaz gain, beharrezkoa ez den arren, funtzioan sartzen diren aldagaien izenak jarri daitezke, hau da, "
   ]
  },
  {
   "cell_type": "code",
   "execution_count": null,
   "metadata": {},
   "outputs": [],
   "source": [
    "eragiketa(x = 5, y = 2, batu = FALSE)"
   ]
  },
  {
   "cell_type": "markdown",
   "metadata": {},
   "source": [
    "eta aldagaien izenak erabiltzen direnean, nahi den ordena erabili daiteke:"
   ]
  },
  {
   "cell_type": "code",
   "execution_count": null,
   "metadata": {},
   "outputs": [],
   "source": [
    "eragiketa(batu = FALSE, x = 30, y = 10)"
   ]
  },
  {
   "cell_type": "markdown",
   "metadata": {},
   "source": [
    "Amaitzeko, `eragiketa` funtzioa osatuko dugu **batuketa, kenketa, biderketa** eta **zatiketa** egiteko. Eragiketa estandar bezala **batuketa** ezarriko da."
   ]
  },
  {
   "cell_type": "code",
   "execution_count": null,
   "metadata": {},
   "outputs": [],
   "source": [
    "eragiketa2 <- function(x, y, z = \"batuketa\"){\n",
    "    if (z == \"batuketa\"){\n",
    "        return(x + y)\n",
    "    }\n",
    "    if (z == \"kenketa\"){\n",
    "        return(x - y)\n",
    "    }\n",
    "    if (z == \"biderketa\"){\n",
    "        return(x * y)\n",
    "    }\n",
    "    if (z == \"zatiketa\"){\n",
    "        return(x / y)\n",
    "    }\n",
    "}"
   ]
  },
  {
   "cell_type": "code",
   "execution_count": null,
   "metadata": {},
   "outputs": [],
   "source": [
    "eragiketa2(10,20)\n",
    "\n",
    "eragiketa2(10,20,\"kenketa\")\n",
    "\n",
    "eragiketa2(10,20,\"biderketa\")\n",
    "\n",
    "eragiketa2(10,20,\"zatiketa\")"
   ]
  }
 ],
 "metadata": {
  "kernelspec": {
   "display_name": "R",
   "language": "R",
   "name": "ir"
  },
  "language_info": {
   "codemirror_mode": "r",
   "file_extension": ".r",
   "mimetype": "text/x-r-source",
   "name": "R",
   "pygments_lexer": "r",
   "version": "3.5.0"
  }
 },
 "nbformat": 4,
 "nbformat_minor": 2
}
