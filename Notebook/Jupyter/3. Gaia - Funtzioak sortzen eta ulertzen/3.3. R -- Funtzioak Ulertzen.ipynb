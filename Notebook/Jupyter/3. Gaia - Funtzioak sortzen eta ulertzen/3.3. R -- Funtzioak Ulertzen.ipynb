{
 "cells": [
  {
   "cell_type": "markdown",
   "metadata": {},
   "source": [
    "<img src=\"Images/Rlogo.png\"/>\n",
    "\n",
    "# Funtzioak ulertzen\n",
    "\n",
    "Atal honetan, iada sortuta dauden funtzioen gorabehera eta aukera desberdinak aztertuko ditugu. Orain arte, koaderno ezberdinetan zehar hainbat funtzio ezberdin agertu dira eta horien erabilpen bat azaldu da. Hala ere, funtzioek malgutasuna izaten dute erabiltzaileak nahi dituen parametroak ezartzeko eta aldatzeko.\n",
    "\n",
    "Has gaitezen adibide erraz batekin, `sum` funtzioarekin hain zuzen ere. Funtzioen inguruko informazioa jakin nahi izanez gero, funtzioaren aurretik `?` ikurra jarri beharko da."
   ]
  },
  {
   "cell_type": "code",
   "execution_count": null,
   "metadata": {},
   "outputs": [],
   "source": [
    "?sum"
   ]
  },
  {
   "cell_type": "markdown",
   "metadata": {},
   "source": [
    "Lerroa exekutatzerakoan, `R`-ko dokumentazioa agertuko zaigu jarritako funtzioaren inguruan, kasu honetan `sum` funtzioaren inguruan. Dokumentazioaren goialdean, funtzioaren izena agertzen da eta `{}` giltzen artean zein paketetik datorren. Kasu honetan:\n",
    "\n",
    "$$\\mbox{sum \\{base\\}}$$\n",
    "\n",
    "hau da, `sum` funtzioa oinarrizko `R`-ren barnean instalaturik datorren funtzio bat dela adierazten digu. Bestalde, dokumentazioak zati ezberdinak izaten ditu:\n",
    " - ***Description:*** Funtzioaren deskribapen labur bat.\n",
    " - ***Usage:*** Funtzioaren erabilera edo sintaxia erakusten du.\n",
    " - ***Arguments:*** Funtzioari sar dakizkiogun aldagaiak (eta aldagai-motak).\n",
    " - ***Details:*** Funtzioaren inguruko deskribapen sakonagoa.\n",
    " - ***Value:*** Funtzioak itzultzen duen objektu/aldagai/balioaren inguruko informazioa.\n",
    " - ***Example:*** Funtzioaren erabilera ikusteko adibide batzuk.\n",
    " \n",
    "`sum`-en adibidean adibidez, 2 aldagai-mota onartzen ditu (***Arguments*** atalean azter daiteke). Alde batetik ***batzea*** nahi den bektorea, zenbakizkoa (zenbaki konplexuak barne) edota logikoa izan daitekeela eta bestetik `na.rm` parametroa, era estandarrean `FALSE` bezala finkaturik dagoena (hori ***Arguments***-en ikus daiteke). `na.rm` parametroa aldagai-logikoa izan beharko da eta `TRUE` finkatzen baldin bada, bektorean egon daitezkeen `NA` eta `NaN` balioak ezabatzen ditu.\n",
    "\n",
    "Jar dezagun bada proban:"
   ]
  },
  {
   "cell_type": "code",
   "execution_count": null,
   "metadata": {},
   "outputs": [],
   "source": [
    "#Zenbakizko bektore baten batuketa\n",
    "sum(1:100)\n",
    "\n",
    "#Zenbaki konplexuzko bektore baten batuketa\n",
    "sum(c(1+2i,3+4i,1-1i))\n",
    "\n",
    "#Bektore logiko baten batuketa\n",
    "sum(c(T,T,F,T,F,F,F,T,F,F,F))\n",
    "\n",
    "#NA/NaN baliodun bektore bat\n",
    "sum(c(1,2,3,NA,5,6,NaN))\n",
    "\n",
    "#NA/NaN baliodun bektore bat, 'na.rm = TRUE'\n",
    "sum(c(1,2,3,NA,5,6,NaN), na.rm = TRUE)"
   ]
  },
  {
   "cell_type": "markdown",
   "metadata": {},
   "source": [
    "Bestalde, ***Details***-en irakurri daitekeen bezala, `NULL` balioari 0 balioa esleitzen zaio `sum` barruan, baita multzo-hutsari ere."
   ]
  },
  {
   "cell_type": "code",
   "execution_count": null,
   "metadata": {},
   "outputs": [],
   "source": [
    "sum(NULL)\n",
    "\n",
    "sum(c(1,2,NULL))\n",
    "\n",
    "sum()"
   ]
  },
  {
   "cell_type": "markdown",
   "metadata": {},
   "source": [
    "Beste adibide batekin jarraitzeko matrizeen gaiko `expm` paketea kargatuko dugu. Gogoratu, pakete hori ez dela berez instalaturik datorren pakete bat eta ondorioz instalatu eta kargatu egin beharko dela (Binder bidez, online, jarraitzen dabilen erabiltzaileak ez du ezer instalatu beharko).\n",
    "\n",
    "Beste atala batzutan esan bezala, Jupyter-en arazoak gerta daitezke paketeak instalatzeko orduan. Kasu horietarako `R`-ko saio bat zabaltzea eta bertan instalatzea gomendatzen da."
   ]
  },
  {
   "cell_type": "code",
   "execution_count": null,
   "metadata": {},
   "outputs": [],
   "source": [
    "#Paketea instalatzeko hurrengo lerroa exekutatu '#' kenduz\n",
    "#install.packages(\"expm\")\n",
    "library(expm)"
   ]
  },
  {
   "cell_type": "markdown",
   "metadata": {},
   "source": [
    "Behin instalatutakoan, `sqrtm` funtzioaren inguruko dokumentazioa aztertuko dugu:"
   ]
  },
  {
   "cell_type": "code",
   "execution_count": null,
   "metadata": {},
   "outputs": [],
   "source": [
    "?sqrtm"
   ]
  },
  {
   "cell_type": "markdown",
   "metadata": {},
   "source": [
    "Ikus daitekeenez, kasu honetan funtzioa `expm` paketetik dator\n",
    "$$\\mbox{sqrtm \\{expm\\}}$$\n",
    "\n",
    "eta funtzio honen bidez matrizeen ***erro karratua*** kalkulatzen da. Horretarako, funtzioari sartu beharreko aldagaia matrize karratu bat izan beharko da. ***Details***-en ikus daitekeen bezala, erro karratua kalkulatzeko erabiltzen den metodoa ***Schur-en deskonposizioa*** da. Funtzioaren egitura ezagutzea nahi izanez gero, algoritmoa nola idatzi den jakitzeko, funtzioa bera jarri beharko dugu:"
   ]
  },
  {
   "cell_type": "code",
   "execution_count": null,
   "metadata": {},
   "outputs": [],
   "source": [
    "sqrtm"
   ]
  },
  {
   "cell_type": "markdown",
   "metadata": {},
   "source": [
    "Momentuz ez da jakin behar algoritmoaren barruan zer gertatzen den, baina jakin nahi izanez gero `R`-n era erraz batean ikus daiteke."
   ]
  }
 ],
 "metadata": {
  "kernelspec": {
   "display_name": "R",
   "language": "R",
   "name": "ir"
  },
  "language_info": {
   "codemirror_mode": "r",
   "file_extension": ".r",
   "mimetype": "text/x-r-source",
   "name": "R",
   "pygments_lexer": "r",
   "version": "3.5.0"
  }
 },
 "nbformat": 4,
 "nbformat_minor": 2
}
