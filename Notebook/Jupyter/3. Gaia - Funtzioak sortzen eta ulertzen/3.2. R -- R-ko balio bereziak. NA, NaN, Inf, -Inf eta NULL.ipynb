{
 "cells": [
  {
   "cell_type": "markdown",
   "metadata": {},
   "source": [
    "<img src=\"Images/Rlogo.png\"/>\n",
    "\n",
    "# R-ko balio bereziak\n",
    "\n",
    "`R` programazio-lengoaia hainbat *balio nulu* ezberdinekin lan egiteko gai da. *Balio nulu* horietako bakoitzak, bere ezaugarri propioak ditu eta garrantzitsua da ondo ulertzea. Hurrengoak ikusiko dira koaderno honetan:\n",
    "\n",
    " - `NA`\n",
    " - `Inf` / `-Inf`\n",
    " - `NaN`\n",
    " - `NULL` "
   ]
  },
  {
   "cell_type": "markdown",
   "metadata": {},
   "source": [
    "## `NA` balioak\n",
    "\n",
    "`NA` balioak, *Not Available* adierazteko erabiltzen da, hau da, ez dagoela erabilgarri adierazteko. Balio horiek, hutsuneen lekuetan agertzen dira batik bat. Demagun adibidez hurrengo taula dugula:\n",
    "\n",
    "<img src=\"Images/NA-values.png\"/>\n",
    "\n",
    "Ikus daitekeen bezala, *2017-08-03* egunerako ez da inongo daturik agertzen, beraz datu taula hori `R`-ra pasatzerakoan, `R`-k `NA` balioa esleituko dio hutsune horri. `NA` balioekin kontu handiz ibili behar da, funtzioen jokaera alda baitezakete. Lehenengo gaian aztertzen den bezala, `sum` funtzioak bektoreko elementuen batura egiten du. Hala ere, bektorean `NA` balioak baldin badaude, `NA` itzuliko du. "
   ]
  },
  {
   "cell_type": "code",
   "execution_count": 8,
   "metadata": {},
   "outputs": [
    {
     "data": {
      "text/html": [
       "&lt;NA&gt;"
      ],
      "text/latex": [
       "<NA>"
      ],
      "text/markdown": [
       "&lt;NA&gt;"
      ],
      "text/plain": [
       "[1] NA"
      ]
     },
     "metadata": {},
     "output_type": "display_data"
    }
   ],
   "source": [
    "sum(c(1,2,NA))"
   ]
  },
  {
   "cell_type": "markdown",
   "metadata": {},
   "source": [
    "Kasu honetan, erraz konpondu daiteke arazoa, `sum` funtzioak `na.rm` atala duelako (*`NA` remove*). `na.rm` zatian `TRUE` jarri ezkero, `NA` balioak kontuan izan gabe egingo du batuketa."
   ]
  },
  {
   "cell_type": "code",
   "execution_count": 11,
   "metadata": {},
   "outputs": [
    {
     "data": {
      "text/html": [
       "&lt;NA&gt;"
      ],
      "text/latex": [
       "<NA>"
      ],
      "text/markdown": [
       "&lt;NA&gt;"
      ],
      "text/plain": [
       "[1] NA"
      ]
     },
     "metadata": {},
     "output_type": "display_data"
    }
   ],
   "source": [
    "sum(c(1,2,4,5,10,NA))"
   ]
  },
  {
   "cell_type": "code",
   "execution_count": 12,
   "metadata": {},
   "outputs": [
    {
     "data": {
      "text/html": [
       "22"
      ],
      "text/latex": [
       "22"
      ],
      "text/markdown": [
       "22"
      ],
      "text/plain": [
       "[1] 22"
      ]
     },
     "metadata": {},
     "output_type": "display_data"
    }
   ],
   "source": [
    "sum(c(1,2,4,5,10,NA), na.rm = TRUE)"
   ]
  },
  {
   "cell_type": "markdown",
   "metadata": {},
   "source": [
    "Hala ere, funtzio guztiek ez dute konponbide berdina eta ondorioz kasu bakoitzean era ezberdin batean konpondu beharko da: `NA` balioak kenduz, balioak inputatuz..."
   ]
  },
  {
   "cell_type": "markdown",
   "metadata": {},
   "source": [
    "## `Inf` / `-Inf` balioak\n",
    "\n",
    "Balio hauek, infinitu ($\\pm\\infty$) adierazteko erabiltzen dira. Zenbaki ez-nulu bat 0-rekin zatitzen baldin badugu adibidez, `R`-k `Inf` balioa itzuliko du."
   ]
  },
  {
   "cell_type": "code",
   "execution_count": 14,
   "metadata": {},
   "outputs": [
    {
     "data": {
      "text/html": [
       "Inf"
      ],
      "text/latex": [
       "Inf"
      ],
      "text/markdown": [
       "Inf"
      ],
      "text/plain": [
       "[1] Inf"
      ]
     },
     "metadata": {},
     "output_type": "display_data"
    }
   ],
   "source": [
    "1 / 0"
   ]
  },
  {
   "cell_type": "code",
   "execution_count": 17,
   "metadata": {},
   "outputs": [
    {
     "data": {
      "text/html": [
       "-Inf"
      ],
      "text/latex": [
       "-Inf"
      ],
      "text/markdown": [
       "-Inf"
      ],
      "text/plain": [
       "[1] -Inf"
      ]
     },
     "metadata": {},
     "output_type": "display_data"
    }
   ],
   "source": [
    "-1 / 0"
   ]
  },
  {
   "cell_type": "markdown",
   "metadata": {},
   "source": [
    "Bestalde, ordenagailuen memoria finitua denez, `R`-n mugak jartzen dira zenbakiekin. `R`-ko 3.5.0 bertsioan adibidez erabil daitezkeen zenbakiak hurrengo tartean egon behar dira:\n",
    "\n",
    "\\begin{equation}\n",
    "    [-10^{308},+10^{308}]\n",
    "\\end{equation}\n",
    "\n",
    "eta tarte horretatik kanpo dauden zenbakiak $\\pm\\infty$ kontsideratzen dira,"
   ]
  },
  {
   "cell_type": "code",
   "execution_count": 31,
   "metadata": {},
   "outputs": [
    {
     "data": {
      "text/html": [
       "1e+308"
      ],
      "text/latex": [
       "1e+308"
      ],
      "text/markdown": [
       "1e+308"
      ],
      "text/plain": [
       "[1] 1e+308"
      ]
     },
     "metadata": {},
     "output_type": "display_data"
    },
    {
     "data": {
      "text/html": [
       "Inf"
      ],
      "text/latex": [
       "Inf"
      ],
      "text/markdown": [
       "Inf"
      ],
      "text/plain": [
       "[1] Inf"
      ]
     },
     "metadata": {},
     "output_type": "display_data"
    }
   ],
   "source": [
    "1e+308\n",
    "\n",
    "1e+309"
   ]
  },
  {
   "cell_type": "code",
   "execution_count": 32,
   "metadata": {},
   "outputs": [
    {
     "data": {
      "text/html": [
       "-1e+308"
      ],
      "text/latex": [
       "-1e+308"
      ],
      "text/markdown": [
       "-1e+308"
      ],
      "text/plain": [
       "[1] -1e+308"
      ]
     },
     "metadata": {},
     "output_type": "display_data"
    },
    {
     "data": {
      "text/html": [
       "-Inf"
      ],
      "text/latex": [
       "-Inf"
      ],
      "text/markdown": [
       "-Inf"
      ],
      "text/plain": [
       "[1] -Inf"
      ]
     },
     "metadata": {},
     "output_type": "display_data"
    }
   ],
   "source": [
    "-1e+308\n",
    "\n",
    "-1e+309"
   ]
  },
  {
   "cell_type": "markdown",
   "metadata": {},
   "source": [
    "## `NaN` balioak\n",
    "\n",
    "Ingelesezko esanahaia, *Not a Number*, hau da, ez dela zenbakizkoa. Kasu gehienetan indeterminazio matematikoa adierazteko erabiltzen da, adibidez:\n",
    " - $\\infty - \\infty$\n",
    " - $\\dfrac{0}{0}$\n",
    " - $0\\cdot\\infty$\n",
    " - ..."
   ]
  },
  {
   "cell_type": "code",
   "execution_count": 44,
   "metadata": {},
   "outputs": [
    {
     "data": {
      "text/html": [
       "NaN"
      ],
      "text/latex": [
       "NaN"
      ],
      "text/markdown": [
       "NaN"
      ],
      "text/plain": [
       "[1] NaN"
      ]
     },
     "metadata": {},
     "output_type": "display_data"
    },
    {
     "data": {
      "text/html": [
       "NaN"
      ],
      "text/latex": [
       "NaN"
      ],
      "text/markdown": [
       "NaN"
      ],
      "text/plain": [
       "[1] NaN"
      ]
     },
     "metadata": {},
     "output_type": "display_data"
    },
    {
     "data": {
      "text/html": [
       "NaN"
      ],
      "text/latex": [
       "NaN"
      ],
      "text/markdown": [
       "NaN"
      ],
      "text/plain": [
       "[1] NaN"
      ]
     },
     "metadata": {},
     "output_type": "display_data"
    }
   ],
   "source": [
    "Inf - Inf\n",
    "\n",
    "0 / 0\n",
    "\n",
    "0 * Inf"
   ]
  },
  {
   "cell_type": "markdown",
   "metadata": {},
   "source": [
    "Hala ere, `R`-k ez ditu indeterminazio matematiko guztiak horrela tratatzen:"
   ]
  },
  {
   "cell_type": "code",
   "execution_count": 45,
   "metadata": {},
   "outputs": [
    {
     "data": {
      "text/html": [
       "1"
      ],
      "text/latex": [
       "1"
      ],
      "text/markdown": [
       "1"
      ],
      "text/plain": [
       "[1] 1"
      ]
     },
     "metadata": {},
     "output_type": "display_data"
    },
    {
     "data": {
      "text/html": [
       "1"
      ],
      "text/latex": [
       "1"
      ],
      "text/markdown": [
       "1"
      ],
      "text/plain": [
       "[1] 1"
      ]
     },
     "metadata": {},
     "output_type": "display_data"
    }
   ],
   "source": [
    "1 ^ Inf\n",
    "\n",
    "0 ^ 0"
   ]
  }
 ],
 "metadata": {
  "kernelspec": {
   "display_name": "R",
   "language": "R",
   "name": "ir"
  },
  "language_info": {
   "codemirror_mode": "r",
   "file_extension": ".r",
   "mimetype": "text/x-r-source",
   "name": "R",
   "pygments_lexer": "r",
   "version": "3.5.0"
  }
 },
 "nbformat": 4,
 "nbformat_minor": 2
}
