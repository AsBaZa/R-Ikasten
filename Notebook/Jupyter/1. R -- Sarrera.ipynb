{
 "cells": [
  {
   "cell_type": "markdown",
   "metadata": {},
   "source": [
    "<img src=\"Rlogo.png\" style=\"width: 180px;\"/>\n",
    "`R` lengoaia 1993. urtean sortu zen programazio-lengoaia librea da, analisi estadistikora bideratuta dagoena. C programazio-lengoaian idatzita dago eta gaur egun ikerkuntzan eta datu meataritzan oso zabaldua eta erabilia da, pakete eta algoritmo desberdin asko gehitzen baitituzte komunitate ezberdinek eta eguneraketa konstanteak izaten dituztelako pakete garrantzitsuenek.\n",
    "\n",
    "Notebook sorta hauen helburua, `R` lengoaiaren sarrera eta ikuspuntu garrantzitsu batzuk aztertzea da eta ez da beharrezkoa programaketan jakitureia haundirik izatea.\n",
    "\n",
    "Gida honetarako, [Jupyter Notebook](http://jupyter.org/) erabiliko da. Ez da `R` erabiltzeko erarik efizienteena, baina kodea eta testua konbinatzeko gai da era sinple eta garbi batean. `R`-n era efizienteago baten programatzeko, pertsonalki [RStudio](https://www.rstudio.com/) erabiltzea gomendatzen dut."
   ]
  },
  {
   "cell_type": "markdown",
   "metadata": {},
   "source": [
    "# R-n Lehen Pausuak"
   ]
  },
  {
   "cell_type": "markdown",
   "metadata": {},
   "source": [
    " - `\"Hello, World!\"`"
   ]
  },
  {
   "cell_type": "markdown",
   "metadata": {},
   "source": [
    "Has gaitezen beraz `R`-ko lehen lerroa exekutatzen. Horretarako, hurrengo kode blokea klikatu eta `Ctrl+Enter` sakatu:"
   ]
  },
  {
   "cell_type": "code",
   "execution_count": null,
   "metadata": {},
   "outputs": [],
   "source": [
    "print(\"Hello, World!\")"
   ]
  },
  {
   "cell_type": "markdown",
   "metadata": {},
   "source": [
    "Kode lerroa exekutatzea lortu baldin badugu hurrengo irudiaren antzeko zerbait lortu beharko genuke:\n",
    "\n",
    "<img src=\"Hello World.png\" style=\"width: 1200px;\"/>\n",
    "\n",
    "`In [1]:`-k `R`-n exekutatu dugun lehen kode blokea dela esan nahi du, behin eta berriz exekutatzen baldin badugu aurreko kodea-lerroa, kortxete barruko zenbakia haunditzen doala ikusiko dugu. Hurrengo blokea exekutatzen baldin badugu `Hello, World` agertuko da berriro ere."
   ]
  },
  {
   "cell_type": "code",
   "execution_count": null,
   "metadata": {},
   "outputs": [],
   "source": [
    ".Last.value"
   ]
  },
  {
   "cell_type": "markdown",
   "metadata": {},
   "source": [
    "Izan ere `.Last.value` funtzioak, ingelesez bere izenak dioen bezala `R`-k jaurtitako azken aldagaiaren balioa erakusten du."
   ]
  },
  {
   "cell_type": "markdown",
   "metadata": {},
   "source": [
    "## Oinarrizko eragiketa matematikoak"
   ]
  },
  {
   "cell_type": "markdown",
   "metadata": {},
   "source": [
    "`R`, beste programazio-lengoaiak bezala, oinarrizko eragiketa matematikoak egiteko gai da:\n",
    "### Batuketak: \n",
    "`+`\n",
    "$$9 + 18=27$$"
   ]
  },
  {
   "cell_type": "code",
   "execution_count": null,
   "metadata": {},
   "outputs": [],
   "source": [
    "9 + 18"
   ]
  },
  {
   "cell_type": "markdown",
   "metadata": {},
   "source": [
    "### Kenketak:\n",
    "`-`\n",
    "$$20-4=16$$"
   ]
  },
  {
   "cell_type": "code",
   "execution_count": null,
   "metadata": {},
   "outputs": [],
   "source": [
    "20 - 4"
   ]
  },
  {
   "cell_type": "markdown",
   "metadata": {},
   "source": [
    "### Biderketak:\n",
    "`*`\n",
    "$$2\\cdot7=14$$"
   ]
  },
  {
   "cell_type": "code",
   "execution_count": null,
   "metadata": {},
   "outputs": [],
   "source": [
    "2 * 7"
   ]
  },
  {
   "cell_type": "markdown",
   "metadata": {},
   "source": [
    "### Zatiketak:\n",
    "`/`\n",
    "$$\\dfrac{27}{3} = 9$$"
   ]
  },
  {
   "cell_type": "code",
   "execution_count": null,
   "metadata": {},
   "outputs": [],
   "source": [
    "27 / 3"
   ]
  },
  {
   "cell_type": "markdown",
   "metadata": {},
   "source": [
    "### Berreketak:\n",
    "`**` edo `^`\n",
    "$$3^3=27$$"
   ]
  },
  {
   "cell_type": "code",
   "execution_count": null,
   "metadata": {},
   "outputs": [],
   "source": [
    "3 ** 3\n",
    "3 ^ 3"
   ]
  },
  {
   "cell_type": "markdown",
   "metadata": {},
   "source": [
    "### Erroketak:\n",
    "`**` edo `^`(Erroketak berreketa bezala idatz daitezkeela konturatu)\n",
    "\n",
    "$$\\sqrt{9}=9^{1/2}=3$$\n",
    "\n",
    "$$\\sqrt{9^3} = 9^{3/2}=27$$"
   ]
  },
  {
   "cell_type": "code",
   "execution_count": null,
   "metadata": {},
   "outputs": [],
   "source": [
    "9 ** (1/2)\n",
    "9 ^ (3/2)"
   ]
  },
  {
   "cell_type": "markdown",
   "metadata": {},
   "source": [
    "**Oharra:** *Matematiketan bezala, `R`-n ere eragiketa batzuk beste batzuk baino lehentasun handiagoa dute.*\n",
    " - Lehentasun handiena: Berreketak eta erroketak\n",
    " - Lehentasun ertaina: Biderketak eta zatiketak\n",
    " - Lehentasun baxua: Batuketak eta kenketak\n",
    "\n",
    "$$3+2\\cdot5=3+(2\\cdot5)=3+10=13$$\n",
    "\n",
    "$$2+4\\cdot6^2=2+(4\\cdot(6^2))=2+(4\\cdot36)=2+144=146$$"
   ]
  },
  {
   "cell_type": "code",
   "execution_count": null,
   "metadata": {},
   "outputs": [],
   "source": [
    "3 + 2 * 5\n",
    "2 + 4 * 6 ** 2"
   ]
  },
  {
   "cell_type": "markdown",
   "metadata": {},
   "source": [
    "**Gomendioa:** *`R`-ren barnean dauden lehentasunak jakin beharrean, parentesiak erabiltzea gomendatzen da, guk ziurtatzeko nahi dugun exekuzio lehentasuna.*"
   ]
  },
  {
   "cell_type": "code",
   "execution_count": null,
   "metadata": {},
   "outputs": [],
   "source": [
    "3 + (2 * 5)\n",
    "2 + (4 * (6 ** 2))"
   ]
  },
  {
   "cell_type": "markdown",
   "metadata": {},
   "source": [
    " >- **Ariketak:** egin hurrengo eragiketak:\n",
    "$$(5+3)\\cdot10^2$$\n",
    "$$(5+5)^{5+2}$$"
   ]
  },
  {
   "cell_type": "code",
   "execution_count": null,
   "metadata": {},
   "outputs": [],
   "source": [
    "#Idatzi lerro honen azpian lehenengo eragiketa:\n",
    "\n",
    "\n",
    "#Idatzi lerro honen azpian bigarren eragiketa:\n",
    "\n"
   ]
  },
  {
   "cell_type": "markdown",
   "metadata": {},
   "source": [
    "  >- **Emaitzak:**\n",
    "  $$800$$\n",
    "  $$1e+07=10.000.000$$"
   ]
  },
  {
   "cell_type": "markdown",
   "metadata": {},
   "source": [
    "### Modulua:\n",
    "\n",
    "`%%`\n",
    "\n",
    "Beste oinarrizko eragiketa bat, modulua da, hau da, zatiketa egiterakoan lortzen den **hondarra**.\n",
    "\n",
    "$$\\dfrac{9}{2}=4\\cdot2+1\\Rightarrow  9 \\mbox{ mod } 2\\equiv 1$$\n",
    "\n",
    "$$\\dfrac{14}{3}=4\\cdot3+2\\Rightarrow  14 \\mbox{ mod } 3\\equiv 2$$"
   ]
  },
  {
   "cell_type": "code",
   "execution_count": null,
   "metadata": {},
   "outputs": [],
   "source": [
    "9 %% 2\n",
    "14 %% 3"
   ]
  }
 ],
 "metadata": {
  "kernelspec": {
   "display_name": "R",
   "language": "R",
   "name": "ir"
  },
  "language_info": {
   "codemirror_mode": "r",
   "file_extension": ".r",
   "mimetype": "text/x-r-source",
   "name": "R",
   "pygments_lexer": "r",
   "version": "3.5.0"
  }
 },
 "nbformat": 4,
 "nbformat_minor": 2
}
