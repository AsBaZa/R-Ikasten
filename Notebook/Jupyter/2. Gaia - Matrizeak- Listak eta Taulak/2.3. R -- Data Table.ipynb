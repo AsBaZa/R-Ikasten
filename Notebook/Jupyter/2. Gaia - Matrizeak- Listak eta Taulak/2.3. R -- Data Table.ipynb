{
 "cells": [
  {
   "cell_type": "markdown",
   "metadata": {},
   "source": [
    "<img src=\"Images/Rlogo.png\"/>\n",
    "\n",
    "# Data Table-ak\n",
    "\n",
    "(Data Table-en inguruko informazio eta gida ofizialak: [data.table](https://github.com/Rdatatable/data.table/wiki/Getting-started))\n",
    "\n",
    "Aurreko atalean esan bezala, Data Table-ak, Data Frame-ak bezala datu-taulak dira funtsean. Sintaxi desberdina dute biek eta orokorrean Data Table-ak eraginkorragoak dira. Hala ere, ez da `R`-ren berezko funtzio bat eta ondorioz instalatu egin beharko da. \n",
    "\n",
    "***Koaderno hauek Binder bidez (online) jarraitzen ari direnek ez dute ezer ere ez instalatu behar.***\n",
    "\n",
    "Instalatzeko, aukera errazena hurrengo kodea exekutatzea da, `#` karakterea ezabatuz:"
   ]
  },
  {
   "cell_type": "code",
   "execution_count": null,
   "metadata": {},
   "outputs": [],
   "source": [
    "#install.packages(\"data.table\")"
   ]
  },
  {
   "cell_type": "markdown",
   "metadata": {},
   "source": [
    "Hala ere, zenbait kasutan Jupyter bidez paketeak instalatzea ez da posible izango eta ondorioz `R`-ko saio bat ireki beharko da eta kode berdina exekutatu:\n",
    "\n",
    "`install.packages(\"data.table\")`\n",
    "\n",
    "Normalean instalaziorako zerbitzari bat aukeratu beharko da (nahi dena aukeratu daiteke) eta aukeratutakoan instalatzen hasiko da.\n",
    "\n",
    "<img src=\"Images/install_packages.png\"/>\n",
    "\n",
    "Behin instalatuta baldin badugu, hurrengo kode lerroa exekutatuko dugu `data.table` paketea kargatzeko.\n",
    "\n",
    "*(Koaderno honetako atal asko Data Frame-eko berdinak dira, bien arteko antzekotasunak eta ezberdintasunak aztertzeko asmoarekin)*"
   ]
  },
  {
   "cell_type": "code",
   "execution_count": null,
   "metadata": {},
   "outputs": [],
   "source": [
    "library(\"data.table\")"
   ]
  },
  {
   "cell_type": "markdown",
   "metadata": {},
   "source": [
    "**Oharra:** *Ondo instalatu baldin badugu, aurreko lerroak ez du inongo errorerik eman behar, baina `Warning` bat itzul dezake `R`-ren bertsioari buruz. Hala ere, `Warning` horrek ez luke garrantzia handiegirik izan beharko momentuz.*\n",
    "\n",
    "Hasteko, `R`-k dakarren `mtcars` Data Frame-a, Data Table-ean bihurtuko dugu `data.table` edo `as.data.table` funtzioen bidez"
   ]
  },
  {
   "cell_type": "code",
   "execution_count": null,
   "metadata": {},
   "outputs": [],
   "source": [
    "DT <- data.table(mtcars)\n",
    "#DT <- as.data.table(mtcars)\n",
    "\n",
    "DT"
   ]
  },
  {
   "cell_type": "markdown",
   "metadata": {},
   "source": [
    "`class` funtzioa erabiltzen baldin badugu, Data Table-a, bere barnean Data Frame bat dela ikus dezakegu edota horren hobekuntza bat"
   ]
  },
  {
   "cell_type": "code",
   "execution_count": null,
   "metadata": {},
   "outputs": [],
   "source": [
    "class(DT)"
   ]
  },
  {
   "cell_type": "markdown",
   "metadata": {},
   "source": [
    "Aurreko atalean esan bezala, orokorrean oso garrantzitsua izaten da hurrengo egitura mantentzea Data Table-etan:\n",
    " - Zutabeetan aldagaiak\n",
    " - Errenkadetan elementuak\n",
    " \n",
    "Adibide honetan, ***aldagaiak***:\n",
    " - `mpg`, `cyl`, `disp`, `hp`, `drat`, `wt`, `qsec`, `vs`, `am`, `gear` eta `carb` dira.\n",
    " \n",
    "eta ***elementuak*** berriz kotxe markak:\n",
    " - Mazda RX4, Mazda RX4 Wag, Datsun 710...\n",
    " \n",
    "Aldagai bakoitzak bere esanahia du, adibidez `mpg` gasolina kontsumoa da (*miles per gallon*), `hp` zaldi-potentzia da (*horsepower*) eta `cyl` zilindro kopurua (*cylinders*). Taula horren informazio gehiago lortzeko hurrengo lerroa exekuta dezakegu:"
   ]
  },
  {
   "cell_type": "code",
   "execution_count": null,
   "metadata": {},
   "outputs": [],
   "source": [
    "?mtcars"
   ]
  },
  {
   "cell_type": "markdown",
   "metadata": {},
   "source": [
    "Taulen hasierako ideia bat egiteko, hurrengo 5 funtzioak erabili ditzakegu besteak beste:\n",
    " - `dim`: taularen dimentsioak ezagutzeko (elementu eta aldagai kopurua)\n",
    " - `names`: aldagaiak ezagutzeko\n",
    " - `summary`: taulako aldagai bakoitzaren laburpen bat egiten du, oinarrizko datu estatistiko batzuk emanez.\n",
    " - `head` / `tail`: hasierako/amaierako elementuak erakusteko\n",
    " - `str`: taularen egitura azaltzen du (dimentsioa, aldagaiak eta aldagai motak)"
   ]
  },
  {
   "cell_type": "code",
   "execution_count": null,
   "metadata": {},
   "outputs": [],
   "source": [
    "dim(DT)"
   ]
  },
  {
   "cell_type": "code",
   "execution_count": null,
   "metadata": {},
   "outputs": [],
   "source": [
    "names(DT)"
   ]
  },
  {
   "cell_type": "code",
   "execution_count": null,
   "metadata": {},
   "outputs": [],
   "source": [
    "summary(DT)"
   ]
  },
  {
   "cell_type": "code",
   "execution_count": null,
   "metadata": {},
   "outputs": [],
   "source": [
    "head(DT)"
   ]
  },
  {
   "cell_type": "code",
   "execution_count": null,
   "metadata": {},
   "outputs": [],
   "source": [
    "str(DT)"
   ]
  },
  {
   "cell_type": "markdown",
   "metadata": {},
   "source": [
    "Azter daitekeen bezala, funtzio batzuk informazio berdina edo antzekoa ematen dute, baina beharren eta kasuaren arabera horietako bat edo beste erabili daiteke. Adibide honetatik hurrengo informazioa atera daiteke:\n",
    " - 32 elementu\n",
    " - 11 aldagai\n",
    " - Aldagai guztiak zenbakizkoak (`num`)\n",
    " \n",
    "**Oharra:** *Data Table-ak EZ dituzte errenkaden izenak gordetzen, Data Frame-ak ez bezala. Beraz, errenkaden izenak mantentzea edo gordetzea nahi baldin bada Data Table batean, errazena zutabe bat sortzea da izen horiek gordetzeko.*"
   ]
  },
  {
   "cell_type": "code",
   "execution_count": null,
   "metadata": {},
   "outputs": [],
   "source": [
    "DT <- cbind(Izena = row.names(mtcars), data.table(mtcars))\n",
    "DT"
   ]
  },
  {
   "cell_type": "markdown",
   "metadata": {},
   "source": [
    "## Zutabeak, errenkadak eta elementuak aukeratzen\n",
    "\n",
    "Data Table-etako elementuak, matrizeetako elementuen era berdinean lor daitezke, hau da, `[]` erabiliz:"
   ]
  },
  {
   "cell_type": "code",
   "execution_count": null,
   "metadata": {},
   "outputs": [],
   "source": [
    "#1. zutabea\n",
    "DT[,1]"
   ]
  },
  {
   "cell_type": "code",
   "execution_count": null,
   "metadata": {},
   "outputs": [],
   "source": [
    "#20. errenkada\n",
    "DT[20,]"
   ]
  },
  {
   "cell_type": "markdown",
   "metadata": {},
   "source": [
    "Bestalde, zutabeak lortzeko beste bi metodo daude:\n",
    " - `[[]]`\n",
    " - `$` (Honetarako zutabeek izena izan behar dute)"
   ]
  },
  {
   "cell_type": "code",
   "execution_count": null,
   "metadata": {},
   "outputs": [],
   "source": [
    "#5. zutabea\n",
    "DT[[5]]"
   ]
  },
  {
   "cell_type": "code",
   "execution_count": null,
   "metadata": {},
   "outputs": [],
   "source": [
    "#'drat' zutabea\n",
    "DT[[\"drat\"]]"
   ]
  },
  {
   "cell_type": "code",
   "execution_count": null,
   "metadata": {},
   "outputs": [],
   "source": [
    "#'mpg' zutabea\n",
    "DT$mpg"
   ]
  },
  {
   "cell_type": "markdown",
   "metadata": {},
   "source": [
    "`data.table`-en kasuan, taula barnean aldagaiak zehazteko orduan ez da `\"\"` edota `$` erabili behar, `data.frame`-etan ez bezala."
   ]
  },
  {
   "cell_type": "code",
   "execution_count": null,
   "metadata": {},
   "outputs": [],
   "source": [
    "#'cyl' aldagaian 6 zenbakia duten elementuak\n",
    "DT[cyl == 6,]\n",
    "\n",
    "#DATA FRAME\n",
    "#mtcars[mtcars$cyl == 6,]\n",
    "#mtcars[mtcars[[\"cyl\"]] == 6,]"
   ]
  },
  {
   "cell_type": "code",
   "execution_count": null,
   "metadata": {},
   "outputs": [],
   "source": [
    "#'cyl' aldagaian 6 zenbakia eta 'hp' aldagaian 110 duten elementuak\n",
    "DT[cyl == 6 & hp == 110,]\n",
    "\n",
    "#DATA FRAME\n",
    "#mtcars[mtcars$cyl == 6 & mtcars$hp == 110,]\n",
    "#mtcars[mtcars[[\"cyl\"]] == 6 & mtcars[[\"hp\"]] == 110,]"
   ]
  },
  {
   "cell_type": "markdown",
   "metadata": {},
   "source": [
    "Beraz, esan daiteke sintaxi aldetik `data.table`-ak *garbiagoak* direla."
   ]
  },
  {
   "cell_type": "markdown",
   "metadata": {},
   "source": [
    " - **Oharra:** `DT$` idatzi ondoren TABULAZIO (`Tab`) botoia sakatu ezkero, erabilgarri dauden aldagaien lista agertuko da.\n",
    " \n",
    "<img src=\"Images/tab2.png\"/>\n",
    "\n",
    "Data Table-ean zutabe multzo batekin geratzea nahi baldin bada, aukera bat honakoa da:"
   ]
  },
  {
   "cell_type": "code",
   "execution_count": null,
   "metadata": {},
   "outputs": [],
   "source": [
    "DT[, .(mpg, cyl, am)]\n",
    "#edo\n",
    "#DT[, c(\"mpg\", \"cyl\", \"am\")]"
   ]
  },
  {
   "cell_type": "markdown",
   "metadata": {},
   "source": [
    "Data Table-ak, esan bezala beraien sintaxi propioa dute. Horren adibide da hurrengo kode-lerroa:"
   ]
  },
  {
   "cell_type": "code",
   "execution_count": null,
   "metadata": {},
   "outputs": [],
   "source": [
    "DT[,.SD,.SDcols = c(\"mpg\",\"cyl\",\"am\")]"
   ]
  },
  {
   "cell_type": "markdown",
   "metadata": {},
   "source": [
    "Kasu honetan, aurreko gauza berdina egiten ari gara, nahi diren zutabeak aukeratzen. Horretarako, Data Table-etan `.SD` eta `.SDcols` existitzen dira. `.SD`-k, *Subset Data* esan nahi du, hau da, datuen azpi-taula bat eratzeko balio du eta aukeratzea nahi diren zutabeak `.SDcols`-en definitzen dira. Aurrerago ikusiko da `.SD` eta `.SDcols`-en erabilera praktikoa."
   ]
  },
  {
   "cell_type": "markdown",
   "metadata": {},
   "source": [
    "Taulatik zutabe multzo bat ezabatzea nahi izanez gero aldiz:"
   ]
  },
  {
   "cell_type": "code",
   "execution_count": null,
   "metadata": {},
   "outputs": [],
   "source": [
    "DT[,-c(\"mpg\", \"cyl\", \"am\")]\n",
    "#edo\n",
    "#DT[,.SD,.SDcols = -c(\"mpg\",\"cyl\",\"am\")]"
   ]
  },
  {
   "cell_type": "markdown",
   "metadata": {},
   "source": [
    "**Oharra:** *Konturatu hurrengo kasuak desberdinak direla*"
   ]
  },
  {
   "cell_type": "code",
   "execution_count": null,
   "metadata": {},
   "outputs": [],
   "source": [
    "#Metodo hauen bidez BEKTORE bat sortzen da\n",
    "class(DT$mpg)\n",
    "DT$mpg\n",
    "#DT[[\"mpg\"]]\n",
    "#DT[,mpg]"
   ]
  },
  {
   "cell_type": "code",
   "execution_count": null,
   "metadata": {},
   "outputs": [],
   "source": [
    "#Metodo honen bidez DATA.FRAME bat sortzen da\n",
    "class(DT[,.(Izena)])\n",
    "DT[,.(Izena)]\n",
    "#DT[,1]"
   ]
  },
  {
   "cell_type": "markdown",
   "metadata": {},
   "source": [
    "## Faktoreak\n",
    "\n",
    "Koaderno honen hasieran esan bezala, Data Frame-en bidez zutabe bakoitza aldagai-mota ezberdinekoa izan daiteke. `mtcars`-en kasuan, ikusi den bezala zutabe guztiak zenbakizkoak edo numerikoak (`num`) dira, hala ere aldaketa batzuk egingo ditugu aurrerago.\n",
    "\n",
    "Azpi-atal honetan, **faktoreekin** sartuko gara, tauletan garrantzi berezia duten aldagai-mota. **Faktoreek** aukera finitu jakin bat eskaintzen dute eta aukera horietara mugatzen dira. Demagun adibidez inkesta batean azken astean telebista ikusi den edo ez galdetzen dela. Erantzun posibleak 2 dira:\n",
    " - BAI\n",
    " - EZ\n",
    " \n",
    "Kasu horretan aldagai hori faktore dikotomiko (2 aukera bakarrik eskaintzen dituelako) bezala adierazi daiteke, hau da, **aldagai horretako elementu guztiak** 2 aukera horietan bakarrik sailkatu daitezke, ez da hortik kanpora beste aukera posiblerik egongo. Hala ere, faktoreak ez dira 2 aukeratara mugatzen (dikotomikoak), demagun beste inkesta baten pelikula baten puntuazioa eskatzen dela eta baloratzeko balio posibleak 1,2,3,4 edo 5 direla. Kasu hori ere faktore bidez adierazteko aukera egongo zen, aukera posibleak ezagunak eta finituak (mugatuak) direlako.\n",
    "\n",
    "Hori horrela izanik, `mtcars` taulan ze aldagai kontsidera genezake faktoreetara pasatzeko egokiak? Data Frame-aren informazioa irakurtzen baldin badugu, hurrengo aldagaiak faktoreetara pasatzeko oso aproposak dira:\n",
    " - `vs`: V (motorra 'V' eran) edo S (motorra linean, *straight*)\n",
    " - `am`: A (martxa automatikoak) edo M (eskuzko martxak)\n",
    "\n",
    "Horietaz gain, beste 3 aldagai ere faktoreetara pasako ditugu:\n",
    " - `cyl`: zilindro kopurua (4,6 edo 8)\n",
    " - `gear`: martxa kopurua (3,4 edo 5)\n",
    " - `carb`: karburagailu kopurua (1,2,3,4,6 edo 8)\n",
    "\n",
    "*(Kontuz ibili behar da kasu hauetan zeren eta taulan elementu berriren bat sartzen baldin badugu, balio horietatik kanpo dagoen bat ager daiteke eta ondorioz errore bat jaurtiko digu `R`-k, hala ere hasierako analisi honetarako ez dugu hori kontutan izango)*\n",
    "\n",
    "Bihur ditzagun bada 5 aldagai horiek faktoreetan `factor` funtzioaren bidez"
   ]
  },
  {
   "cell_type": "code",
   "execution_count": null,
   "metadata": {},
   "outputs": [],
   "source": [
    "zutabeak <- c(\"vs\",\"am\",\"cyl\",\"gear\",\"carb\")\n",
    "DT[,(zutabeak) := lapply(.SD, factor), .SDcols = zutabeak]"
   ]
  },
  {
   "cell_type": "markdown",
   "metadata": {},
   "source": [
    "Goiko 2 lerroetan hurrengoa egin dugu:\n",
    " - Alde batetik, faktoreetara pasatzea nahi ditugun aldagaiak `zutabeak` bektorean gorde.\n",
    " - Bestetik, aldagai horiei `factor` funtzioa aplikatu zaie (`lapply`) zehaztutako zutabeetan `.SDcols`.\n",
    "\n",
    "\n",
    "Bisualki, datuak ez dira aldatzen"
   ]
  },
  {
   "cell_type": "code",
   "execution_count": null,
   "metadata": {},
   "outputs": [],
   "source": [
    "head(DT)"
   ]
  },
  {
   "cell_type": "markdown",
   "metadata": {},
   "source": [
    "Baina `R`-k datuak era ezberdinean kontsideratzen ditu, ikus dezagun bestela `summary` funtzioa:"
   ]
  },
  {
   "cell_type": "code",
   "execution_count": null,
   "metadata": {
    "scrolled": true
   },
   "outputs": [],
   "source": [
    "summary(DT)"
   ]
  },
  {
   "cell_type": "markdown",
   "metadata": {
    "slideshow": {
     "slide_type": "subslide"
    }
   },
   "source": [
    "Oraingoan faktore bilakatu ditugun aldagaiak desberdin ikusten dira. `cyl` aldagaian jartzen baldin badugu arreta, honako hau adieratzen digu:\n",
    " - `cyl` aldagaian `4` balioa duten 11 elementu daude.\n",
    " - `cyl` aldagaian `6` balioa duten 7 elementu daude.\n",
    " - `cyl` aldagaian `8` balioa duten 14 elementu daude.\n",
    "\n",
    "Eskaintzen digun informazioa, lehen eskaintzen ziguna baino dezente interesgarriagoa eta zehatzagoa da. `str`-ren bidez lortzen dugun informazioa ere aldatu egiten da."
   ]
  },
  {
   "cell_type": "code",
   "execution_count": null,
   "metadata": {},
   "outputs": [],
   "source": [
    "str(DT)"
   ]
  },
  {
   "cell_type": "markdown",
   "metadata": {},
   "source": [
    "### Abantailak\n",
    "\n",
    "Esan bezala, faktoreak, aldagai kategorikoak sortzeko balio dute eta horren bidez `R`-k kategoria edo taldeak desberdintzen ditu. Horren bidez, **GRAFIKOAK** egiterako orduan taldeka marraz ditzakegu era errazago baten. Hurrengo irudian adibidez, 3 [kaxa-diagrama](https://eu.wikipedia.org/wiki/Kaxa-diagrama) marraztu dira karburagailu kantitate bakoitzeko. Talde bakoitzeko kotxeek duten autonomia ikusteko:\n",
    "\n",
    "<img src=\"Images/box_plot.png\"/>\n",
    "\n",
    "Bestalde, hainbat analisi estatistikorako ere oso garrantzitsuak izaten dira, besteak beste ***erregresio linealetarako.***"
   ]
  },
  {
   "cell_type": "markdown",
   "metadata": {},
   "source": [
    "### Desabantailak\n",
    "\n",
    "Sor ditzakeen desabantailak hurrengoak dira besteak beste:\n",
    " - Taulak espazio gehiago behar du informazio hori gordetzeko\n",
    " - Prozesaketan denbora gehiago behar izaten du\n",
    " - Faktore horietatik kanpo dagoen balioren bat sartzean errorea ematen du"
   ]
  },
  {
   "cell_type": "markdown",
   "metadata": {},
   "source": [
    "## Zutabeak aldatzen eta sortzen\n",
    "\n",
    "Azpi-atal honetan zutabeen eraldaketak aztertuko ditugu. Konturatzen baldin bagara, ikusi dugu iada zutabeen aldaketa bat, aldagai bat faktore bilakatzekoa hain zuzen ere. Orokorrean, eraldaketak era berean egiten dira."
   ]
  },
  {
   "cell_type": "code",
   "execution_count": null,
   "metadata": {},
   "outputs": [],
   "source": [
    "DT <- cbind(Izena = row.names(mtcars), data.table(mtcars))\n",
    "\n",
    "#Kotxe guztiak automatiko bihurtuko ditugu\n",
    "DT[,am := 1] #Erarik naturalena\n",
    "#DT$am <- 1\n",
    "\n",
    "DT[,am]"
   ]
  },
  {
   "cell_type": "markdown",
   "metadata": {},
   "source": [
    "Alda dezagun orain 0 eta 1 aldagai dikotomikoa \"Eskuzko\" eta \"Automatiko\"-ra"
   ]
  },
  {
   "cell_type": "code",
   "execution_count": null,
   "metadata": {},
   "outputs": [],
   "source": [
    "DT <- cbind(Izena = row.names(mtcars), data.table(mtcars))\n",
    "\n",
    "#'am' aldagaian 0 balio dutenei \"Eskuzkoa\" eta 1 balioa dutenei \"Automatikoa\"\n",
    "#Hasteko, 'am' aldagaia faktoreetara edo karakteetara bihurtu behar da,\n",
    "#data.table-ek aldagai desberdinekin lan egitean erroreak jaurtitzen dituelako \n",
    "DT[, am := as.factor(am)] #DT[, am := as.character(am)]\n",
    "DT[, am := c(\"Eskuzkoa\",\"Automatikoa\")] #0 -> Eskuzkoa, 1 -> Automatikoa \n",
    "\n",
    "head(DT)"
   ]
  },
  {
   "cell_type": "markdown",
   "metadata": {},
   "source": [
    "Zutabe berria sortzeko, izena eta eman nahi zaion balioa bakarrik zehaztu behar dugu:"
   ]
  },
  {
   "cell_type": "code",
   "execution_count": null,
   "metadata": {},
   "outputs": [],
   "source": [
    "DT <- cbind(Izena = row.names(mtcars), data.table(mtcars))\n",
    "\n",
    "#'bat' zutabea sortzen 1 balioekin\n",
    "DT[, bat := 1] #Erarik naturalena\n",
    "#DT[[\"bat\"]] <- 1\n",
    "#DT$bat <- 1  \n",
    "\n",
    "#'mpg_bider10' aldagaia sortzen 'mpg' aldagaia 10 zenbakiarekin bidertuz\n",
    "DT[, mpg_bider10 := mpg * 10] #Erarik naturalena\n",
    "#DT$mpg_bider10 <- DT$mpg * 10\n",
    "\n",
    "head(DT)"
   ]
  },
  {
   "cell_type": "markdown",
   "metadata": {},
   "source": [
    "Matrizeen atalean ikusitako `cbind` eta `rbind` funtzioak ere erabili daitezke tauleri zutabeak eta errenkadak atxikitzeko hurrenez hurren."
   ]
  },
  {
   "cell_type": "markdown",
   "metadata": {},
   "source": [
    "## Taulak zutabeka ordenatzen\n",
    "\n",
    "Taulak zutabearen arabera nola ordenatu ikusiko dugu `order` funtzioaren bidez, horretarako, lehendabizi `order` funtzioa bektoreetan probatuko dugu:"
   ]
  },
  {
   "cell_type": "code",
   "execution_count": null,
   "metadata": {},
   "outputs": [],
   "source": [
    "x <- c(1,4,6,347,13,4,134,123,3)\n",
    "\n",
    "order(x)"
   ]
  },
  {
   "cell_type": "markdown",
   "metadata": {},
   "source": [
    "Lortutako emaitza arraro samarra egin daiteke, baina azaldutakoan erraz ulertzen da:\n",
    " - 1 . elementua `a` bektoreko 1. elementua da: 1\n",
    " - 2 . elementua `a` bektoreko 9. elementua da: 3\n",
    " - 3 . elementua `a` bektoreko 2. elementua da: 4\n",
    " - 4 . elementua `a` bektoreko 6. elementua da: 4\n",
    " - ...\n",
    " - 9 . elementua `a` bektoreko 4. elementua da: 347\n",
    " \n",
    "Beraz, balio horiek `a` bektoreari aplikatuz gero, nahi dena lortuko da:"
   ]
  },
  {
   "cell_type": "code",
   "execution_count": null,
   "metadata": {},
   "outputs": [],
   "source": [
    "x <- c(1,4,6,347,13,4,134,123,3)\n",
    "\n",
    "x[order(x)]"
   ]
  },
  {
   "cell_type": "markdown",
   "metadata": {},
   "source": [
    "Era berean ordenatzen ditu karaktere-kateak ere:"
   ]
  },
  {
   "cell_type": "code",
   "execution_count": null,
   "metadata": {},
   "outputs": [],
   "source": [
    "x <- c(\"Euria\",\"Elurra\",\"E\",\"Eskua\",\"Geruza\", \"Gerezi\")\n",
    "\n",
    "x[order(x)]"
   ]
  },
  {
   "cell_type": "markdown",
   "metadata": {},
   "source": [
    "Hori horrela dela ikusirik, emaitza horiek tauletara pasatzea falta zaigu:"
   ]
  },
  {
   "cell_type": "code",
   "execution_count": null,
   "metadata": {},
   "outputs": [],
   "source": [
    "DT <- cbind(Izena = row.names(mtcars), data.table(mtcars))\n",
    "\n",
    "#'mpg' aldagaiaren arabera ordenatuko dugu\n",
    "DT <- DT[order(mpg),]\n",
    "head(DT)"
   ]
  },
  {
   "cell_type": "markdown",
   "metadata": {},
   "source": [
    "Ordenatzeko era aldatzea nahi baldin badugu, hau da, handitik txikira `order(..., decreasing = TRUE)` erabili beharko da"
   ]
  },
  {
   "cell_type": "code",
   "execution_count": null,
   "metadata": {},
   "outputs": [],
   "source": [
    "DT <- cbind(Izena = row.names(mtcars), data.table(mtcars))\n",
    "\n",
    "#'mpg' aldagaiaren arabera ordenatuko dugu\n",
    "DT <- DT[order(mpg, decreasing = TRUE),]\n",
    "head(DT)"
   ]
  },
  {
   "cell_type": "markdown",
   "metadata": {},
   "source": [
    "## Data Table-ak sortzen eta inportatzen\n",
    "Amaitzeko, Data Table-ak nola sortu eta inportatu ikusiko da. Arraroa baldin badirudi ere atal hau koadernoaren amaieran aurkitzea, kasu honetan garrantzia gehiago eman zaio taulen erabilerari. Data Table-ak sortzeko, `data.table` funtzioa erabiliko dugu. Funtzio horrek aukera ezberdin ugari ditu, baina oraingo hontan era sinpleenetarikoena aztertuko da:"
   ]
  },
  {
   "cell_type": "code",
   "execution_count": null,
   "metadata": {},
   "outputs": [],
   "source": [
    "data.table(\"Aldagaia1\" = 1:3, \"Aldagaia2\" = 3:1, \"Aldagaia3\" = c(\"A\",\"B\",\"C\"))"
   ]
  },
  {
   "cell_type": "markdown",
   "metadata": {},
   "source": [
    "Azter daitekeen bezala, taulen zatirik funtsezkoena aldagaiei ***izenak*** eta ***balioak*** ematea da. ***Izenak*** ezkerreko aldean jartzen dira `\"\"` komatxo artean eta ***balioak*** `=` ikurraren ondoren."
   ]
  },
  {
   "cell_type": "code",
   "execution_count": null,
   "metadata": {},
   "outputs": [],
   "source": [
    "data.table(\"Urtea\" = 2018, \"Hilabetea\" = c(\"Urtarrila\", \"Otsaila\", \"Martxoa\"), \"Egun_kopurua\" = c(31,28,31))"
   ]
  },
  {
   "cell_type": "markdown",
   "metadata": {},
   "source": [
    "Bestalde, datuak inportatzeko garaian, datuak ze formatutan gordeta dauden jakin beharko da: \n",
    " - xls, txt, csv...\n",
    " \n",
    "Hemen, *csv* (*comma separated values*) formatuko datuak nola inportatu aztertuko da. Horretarako, `data.table`-ek berez dakarren `fread` funtzioa erabili daiteke:"
   ]
  },
  {
   "cell_type": "code",
   "execution_count": null,
   "metadata": {},
   "outputs": [],
   "source": [
    "DT <- fread(\"adibide.csv\")\n",
    "class(DT)\n",
    "DT"
   ]
  },
  {
   "cell_type": "markdown",
   "metadata": {},
   "source": [
    "## Ariketak:\n",
    "`R`-k berez dakarren beste taula bat `airquality` da, gogoratu taula horren inguruko informazio gehiago izateko hurrengo lerroa exekutatu daitekeela."
   ]
  },
  {
   "cell_type": "code",
   "execution_count": null,
   "metadata": {},
   "outputs": [],
   "source": [
    "?airquality"
   ]
  },
  {
   "cell_type": "markdown",
   "metadata": {},
   "source": [
    "`airquality` taula `df` aldagaian gordeko dugu eta ariketak eta egin beharreko aldaketak `df` Data Frame-ean egingo dira"
   ]
  },
  {
   "cell_type": "code",
   "execution_count": null,
   "metadata": {},
   "outputs": [],
   "source": [
    "DT <- data.table(airquality)"
   ]
  },
  {
   "cell_type": "markdown",
   "metadata": {},
   "source": [
    "Taula horrekin, hurrengo ariketak proposatzen dira:"
   ]
  },
  {
   "cell_type": "code",
   "execution_count": null,
   "metadata": {},
   "outputs": [],
   "source": [
    "#Kalkulatu taularen DIMENTSIOAK (elementu kopurua eta aldagai kopurua)\n",
    "\n",
    "\n",
    "#Egin taularen LABURPEN (summary) taula bat datuen nondik norakoa ezagutzeko\n",
    "\n"
   ]
  },
  {
   "cell_type": "code",
   "execution_count": null,
   "metadata": {},
   "outputs": [],
   "source": [
    "#Zenbat egunetan izan ziren 80ºF baino gehiago?\n",
    "\n"
   ]
  },
  {
   "cell_type": "markdown",
   "metadata": {},
   "source": [
    "Sortu `Temp_Celsius` aldagai berria tenperatura ºC-tan gordetzen duena, ºF izan beharrean (taulan ºF-tan ageri da). Fahrenheit-Celsius aldaketaren formula hurrengoa dela jakinik:\n",
    "\n",
    "$$Celsius = \\dfrac{Fahrenheit - 32}{1.8}$$"
   ]
  },
  {
   "cell_type": "code",
   "execution_count": null,
   "metadata": {},
   "outputs": [],
   "source": [
    "#Sortu 'Temp_Celsius' aldagai berria 'Temp' aldagaia ºC-tan gordetzen duena\n",
    "\n"
   ]
  },
  {
   "cell_type": "markdown",
   "metadata": {},
   "source": [
    "# Erabilitako funtzio berriak:\n",
    "\n",
    " - `data.table`\n",
    " - `fread`\n",
    " - `summary`\n",
    " - `head`\n",
    " - `tail`\n",
    " - `str`\n",
    " - `subset`\n",
    " - `factor`\n",
    " - `order`"
   ]
  }
 ],
 "metadata": {
  "hide_input": false,
  "kernelspec": {
   "display_name": "R",
   "language": "R",
   "name": "ir"
  },
  "language_info": {
   "codemirror_mode": "r",
   "file_extension": ".r",
   "mimetype": "text/x-r-source",
   "name": "R",
   "pygments_lexer": "r",
   "version": "3.5.0"
  },
  "toc": {
   "nav_menu": {},
   "number_sections": true,
   "sideBar": true,
   "skip_h1_title": true,
   "toc_cell": false,
   "toc_position": {},
   "toc_section_display": "block",
   "toc_window_display": false
  }
 },
 "nbformat": 4,
 "nbformat_minor": 2
}
