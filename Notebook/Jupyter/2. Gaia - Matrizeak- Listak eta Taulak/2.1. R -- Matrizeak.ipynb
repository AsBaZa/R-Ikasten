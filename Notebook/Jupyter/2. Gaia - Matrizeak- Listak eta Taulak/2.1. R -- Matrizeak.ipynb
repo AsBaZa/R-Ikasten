{
 "cells": [
  {
   "cell_type": "markdown",
   "metadata": {},
   "source": [
    "<img src=\"Images/Rlogo.png\"/>\n",
    "\n",
    "# Matrizeak\n",
    "Lehenengo zatia ulertzea eta amaitzea lortu baldin badugu, oinarrizko kontzeptuak barneratzea lortu dugu, bide onetik goaz. 2. atal honetan gauza konplexuagoekin arituko gara, `R`-ren objektu eta aukera desberdinak aztertzen. Atal honi hasiera emateko, [**matrizeak**](https://eu.wikipedia.org/wiki/Matrize) aztertuko ditugu. Matrizeak, *2 dimentsioko* bektore bezala kontsidera daitezke. Garrantzia berezia dute matematika eta informatika munduan besteak beste, eta era desberdinetakoak izan daitezkeen arren gure kasuan **zenbakizko matrizeetan** zentratuko gara.\n",
    "\n",
    "$$\n",
    "M =\n",
    "  \\begin{bmatrix}\n",
    "    1 & 3 & 5 \\\\\n",
    "    2 & 4 & 6 \n",
    "  \\end{bmatrix} =\n",
    "  \\begin{bmatrix}\n",
    "    m_{11} & m_{12} & m_{13} \\\\\n",
    "    m_{21} & m_{22} & m_{23} \n",
    "  \\end{bmatrix}\n",
    "$$\n",
    "\n",
    "**Oharra:** *Koaderno honetan matrizeen inguruko puntu batzuk azalduko dira, baina ikaslearen esku geratuko da matrizeen inguruko oinarrizko propietateak eta eragiketak ezagutzea.*\n",
    "\n",
    "Hasteko beraz, sor dezagun goiko $M$ matrizea `matrix` funtzioaren bitartez"
   ]
  },
  {
   "cell_type": "code",
   "execution_count": null,
   "metadata": {},
   "outputs": [],
   "source": [
    "M <- matrix(c(1,2,3,4,5,6), nrow = 2, ncol = 3)\n",
    "\n",
    "print(M)"
   ]
  },
  {
   "cell_type": "markdown",
   "metadata": {},
   "source": [
    "Gogoratu $M$ matrizea $2\\times3$-ko matrize bat dela, ondorioz `matrix` funtzioan hori zehaztu dugu, bektore bat hartu eta matrize bilakatu dugu adierazitako errenkada (`nrow`) eta zutabeekin (`ncol`):\n",
    "\n",
    "$$\n",
    "c(1,2,3,4,5,6)\\Longrightarrow\n",
    "  \\begin{bmatrix}\n",
    "    1 & 3 & 5 \\\\\n",
    "    2 & 4 & 6 \n",
    "  \\end{bmatrix}\n",
    "$$\n",
    "\n",
    "Hala ere, konturatzen baldin bagara, `matrix` funtzioan informazio bat soberan dugu, bektorearen luzeera jakin ezkero `nrow` edo `ncol` bietako bat jakitzearekin nahiko delako:\n",
    " - `nrow` zehazten den momentuan `ncol` finkatuta geratzen da\n",
    " - `ncol` zehazten den momentuan `nrow` finkatuta geratzen da"
   ]
  },
  {
   "cell_type": "code",
   "execution_count": null,
   "metadata": {},
   "outputs": [],
   "source": [
    "M <- matrix(1:6, nrow = 2)\n",
    "\n",
    "print(M)"
   ]
  },
  {
   "cell_type": "code",
   "execution_count": null,
   "metadata": {},
   "outputs": [],
   "source": [
    "M <- matrix(1:6, ncol = 3)\n",
    "\n",
    "print(M)"
   ]
  },
  {
   "cell_type": "markdown",
   "metadata": {},
   "source": [
    "Konturatuko ginen bezala, `matrix`-ek bektorea zutabeka betetzen du, hau da, lehendabizi zutabe bat betezen du bektoreko elementuekin eta betetakoan hurrengo zutabera egiten du salto. Hori aldatzea nahi izanez gero, `byrow = TRUE` (errenkadaka) parametroa ezarri beharko da:\n",
    "\n",
    "$$\n",
    "c(1,2,3,4,5,6)\\Longrightarrow\n",
    "  \\begin{bmatrix}\n",
    "    1 & 2 & 3 \\\\\n",
    "    4 & 5 & 6 \n",
    "  \\end{bmatrix}\n",
    "$$"
   ]
  },
  {
   "cell_type": "code",
   "execution_count": null,
   "metadata": {},
   "outputs": [],
   "source": [
    "M <- matrix(1:6, ncol = 3, byrow = TRUE)\n",
    "\n",
    "print(M)"
   ]
  },
  {
   "cell_type": "markdown",
   "metadata": {},
   "source": [
    "Espero daitekeen bezala, bektorearen eta sortzea nahi den matrizearen tamaina ez badira bateragarriak, `R`-k `Warning` mezu bat jaurtiko digu. Hala ere, matrizea sortuko du bektoreko elementuak **birziklatuz** matrizea bete arte."
   ]
  },
  {
   "cell_type": "code",
   "execution_count": null,
   "metadata": {},
   "outputs": [],
   "source": [
    "M <- matrix(1:7, ncol = 3, byrow = TRUE)\n",
    "\n",
    "print(M)"
   ]
  },
  {
   "cell_type": "markdown",
   "metadata": {},
   "source": [
    "Era berean, matrizeak sor ditzakegu bektore desberdinak konbinatuz `c()` funtzioaren bidez:"
   ]
  },
  {
   "cell_type": "code",
   "execution_count": null,
   "metadata": {},
   "outputs": [],
   "source": [
    "bat <- c(1,1,1,1)\n",
    "bi <- c(2,2,2,2)\n",
    "hiru <- c(3,3,3,3)\n",
    "\n",
    "M <- matrix(c(bat,bi,hiru), ncol = 4, byrow = TRUE)\n",
    "\n",
    "print(M)"
   ]
  },
  {
   "cell_type": "markdown",
   "metadata": {},
   "source": [
    "Bestalde, matrize baten tamaina jakitea nahi baldin bada, besteak beste hurrengo hiru funtzioak erabili daitezke:\n",
    " - `dim`: tamaina jakitzeko (bi zenbakiko bektore bat itzuliko du)\n",
    " - `nrow`: errenkada kopurua itzuliko du\n",
    " - `ncol`: zutabe kopurua itzuliko du"
   ]
  },
  {
   "cell_type": "code",
   "execution_count": null,
   "metadata": {},
   "outputs": [],
   "source": [
    "dim(M)\n",
    "\n",
    "nrow(M)\n",
    "\n",
    "ncol(M)"
   ]
  },
  {
   "cell_type": "markdown",
   "metadata": {},
   "source": [
    "## Elementuak aukeratzen \n",
    "Matrizeen elementuak aukeratzeko forma nahiko intuitiboa da, `[,]` bidez egiten da, nahi den errenkada eta zutabea aukeratuz\n",
    "\n",
    "$$M =\n",
    "  \\begin{bmatrix}\n",
    "    1 & 3 & 5 \\\\\n",
    "    2 & 4 & 6 \n",
    "  \\end{bmatrix} =\n",
    "  \\begin{bmatrix}\n",
    "    m_{11} & m_{12} & m_{13} \\\\\n",
    "    m_{21} & m_{22} & m_{23} \n",
    "  \\end{bmatrix}\n",
    "$$"
   ]
  },
  {
   "cell_type": "code",
   "execution_count": null,
   "metadata": {},
   "outputs": [],
   "source": [
    "M <- matrix(1:6, nrow = 2)\n",
    "\n",
    "print(M)"
   ]
  },
  {
   "cell_type": "markdown",
   "metadata": {},
   "source": [
    " - $m_{11}$ elementua aukeratzen"
   ]
  },
  {
   "cell_type": "code",
   "execution_count": null,
   "metadata": {},
   "outputs": [],
   "source": [
    "M[1,1]"
   ]
  },
  {
   "cell_type": "markdown",
   "metadata": {},
   "source": [
    " - $m_{13}$ elementua aukeratzen"
   ]
  },
  {
   "cell_type": "code",
   "execution_count": null,
   "metadata": {},
   "outputs": [],
   "source": [
    "M[1,3]"
   ]
  },
  {
   "cell_type": "markdown",
   "metadata": {},
   "source": [
    " - 1. zutabea aukeratzen"
   ]
  },
  {
   "cell_type": "code",
   "execution_count": null,
   "metadata": {},
   "outputs": [],
   "source": [
    "M[,1]"
   ]
  },
  {
   "cell_type": "markdown",
   "metadata": {},
   "source": [
    " - 1 . eta 3 . zutabeak aukeratzen"
   ]
  },
  {
   "cell_type": "code",
   "execution_count": null,
   "metadata": {},
   "outputs": [],
   "source": [
    "M[,c(1,3)]"
   ]
  },
  {
   "cell_type": "markdown",
   "metadata": {},
   "source": [
    " - 2  . errenkada aukeratzen"
   ]
  },
  {
   "cell_type": "code",
   "execution_count": null,
   "metadata": {},
   "outputs": [],
   "source": [
    "M[2,]"
   ]
  },
  {
   "cell_type": "markdown",
   "metadata": {},
   "source": [
    "## Matrizeen arteko eragiketak\n",
    "Azpi-atal honetan matrizeen arteko oinarrizko eragiketa batzuk ikusiko ditugu. Kontutan hartu, orokorrean `R`-k **elementuz elementuko** eragiketak egiten dituela.\n",
    "\n",
    " - **Batuketa**\n",
    "  - Marko teorikoan, bi matrize batzeko biak tamainu berekoak izan behar dira\n",
    "  \n",
    "$$\n",
    "M + N =\n",
    "  \\begin{bmatrix}\n",
    "    1 & 3 & 5 \\\\\n",
    "    2 & 4 & 6 \n",
    "  \\end{bmatrix} +\n",
    "  \\begin{bmatrix}\n",
    "    1 & 1 & 1 \\\\\n",
    "    2 & 2 & 2 \n",
    "  \\end{bmatrix} =\n",
    "  \\begin{bmatrix}\n",
    "    2 & 4 & 6 \\\\\n",
    "    4 & 6 & 8 \n",
    "  \\end{bmatrix}\n",
    "$$"
   ]
  },
  {
   "cell_type": "code",
   "execution_count": null,
   "metadata": {},
   "outputs": [],
   "source": [
    "M <- matrix(1:6, nrow = 2)\n",
    "N <- matrix(c(1,1,1,2,2,2), nrow = 2, byrow = TRUE)\n",
    "\n",
    "print(M + N)"
   ]
  },
  {
   "cell_type": "markdown",
   "metadata": {},
   "source": [
    "Baina bektoreetan bezala, matrizeetan ere **BIRZIKLAPEN** araua betetzen da.\n",
    "\n",
    "$$\n",
    "M + 1 =\n",
    "  \\begin{bmatrix}\n",
    "    1 & 3 & 5 \\\\\n",
    "    2 & 4 & 6 \n",
    "  \\end{bmatrix} +\n",
    "  1 :=\n",
    "  \\begin{bmatrix}\n",
    "    2 & 4 & 6 \\\\\n",
    "    3 & 5 & 7 \n",
    "  \\end{bmatrix}\n",
    "$$"
   ]
  },
  {
   "cell_type": "code",
   "execution_count": null,
   "metadata": {},
   "outputs": [],
   "source": [
    "print(M + 1)"
   ]
  },
  {
   "cell_type": "markdown",
   "metadata": {},
   "source": [
    "Matrize eta bektoreen arteko batuketa, era estandarrean zutabe bidez egiten du, birziklapen araua aplikatuz:\n",
    "\n",
    "$$\n",
    "  \\begin{bmatrix}\n",
    "    1 & 3 & 5 \\\\\n",
    "    2 & 4 & 6 \n",
    "  \\end{bmatrix} +\n",
    "  c(1,2,3)\n",
    "  \\Longrightarrow\n",
    "  c(1,2,3,4,5,6)+c(1,2,3)=c(2,4,6,5,7,9)\\Longrightarrow\n",
    "  \\begin{bmatrix}\n",
    "    2 & 6 & 7 \\\\\n",
    "    4 & 5 & 9 \n",
    "  \\end{bmatrix}\n",
    "$$\n"
   ]
  },
  {
   "cell_type": "code",
   "execution_count": null,
   "metadata": {},
   "outputs": [],
   "source": [
    "print(M + c(1,2,3))"
   ]
  },
  {
   "cell_type": "markdown",
   "metadata": {},
   "source": [
    "Zutabe bidez egin beharrean, errenkadaka egitea nahi izanez gero, aukera erraz bat `sweep` funtzioa erabiltzea da. Funtzioan hurrengo elementuak sartzen dira:\n",
    " - 1 . elementua: Matrizea\n",
    " - 2 . elementua: Eragiketa egiteko forma ('1' zutabeka, '2' errenkadaka)\n",
    " - 3 . elementua: bektorea\n",
    " - 4 . elementua: Egin nahi den eragiketa (batuketa, kenketa, biderketa...)"
   ]
  },
  {
   "cell_type": "code",
   "execution_count": null,
   "metadata": {},
   "outputs": [],
   "source": [
    "print(  sweep(M, 2, c(1,2,3), \"+\")  )"
   ]
  },
  {
   "cell_type": "markdown",
   "metadata": {},
   "source": [
    " - **Kenketa, zatiketa, biderketa, berreketa**\n",
    "  - Aurrerago esan bezalala, `R`-n era estandarrean **elementuz elementu** egiten dira eragiketak eta **birziklapen araua** betetzen da.\n",
    "  \n",
    "$$\n",
    "M * N =\n",
    "  \\begin{bmatrix}\n",
    "    1 & 3 & 5 \\\\\n",
    "    2 & 4 & 6 \n",
    "  \\end{bmatrix} *\n",
    "  \\begin{bmatrix}\n",
    "    1 & 1 & 1 \\\\\n",
    "    2 & 2 & 2 \n",
    "  \\end{bmatrix} :=\n",
    "  \\begin{bmatrix}\n",
    "    1 & 3 & 5 \\\\\n",
    "    4 & 8 & 12 \n",
    "  \\end{bmatrix}\n",
    "$$"
   ]
  },
  {
   "cell_type": "code",
   "execution_count": null,
   "metadata": {},
   "outputs": [],
   "source": [
    "M <- matrix(1:6, nrow = 2)\n",
    "N <- matrix(c(1,1,1,2,2,2), nrow = 2, byrow = TRUE)\n",
    "\n",
    "print(M * N)"
   ]
  },
  {
   "cell_type": "markdown",
   "metadata": {},
   "source": [
    "$$\n",
    "M\\ /\\ N =\n",
    "  \\begin{bmatrix}\n",
    "    1 & 3 & 5 \\\\\n",
    "    2 & 4 & 6 \n",
    "  \\end{bmatrix} /\n",
    "  \\begin{bmatrix}\n",
    "    1 & 1 & 1 \\\\\n",
    "    2 & 2 & 2 \n",
    "  \\end{bmatrix} :=\n",
    "  \\begin{bmatrix}\n",
    "    1 & 3 & 5 \\\\\n",
    "    1 & 2 & 3 \n",
    "  \\end{bmatrix}\n",
    "$$"
   ]
  },
  {
   "cell_type": "code",
   "execution_count": null,
   "metadata": {},
   "outputs": [],
   "source": [
    "M <- matrix(1:6, nrow = 2)\n",
    "N <- matrix(c(1,1,1,2,2,2), nrow = 2, byrow = TRUE)\n",
    "\n",
    "print(M / N)"
   ]
  },
  {
   "cell_type": "markdown",
   "metadata": {},
   "source": [
    "$$\n",
    "M^2 =\n",
    "  \\begin{bmatrix}\n",
    "    1 & 3 & 5 \\\\\n",
    "    2 & 4 & 6 \n",
    "  \\end{bmatrix}^2 :=\n",
    "  \\begin{bmatrix}\n",
    "    1 & 9 & 25 \\\\\n",
    "    4 & 16 & 36 \n",
    "  \\end{bmatrix}\n",
    "$$"
   ]
  },
  {
   "cell_type": "code",
   "execution_count": null,
   "metadata": {},
   "outputs": [],
   "source": [
    "M <- matrix(1:6, nrow = 2)\n",
    "\n",
    "print(M^2)"
   ]
  },
  {
   "cell_type": "markdown",
   "metadata": {},
   "source": [
    "## Matrize biderketa\n",
    "Matrizeen arteko biderketa egitea nahi baldin bada `%*%` erabili behar da `R`-n.\n",
    "\n",
    "$$\n",
    "M \\cdot N =\n",
    "  \\begin{bmatrix}\n",
    "    1 & 3 & 5 \\\\\n",
    "    2 & 4 & 6 \n",
    "  \\end{bmatrix}  \\cdot\n",
    "  \\begin{bmatrix}\n",
    "    1 & 1 \\\\\n",
    "    2 & 2 \\\\\n",
    "    3 & 3\n",
    "  \\end{bmatrix}  =\n",
    "  \\begin{bmatrix}\n",
    "    22 & 22 \\\\\n",
    "    28 & 28 \n",
    "  \\end{bmatrix}\n",
    "$$\n",
    "\n",
    "**Oharra:** *Gogoratu matrizeen arteko biderketa egiteko matrizeen tamainak egokiak izan behar direla, hau da, $M$ eta $N$ matrizeen tamainak $m_1\\times m_2$ eta $n_1\\times n_2$ badira hurrenez hurren, biderketa matriziala egiteko hurrengoa bete behar da:*\n",
    "\n",
    "$$m_2 = n_1$$\n",
    "\n",
    "*baldintza hori betetzen ez baldin bada, errore bat jaurtiko digu. Adibideko kasuan $m_2 = n_1 = 3$ denez ez dago arazorik eta lortzen den emaitzaren tamaina $m_1\\times n_2$ da (Adibideko emaitzaren tamaina $2\\times2$).*"
   ]
  },
  {
   "cell_type": "code",
   "execution_count": null,
   "metadata": {},
   "outputs": [],
   "source": [
    "M <- matrix(1:6, nrow = 2)\n",
    "N <- matrix(1:3, nrow =3, ncol = 2) #Matrize hau birziklapen bidez sortzen du\n",
    "\n",
    "print(M %*% N)"
   ]
  },
  {
   "cell_type": "code",
   "execution_count": null,
   "metadata": {},
   "outputs": [],
   "source": [
    "#Hurrengoak errorea emango digu ez delako aipatutako baldintza betetzen\n",
    "print(M %*% M)"
   ]
  },
  {
   "cell_type": "markdown",
   "metadata": {},
   "source": [
    "### Matrize potentziak\n",
    "Matrize potentziak kalkulatzea nahi baldin badira\n",
    "$$M^5=M\\cdot M\\cdot M\\cdot M\\cdot M$$\n",
    "biderketa matrizialaren antzera `%^%` erabili behar da. Kasu honetan ordea, hori erabiltzeko lehendabizi `expm` paketea instalatu beharko da `install.packages(\"expm\")`.\n",
    "\n",
    "**Oharra:** *Paketeak instalatzeko orduan Jupyter-ek arazoak eman ditzake, hala bada, `R`-n bertan instalatzea gomendatzen da. Instalatzeko, hurrengo lerroko `#` karakterea ezabatu.*"
   ]
  },
  {
   "cell_type": "code",
   "execution_count": null,
   "metadata": {},
   "outputs": [],
   "source": [
    "#install.packages(\"expm\")"
   ]
  },
  {
   "cell_type": "markdown",
   "metadata": {},
   "source": [
    "eta behin instalatutakoan paketea kargatu beharko da:"
   ]
  },
  {
   "cell_type": "code",
   "execution_count": null,
   "metadata": {},
   "outputs": [],
   "source": [
    "library(expm)"
   ]
  },
  {
   "cell_type": "markdown",
   "metadata": {},
   "source": [
    "Behin instalatuta eta kargatuta dugularik `expm` paketea, erabiltzeko prest gaude. Kontutan izan potentziak aplikatzeko matrizeak ***karratuak*** izan behar direla."
   ]
  },
  {
   "cell_type": "code",
   "execution_count": null,
   "metadata": {},
   "outputs": [],
   "source": [
    "M <- matrix(c(22,28), nrow = 2, ncol = 2)\n",
    "M %^% 5"
   ]
  },
  {
   "cell_type": "markdown",
   "metadata": {},
   "source": [
    "**Nota**: *`expm` paketearen bidez, matrize-eragiketa desberdinak egiteko aukera ematen digu: matrize erro karratua, matrize logaritmoa... *\n",
    "\n",
    "*Informazio gehiago: [expm Manual](https://cran.r-project.org/web/packages/expm/expm.pdf)*"
   ]
  },
  {
   "cell_type": "markdown",
   "metadata": {},
   "source": [
    "## Matrizeko elementuak batzen: zutabeka eta errenkadaka\n",
    "Matrizeen arteko eragiketak ikusi ondoren, matrizeen barneko eragiketetan sartuko gara pare bat gauza ikusteko: matrizeen elementuen batuketa.\n",
    "\n",
    "Matrize bateko elementu guztien batuketa kalkulatzea nahi baldin badugu, iada ezaguna den `sum` funtzioa erabili dezakegu:"
   ]
  },
  {
   "cell_type": "code",
   "execution_count": null,
   "metadata": {},
   "outputs": [],
   "source": [
    "M <- matrix(1:6, nrow = 2)\n",
    "sum(M)"
   ]
  },
  {
   "cell_type": "markdown",
   "metadata": {},
   "source": [
    "Gure helburua errenkada edo zutabeko elementuen batura kalkulatzea baldin bada berriz, `for` baten bidez egin dezakegu:\n",
    " - Errenkadaka"
   ]
  },
  {
   "cell_type": "code",
   "execution_count": null,
   "metadata": {},
   "outputs": [],
   "source": [
    "for (i in 1:nrow(M)){\n",
    "    print(sum(M[i,]))\n",
    "}"
   ]
  },
  {
   "cell_type": "markdown",
   "metadata": {},
   "source": [
    " - Zutabeka"
   ]
  },
  {
   "cell_type": "code",
   "execution_count": null,
   "metadata": {},
   "outputs": [],
   "source": [
    "for (i in 1:ncol(M)){\n",
    "    print(sum(M[,i]))\n",
    "} "
   ]
  },
  {
   "cell_type": "markdown",
   "metadata": {},
   "source": [
    "Hala ere, beste modu efizienteago bat gauza berdina egiteko, `rowSums` eta `colSums` funtzioak erabiltzea da, emaitza bektore forman itzultzen digularik."
   ]
  },
  {
   "cell_type": "code",
   "execution_count": null,
   "metadata": {},
   "outputs": [],
   "source": [
    "rowSums(M)\n",
    "\n",
    "colSums(M)"
   ]
  },
  {
   "cell_type": "markdown",
   "metadata": {},
   "source": [
    "## Errenkadak/Zutabeak gehitzen\n",
    "Aurrean dugun problemaren arabera, batzuetan matrizeari errenkada edo/eta zutabeak gehitzea beharko da, baita bi matrize elkartzea ere. Kasu horietarako bi funtzio daude bereziki `rbind` eta `cbind` (errenkadak eta zutabeak gehitzeko hurrenez hurren). Ikus ditzagun hurrengo adibideak:"
   ]
  },
  {
   "cell_type": "code",
   "execution_count": null,
   "metadata": {},
   "outputs": [],
   "source": [
    "M <- matrix(1:6, nrow = 2)\n",
    "\n",
    "print(rbind(M, M))"
   ]
  },
  {
   "cell_type": "code",
   "execution_count": null,
   "metadata": {},
   "outputs": [],
   "source": [
    "print(cbind(M, M))"
   ]
  },
  {
   "cell_type": "markdown",
   "metadata": {},
   "source": [
    "Funtzio horiek errorerik ez emateko, lotzen diren matrizeak/bektoreak errenkada kopuru berdina izan beharko dute `rbind` erabiltzeko eta zutabe kopuru berdina `cbind` erabiltzeko. Hala ere, matrize--bektore lotzean **birziklapen araua** eman daiteke."
   ]
  },
  {
   "cell_type": "code",
   "execution_count": null,
   "metadata": {},
   "outputs": [],
   "source": [
    "print(cbind(M,1))"
   ]
  },
  {
   "cell_type": "markdown",
   "metadata": {},
   "source": [
    "## Matrizeen errenkada eta zutabeei izenak ematen\n",
    "Matrizeen zutabeei eta errenkadaei izenak atxikitzeko forma bat ikusiko dugu:\n",
    " - Errenkadentzako (`rownames`)"
   ]
  },
  {
   "cell_type": "code",
   "execution_count": null,
   "metadata": {},
   "outputs": [],
   "source": [
    "M <- matrix(1:6, nrow = 2)\n",
    "\n",
    "rownames(M) <- c(\"E1\",\"E2\")\n",
    "\n",
    "print(M)"
   ]
  },
  {
   "cell_type": "markdown",
   "metadata": {},
   "source": [
    " - Zutabeentzako (`colnames`)"
   ]
  },
  {
   "cell_type": "code",
   "execution_count": null,
   "metadata": {},
   "outputs": [],
   "source": [
    "colnames(M) <- c(\"Z1\",\"Z2\",\"Z3\")\n",
    "\n",
    "print(M)"
   ]
  },
  {
   "cell_type": "markdown",
   "metadata": {},
   "source": [
    "Behin zutabeen eta errenkaden izenak definiturik ditugula, nahi dugun elementuari deitzeko erabil dezakegu:"
   ]
  },
  {
   "cell_type": "code",
   "execution_count": null,
   "metadata": {},
   "outputs": [],
   "source": [
    "print(M[\"E1\",])"
   ]
  },
  {
   "cell_type": "code",
   "execution_count": null,
   "metadata": {},
   "outputs": [],
   "source": [
    "print(M[\"E2\",\"Z3\"])"
   ]
  },
  {
   "cell_type": "markdown",
   "metadata": {},
   "source": [
    "## Matrizeen inguruko funtzio gehiago\n",
    "Koaderno honen helburua matrizeen inguruko sarrera bat ematea denez, ez da gehiegi sakontzerik nahi matrizeekin. Hala ere, interesaturik dagoen irakurlearentzat, hurrengo link honetan matrizeen inguruko funtzio gehiago aurki daitezke:\n",
    " - [Quick-R: Matrix Algebra](https://www.statmethods.net/advstats/matrix.html)"
   ]
  },
  {
   "cell_type": "markdown",
   "metadata": {},
   "source": [
    "# Erabilitako funtzio berriak:\n",
    " - `matrix`\n",
    " - `dim`\n",
    " - `nrow`\n",
    " - `ncol`\n",
    " - `sweep`\n",
    " - `rowSums`\n",
    " - `colSums`\n",
    " - `rbind`\n",
    " - `cbind`\n",
    " - `rownames`\n",
    " - `colnames`"
   ]
  }
 ],
 "metadata": {
  "hide_input": false,
  "kernelspec": {
   "display_name": "R",
   "language": "R",
   "name": "ir"
  },
  "language_info": {
   "codemirror_mode": "r",
   "file_extension": ".r",
   "mimetype": "text/x-r-source",
   "name": "R",
   "pygments_lexer": "r",
   "version": "3.5.0"
  },
  "toc": {
   "nav_menu": {},
   "number_sections": true,
   "sideBar": true,
   "skip_h1_title": true,
   "toc_cell": false,
   "toc_position": {},
   "toc_section_display": "block",
   "toc_window_display": false
  }
 },
 "nbformat": 4,
 "nbformat_minor": 2
}
