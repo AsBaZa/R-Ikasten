{
 "cells": [
  {
   "cell_type": "markdown",
   "metadata": {},
   "source": [
    "<img src=\"Images/Rlogo.png\"/>\n",
    "\n",
    "# 2. Gaia: Ariketen Soluzioak\n"
   ]
  },
  {
   "cell_type": "markdown",
   "metadata": {},
   "source": [
    "## 2.1 Matrizeak"
   ]
  },
  {
   "cell_type": "code",
   "execution_count": null,
   "metadata": {},
   "outputs": [],
   "source": [
    "#Sortu 'A' matrizea\n",
    "\n",
    "A <- matrix(c(1:4,rep(1,4),10:7), nrow = 3, byrow = T)\n",
    "#Sortu 'B' matrizea\n",
    "\n",
    "B <- matrix(seq(1,15,2), nrow = 4, byrow = T)\n",
    "#Kalkulatu 'A'-ren 3. errenkada eta 'B'-ren 1. zutabearen arteko batuketa\n",
    "#Batuketa hori elementuz elementu egin behar da\n",
    "\n",
    "A[3,] + B[,1]\n",
    "#Kalkulatu A*B biderketa MATRIZIALA\n",
    "\n",
    "A %*% B"
   ]
  },
  {
   "cell_type": "markdown",
   "metadata": {},
   "source": [
    "## 2.2 Data Frame"
   ]
  },
  {
   "cell_type": "code",
   "execution_count": null,
   "metadata": {},
   "outputs": [],
   "source": [
    "df <- airquality"
   ]
  },
  {
   "cell_type": "code",
   "execution_count": null,
   "metadata": {},
   "outputs": [],
   "source": [
    "#Kalkulatu taularen DIMENTSIOAK (elementu kopurua eta aldagai kopurua)\n",
    "\n",
    "dim(df)\n",
    "#Egin taularen LABURPEN (summary) taula bat datuen nondik norakoa ezagutzeko\n",
    "\n",
    "summary(df)"
   ]
  },
  {
   "cell_type": "code",
   "execution_count": null,
   "metadata": {},
   "outputs": [],
   "source": [
    "#Zenbat egunetan izan ziren 80ºF baino gehiago?\n",
    "\n",
    "sum(df$Temp > 80)\n",
    "#TRUE/FALSE bektore baten, 'sum' funtzioak TRUE-ak kontatzen ditu\n",
    "#izan ere, TRUE=1 eta FALSE=0 bezala kontsideratzen ditu.\n",
    "\n",
    "#Beste aukera bat:\n",
    "nrow(df[df$Temp > 80,])"
   ]
  },
  {
   "cell_type": "code",
   "execution_count": null,
   "metadata": {},
   "outputs": [],
   "source": [
    "#Sortu 'Temp_Celsius' aldagai berria 'Temp' aldagaia ºC-tan gordetzen duena\n",
    "\n",
    "df$Temp_Celsius <- (df$Temp - 32) / 1.8"
   ]
  },
  {
   "cell_type": "markdown",
   "metadata": {},
   "source": [
    "## 2.3 Data Table"
   ]
  },
  {
   "cell_type": "code",
   "execution_count": null,
   "metadata": {},
   "outputs": [],
   "source": [
    "library(data.table)\n",
    "DT <- data.table(airquality)"
   ]
  },
  {
   "cell_type": "code",
   "execution_count": null,
   "metadata": {},
   "outputs": [],
   "source": [
    "#Kalkulatu taularen DIMENTSIOAK (elementu kopurua eta aldagai kopurua)\n",
    "\n",
    "dim(DT)\n",
    "#Egin taularen LABURPEN (summary) taula bat datuen nondik norakoa ezagutzeko\n",
    "\n",
    "summary(DT)"
   ]
  },
  {
   "cell_type": "code",
   "execution_count": null,
   "metadata": {},
   "outputs": [],
   "source": [
    "#Zenbat egunetan izan ziren 80ºF baino gehiago?\n",
    "\n",
    "sum(DT$Temp > 80)\n",
    "#TRUE/FALSE bektore baten, 'sum' funtzioak TRUE-ak kontatzen ditu\n",
    "#izan ere, TRUE=1 eta FALSE=0 bezala kontsideratzen ditu.\n",
    "\n",
    "#Beste aukera bat:\n",
    "nrow(DT[Temp > 80,])"
   ]
  },
  {
   "cell_type": "code",
   "execution_count": null,
   "metadata": {},
   "outputs": [],
   "source": [
    "#Sortu 'Temp_Celsius' aldagai berria 'Temp' aldagaia ºC-tan gordetzen duena\n",
    "\n",
    "DT[,Temp_Celsius := (Temp - 32) / 1.8]"
   ]
  },
  {
   "cell_type": "markdown",
   "metadata": {},
   "source": [
    "## 2.4 Listak"
   ]
  },
  {
   "cell_type": "code",
   "execution_count": null,
   "metadata": {},
   "outputs": [],
   "source": [
    "#Sortu 'zerrenda' lista\n",
    "\n",
    "zerrenda <- list(Bektorea = seq(0,30,5), Data_Frame = mtcars, Letrak = LETTERS)"
   ]
  },
  {
   "cell_type": "code",
   "execution_count": null,
   "metadata": {},
   "outputs": [],
   "source": [
    "#Aukeratu 'zerrenda'-ko 1. elementua\n",
    "\n",
    "zerrenda$Bektorea\n",
    "#Sortu 1. elementuarekin azpi-lista bat\n",
    "\n",
    "zerrenda[\"Bektorea\"]"
   ]
  },
  {
   "cell_type": "code",
   "execution_count": null,
   "metadata": {},
   "outputs": [],
   "source": [
    "#Aukeratu 'zerrenda'-ko 2. elementuaren 3. zutabea\n",
    "#(zutabearen izena 'disp' da)\n",
    "\n",
    "#Aukera desberdinak daude, besteak beste:\n",
    "zerrenda$Data_Frame[[3]] \n",
    "zerrenda$Data_Frame$disp"
   ]
  },
  {
   "cell_type": "code",
   "execution_count": null,
   "metadata": {},
   "outputs": [],
   "source": [
    "#Aukeratu 'zerrenda'-ko 3. elementuaren 13. elementua\n",
    "\n",
    "zerrenda[[3]][13]"
   ]
  }
 ],
 "metadata": {
  "kernelspec": {
   "display_name": "R",
   "language": "R",
   "name": "ir"
  },
  "language_info": {
   "codemirror_mode": "r",
   "file_extension": ".r",
   "mimetype": "text/x-r-source",
   "name": "R",
   "pygments_lexer": "r",
   "version": "3.5.0"
  }
 },
 "nbformat": 4,
 "nbformat_minor": 2
}
