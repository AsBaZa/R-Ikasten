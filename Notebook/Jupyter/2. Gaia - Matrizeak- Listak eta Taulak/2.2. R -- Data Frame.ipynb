{
 "cells": [
  {
   "cell_type": "markdown",
   "metadata": {},
   "source": [
    "<img src=\"Images/Rlogo.png\"/>\n",
    "\n",
    "# Data Frame-ak\n",
    "\n",
    "Kurtso honen hasieran esan bezala, `R` estatistikara eta grafikoetara bideratutiko programazio-lengoaia da eta horretarako, argi dagoen bezala datuak behar dira. Aldi berean, datuak forma eta mota askotakoak izan daitezke eta ahal den neurrian datu horiek egituratzea eta ordenatzea oso interesgarria izango da analisirako. Hor sartzen dira jokoan hain zuzen ere **Data Frame**-ak.\n",
    "\n",
    "**Data Frame**-ak, datu taulak dira, matrize egitura dutelarik. Seguraski, gaur egun taulak sortzeko erabiltzen den programarik ezagunenetakoena **Microsoft Excel** izango da. Bertan gauza desberdin asko egin daitezkeen arren, programaren funtsa taulekin lana egitea da.\n",
    "\n",
    "Esan bezala, **Data Frame**-ak matrize itxurako taulak dira, baina askoz moldagarriagoak eta eraginkorragoak kasu askotan. **Data Frame**-etan, zutabe bakoitzak formatu ezberdin bat izan dezake (karaktere-kateak, zenbakiak, aldagai logikoak, faktoreak...) eta matrizeetan hori ez da posible.\n",
    "\n",
    "Sarrera honen ondoren, has gaitezen adibide bat ikusten.\n",
    "\n",
    " - **OHAR GARRANTZITSUA:** *Data Frame-ak, `R`-n taulak sortzeko era estandarra eta oinarrizkoa da, baina hala ere azkarragoa eta eraginkorragoa den beste bat existitzen da: **Data Table**-a. Data Table-ak hurrengo koadernoan azaltzen dira eta sintaxi aldetik desberdintasunak daude. Funtsean biak dira Data Frame-ak, baina esan bezala sintaxi ezberdina dute eta Data Table-ak eraginkorragoak dira orokorrean.*\n",
    " \n",
    " *Beraz, irakurleak hurrengo galdera egin dezake: zein ikastea da gomendagarriagoa? Galdera honek ez du erantzun zehatzik, baina nire gomendioa biak ikastea da. Hala ere, blog eta diskusio askotan bietako bat ikastekotan **Data Table**-ak ikastea gomendatzen da orokorrean, aurretik aipatutako arrazoiengatik.*\n",
    " >- [data.table vs. data.frame](https://www.analyticsvidhya.com/blog/2016/05/data-table-data-frame-work-large-data-sets/)\n",
    " >- [What is the practical difference between data.frame and data.table in R](https://stackoverflow.com/questions/18001120/what-is-the-practical-difference-between-data-frame-and-data-table-in-r)\n",
    " \n",
    "Ohar horren ondoren, **Data Frame**-ekin hasiko gara. Horretarako, `R`-k berez dakarren `mtcars` taula erabiliko dugu."
   ]
  },
  {
   "cell_type": "code",
   "execution_count": null,
   "metadata": {},
   "outputs": [],
   "source": [
    "mtcars"
   ]
  },
  {
   "cell_type": "markdown",
   "metadata": {},
   "source": [
    "Orokorrean, oso garrantzitsua izaten da hurrengo egitura mantentzea Data Frame-etan:\n",
    " - Zutabeetan ***aldagaiak***\n",
    " - Errenkadetan ***elementuak***\n",
    " \n",
    "Adibide honetan, ***aldagaiak***:\n",
    " - `mpg`, `cyl`, `disp`, `hp`, `drat`, `wt`, `qsec`, `vs`, `am`, `gear` eta `carb` dira.\n",
    " \n",
    "eta ***elementuak*** berriz kotxe markak:\n",
    " - Mazda RX4, Mazda RX4 Wag, Datsun 710...\n",
    " \n",
    "Aldagai bakoitzak bere esanahia du, adibidez `mpg` gasolina kontsumoa da (*miles per gallon*), `hp` zaldi-potentzia da (*horsepower*) eta `cyl` zilindro kopurua (*cylinders*). Taula horren informazio gehiago lortzeko hurrengo lerroa exekuta dezakegu:"
   ]
  },
  {
   "cell_type": "code",
   "execution_count": null,
   "metadata": {},
   "outputs": [],
   "source": [
    "?mtcars"
   ]
  },
  {
   "cell_type": "markdown",
   "metadata": {},
   "source": [
    "Taulen hasierako ideia bat egiteko, hurrengo 5 funtzioak erabili ditzazkegu besteak beste:\n",
    " - `dim`: taularen dimentsioak ezagutzeko (elementu eta aldagai kopurua)\n",
    " - `names`: aldagaiak ezagutzeko\n",
    " - `summary`: taulako aldagai bakoitzaren laburpen bat egiten du, oinarrizko datu estatistiko batzuk emanez.\n",
    " - `head` / `tail`: hasierako/amaierako elementuak erakusteko\n",
    " - `str`: taularen egitura azaltzen du (dimentsioa, aldagaiak eta aldagai motak)"
   ]
  },
  {
   "cell_type": "code",
   "execution_count": null,
   "metadata": {},
   "outputs": [],
   "source": [
    "dim(mtcars)"
   ]
  },
  {
   "cell_type": "code",
   "execution_count": null,
   "metadata": {},
   "outputs": [],
   "source": [
    "names(mtcars)"
   ]
  },
  {
   "cell_type": "code",
   "execution_count": null,
   "metadata": {},
   "outputs": [],
   "source": [
    "summary(mtcars)"
   ]
  },
  {
   "cell_type": "code",
   "execution_count": null,
   "metadata": {},
   "outputs": [],
   "source": [
    "head(mtcars)"
   ]
  },
  {
   "cell_type": "code",
   "execution_count": null,
   "metadata": {},
   "outputs": [],
   "source": [
    "str(mtcars)"
   ]
  },
  {
   "cell_type": "markdown",
   "metadata": {},
   "source": [
    "Azter daitekeen bezala, funtzio batzuk informazio berdina edo antzekoa ematen dute, baina beharren eta kasuaren arabera horietako bat edo beste erabili daiteke. Adibide honetatik hurrengo informazioa atera daiteke:\n",
    " - 32 elementu\n",
    " - 11 aldagai\n",
    " - Aldagai guztiak zenbakizkoak (`num`)"
   ]
  },
  {
   "cell_type": "markdown",
   "metadata": {},
   "source": [
    "## Zutabeak, errenkadak eta elementuak aukeratzen\n",
    "\n",
    "Data Frame-etako elementuak, matrizeetako elementuen era berdinean lor daitezke, hau da, `[]` erabiliz:"
   ]
  },
  {
   "cell_type": "code",
   "execution_count": null,
   "metadata": {},
   "outputs": [],
   "source": [
    "#1. zutabea\n",
    "mtcars[,1]"
   ]
  },
  {
   "cell_type": "code",
   "execution_count": null,
   "metadata": {},
   "outputs": [],
   "source": [
    "#20. errenkada\n",
    "mtcars[20,]"
   ]
  },
  {
   "cell_type": "code",
   "execution_count": null,
   "metadata": {},
   "outputs": [],
   "source": [
    "#'Datsun 710' kotxearen zaldi-potentzia ('hp')\n",
    "mtcars[\"Datsun 710\",\"hp\"]"
   ]
  },
  {
   "cell_type": "markdown",
   "metadata": {},
   "source": [
    "Bestalde, zutabeak lortzeko beste bi metodo daude:\n",
    " - `[[]]`\n",
    " - `$` (Honetarako zutabeek izena izan behar dute)"
   ]
  },
  {
   "cell_type": "code",
   "execution_count": null,
   "metadata": {},
   "outputs": [],
   "source": [
    "#5. zutabea\n",
    "mtcars[[5]]"
   ]
  },
  {
   "cell_type": "code",
   "execution_count": null,
   "metadata": {},
   "outputs": [],
   "source": [
    "#'drat' zutabea\n",
    "mtcars[[\"drat\"]]"
   ]
  },
  {
   "cell_type": "code",
   "execution_count": null,
   "metadata": {},
   "outputs": [],
   "source": [
    "#'mpg' zutabea\n",
    "mtcars$mpg"
   ]
  },
  {
   "cell_type": "markdown",
   "metadata": {},
   "source": [
    "`$` metodoa oso erabilgarria izaten da balio zehatz bat duten elementuak aukeratzeko orduan, adibidez:"
   ]
  },
  {
   "cell_type": "code",
   "execution_count": null,
   "metadata": {},
   "outputs": [],
   "source": [
    "#'cyl' aldagaian 6 zenbakia duten elementuak\n",
    "mtcars[mtcars$cyl == 6,]"
   ]
  },
  {
   "cell_type": "code",
   "execution_count": null,
   "metadata": {},
   "outputs": [],
   "source": [
    "#'cyl' aldagaian 6 zenbakia eta 'hp' aldagaian 110 duten elementuak\n",
    "mtcars[mtcars$cyl == 6 & mtcars$hp == 110,]"
   ]
  },
  {
   "cell_type": "code",
   "execution_count": null,
   "metadata": {},
   "outputs": [],
   "source": [
    "#'cyl' aldagaian 6 zenbakia eta 'hp' aldagaian 110 duten elementuak\n",
    "#Erakutsi 'wt' eta 'drat' aldagaiak bakarrik\n",
    "mtcars[mtcars$cyl == 6 & mtcars$hp == 110, c(\"wt\",\"drat\")]"
   ]
  },
  {
   "cell_type": "markdown",
   "metadata": {},
   "source": [
    " - **Oharra:** `mtcars$` idatzi ondoren TABULAZIO (`Tab`) botoia sakatu ezkero, erabilgarri dauden aldagaien lista agertuko da.\n",
    " \n",
    "<img src=\"Images/tab.png\"/>\n",
    "\n",
    "Data Frame-ean zutabe multzo batekin geratzea edo nahi baldin bada `subset` funtzioa erabili daiteke:"
   ]
  },
  {
   "cell_type": "code",
   "execution_count": null,
   "metadata": {},
   "outputs": [],
   "source": [
    "df <- subset(mtcars, select = c(mpg, cyl, am))\n",
    "\n",
    "head(df)"
   ]
  },
  {
   "cell_type": "markdown",
   "metadata": {},
   "source": [
    "Taulatik zutabe multzo bat ezabatzea nahi izanez gero aldiz `subset` erabiltzerakoan, `select`-en partean `-` ikurra erabiliko dugu:"
   ]
  },
  {
   "cell_type": "code",
   "execution_count": null,
   "metadata": {},
   "outputs": [],
   "source": [
    "df <- subset(mtcars, select = -c(mpg, cyl, am))\n",
    "\n",
    "head(df)"
   ]
  },
  {
   "cell_type": "markdown",
   "metadata": {},
   "source": [
    "**Oharra:** *Konturatu hurrengo kasuak desberdinak direla*"
   ]
  },
  {
   "cell_type": "code",
   "execution_count": null,
   "metadata": {},
   "outputs": [],
   "source": [
    "#Metodo hauen bidez BEKTORE bat sortzen da\n",
    "class(mtcars$mpg)\n",
    "mtcars$mpg\n",
    "#mtcars[[\"mpg\"]]\n",
    "#mtcars[,\"mpg\"]"
   ]
  },
  {
   "cell_type": "code",
   "execution_count": null,
   "metadata": {},
   "outputs": [],
   "source": [
    "#Metodo honen bidez DATA.FRAME bat sortzen da\n",
    "class(mtcars[\"mpg\"])\n",
    "mtcars[\"mpg\"]"
   ]
  },
  {
   "cell_type": "markdown",
   "metadata": {},
   "source": [
    "## Faktoreak\n",
    "\n",
    "Koaderno honen hasieran esan bezala, Data Frame-en bidez zutabe bakoitza aldagai-mota ezberdinekoa izan daiteke. `mtcars`-en kasuan, ikusi den bezala zutabe guztiak zenbakizkoak edo numerikoak (`num`) dira, hala ere aldaketa batzuk egingo ditugu aurrerago.\n",
    "\n",
    "Azpi-atal honetan, **faktoreekin** sartuko gara, tauletan garrantzi berezia duten aldagai-mota. **Faktoreek** aukera finitu jakin bat eskaintzen dute eta aukera horietara mugatzen dira. Demagun adibidez inkesta batean azken astean telebista ikusi den edo ez galdetzen dela. Erantzun posibleak 2 dira:\n",
    " - BAI\n",
    " - EZ\n",
    " \n",
    "Kasu horretan aldagai hori faktore dikotomiko (2 aukera bakarrik eskaintzen dituelako) bezala adierazi daiteke, hau da, **aldagai horretako elementu guztiak** 2 aukera horietan bakarrik sailkatu daitezke, ez da hortik kanpora beste aukera posiblerik egongo. Hala ere, faktoreak ez dira 2 aukeratara mugatzen (dikotomikoak), demagun beste inkesta baten pelikula baten puntuazioa eskatzen dela eta baloratzeko balio posibleak 1,2,3,4 edo 5 direla. Kasu hori ere faktore bidez adierazteko aukera egongo zen, aukera posibleak ezagunak eta finituak (mugatuak) direlako.\n",
    "\n",
    "Hori horrela izanik, `mtcars` taulan ze aldagai kontsidera genezake faktoreetara pasatzeko egokiak? Data Frame-aren informazioa irakurtzen baldin badugu, hurrengo aldagaiak faktoreetara pasatzeko oso aproposak dira:\n",
    " - `vs`: V (motorra 'V' eran) edo S (motorra linean, *straight*)\n",
    " - `am`: A (martxa automatikoak) edo M (eskuzko martxak)\n",
    "\n",
    "Horietaz gain, beste 3 aldagai ere faktoreetara pasako ditugu:\n",
    " - `cyl`: zilindro kopurua (4,6 edo 8)\n",
    " - `gear`: martxa kopurua (3,4 edo 5)\n",
    " - `carb`: karburagailu kopurua (1,2,3,4,6 edo 8)\n",
    "\n",
    "*(Kontuz ibili behar da kasu hauetan zeren eta taulan elementu berriren bat sartzen baldin badugu, balio horietatik kanpo dagoen bat ager daiteke eta ondorioz errore bat jaurtiko digu `R`-k, hala ere hasierako analisi honetarako ez dugu hori kontutan izango)*\n",
    "\n",
    "Bihur ditzagun bada 5 aldagai horiek faktoreetan `factor` funtzioaren bidez"
   ]
  },
  {
   "cell_type": "code",
   "execution_count": null,
   "metadata": {},
   "outputs": [],
   "source": [
    "df <- mtcars\n",
    "\n",
    "for (i in c(\"vs\",\"am\",\"cyl\",\"gear\",\"carb\")){\n",
    "    df[[i]] <- factor(df[[i]])\n",
    "}"
   ]
  },
  {
   "cell_type": "markdown",
   "metadata": {},
   "source": [
    "Bisualki, datuak ez dira aldatzen"
   ]
  },
  {
   "cell_type": "code",
   "execution_count": null,
   "metadata": {},
   "outputs": [],
   "source": [
    "head(df)"
   ]
  },
  {
   "cell_type": "markdown",
   "metadata": {},
   "source": [
    "Baina `R`-k datuak era ezberdinean kontsideratzen ditu, ikus dezagun bestela `summary` funtzioa:"
   ]
  },
  {
   "cell_type": "code",
   "execution_count": null,
   "metadata": {
    "scrolled": true
   },
   "outputs": [],
   "source": [
    "summary(df)"
   ]
  },
  {
   "cell_type": "markdown",
   "metadata": {
    "slideshow": {
     "slide_type": "subslide"
    }
   },
   "source": [
    "Oraingoan faktore bilakatu ditugun aldagaiak desberdin ikusten dira. `cyl` aldagaian jartzen baldin badugu arreta, honako hau adieratzen digu:\n",
    " - `cyl` aldagaian `4` balioa duten 11 elementu daude.\n",
    " - `cyl` aldagaian `6` balioa duten 7 elementu daude.\n",
    " - `cyl` aldagaian `8` balioa duten 14 elementu daude.\n",
    "\n",
    "Eskaintzen digun informazioa, lehen eskaintzen ziguna baino dezente interesgarriagoa eta zehatzagoa da. `str`-ren bidez lortzen dugun informazioa ere aldatu egiten da."
   ]
  },
  {
   "cell_type": "code",
   "execution_count": null,
   "metadata": {},
   "outputs": [],
   "source": [
    "str(df)"
   ]
  },
  {
   "cell_type": "markdown",
   "metadata": {},
   "source": [
    "### Abantailak\n",
    "\n",
    "Esan bezala, faktoreak, aldagai kategorikoak sortzeko balio dute eta horren bidez `R`-k kategoria edo taldeak desberdintzen ditu. Horren bidez, **GRAFIKOAK** egiterako orduan taldeka marraz ditzakegu era errazago baten. Hurrengo irudian adibidez, 3 [kaxa-diagrama](https://eu.wikipedia.org/wiki/Kaxa-diagrama) marraztu dira karburagailu kantitate bakoitzeko. Talde bakoitzeko kotxeek duten autonomia ikusteko:\n",
    "\n",
    "<img src=\"Images/box_plot.png\"/>\n",
    "\n",
    "Bestalde, hainbat analisi estatistikorako ere oso garrantzitsuak izaten dira, besteak beste ***erregresio linealetarako.***"
   ]
  },
  {
   "cell_type": "markdown",
   "metadata": {},
   "source": [
    "### Desabantailak\n",
    "\n",
    "Sor ditzakeen desabantailak hurrengoak dira besteak beste:\n",
    " - Taulak espazio gehiago behar du informazio hori gordetzeko\n",
    " - Prozesaketan denbora gehiago behar izaten du\n",
    " - Faktore horietatik kanpo dagoen balioren bat sartzean errorea ematen du"
   ]
  },
  {
   "cell_type": "markdown",
   "metadata": {},
   "source": [
    "## Zutabeak aldatzen eta sortzen\n",
    "\n",
    "Azpi-atal honetan zutabeen eraldaketak aztertuko ditugu. Konturatzen baldin bagara, ikusi dugu iada zutabeen aldaketa bat, aldagai bat faktore bilakatzekoa hain zuzen ere. Orokorrean, eraldaketak era berean egiten dira."
   ]
  },
  {
   "cell_type": "code",
   "execution_count": null,
   "metadata": {},
   "outputs": [],
   "source": [
    "df <- mtcars\n",
    "\n",
    "#Kotxe guztiak automatiko bihurtuko ditugu\n",
    "df$am <- 1\n",
    "\n",
    "df$am"
   ]
  },
  {
   "cell_type": "markdown",
   "metadata": {},
   "source": [
    "Alda dezagun orain 0 eta 1 aldagai dikotomikoa \"Eskuzko\" eta \"Automatiko\"-ra"
   ]
  },
  {
   "cell_type": "code",
   "execution_count": null,
   "metadata": {},
   "outputs": [],
   "source": [
    "df <- mtcars\n",
    "\n",
    "#'am' aldagaian 0 balio dutenei \"Eskuzkoa\" eta 1 balioa dutenei \"Automatikoa\"\n",
    "df[df$am == 0,\"am\"] <- \"Eskuzkoa\"\n",
    "df[df$am == 1,\"am\"] <- \"Automatikoa\"\n",
    "\n",
    "head(df)"
   ]
  },
  {
   "cell_type": "markdown",
   "metadata": {},
   "source": [
    "Zutabe berria sortzeko, izena eta eman nahi zaion balioa bakarrik zehaztu behar dugu:"
   ]
  },
  {
   "cell_type": "code",
   "execution_count": null,
   "metadata": {},
   "outputs": [],
   "source": [
    "df <- mtcars\n",
    "\n",
    "#'bat' zutabea sortzen 1 balioekin\n",
    "df$bat <- 1      #Beste era bat df[[\"bat\"]] <- 1\n",
    "\n",
    "#'mpg_bider10' aldagaia sortzen 'mpg' aldagaia 10 zenbakiarekin bidertuz\n",
    "df$mpg_bider10 <- df$mpg * 10\n",
    "\n",
    "head(df)"
   ]
  },
  {
   "cell_type": "markdown",
   "metadata": {},
   "source": [
    "Matrizeen atalean ikusitako `cbind` eta `rbind` funtzioak ere erabili daitezke tauleri zutabeak eta errenkadak atxikitzeko hurrenez hurren."
   ]
  },
  {
   "cell_type": "markdown",
   "metadata": {},
   "source": [
    "## Taulak zutabeka ordenatzen\n",
    "\n",
    "Taulak zutabearen arabera nola ordenatu ikusiko dugu `order` funtzioaren bidez, horretarako, lehendabizi `order` funtzioa bektoreetan probatuko dugu:"
   ]
  },
  {
   "cell_type": "code",
   "execution_count": null,
   "metadata": {},
   "outputs": [],
   "source": [
    "x <- c(1,4,6,347,13,4,134,123,3)\n",
    "\n",
    "order(x)"
   ]
  },
  {
   "cell_type": "markdown",
   "metadata": {},
   "source": [
    "Lortutako emaitza arraro samarra egin daiteke, baina azaldutakoan erraz ulertzen da:\n",
    " - 1 . elementua `a` bektoreko 1. elementua da: 1\n",
    " - 2 . elementua `a` bektoreko 9. elementua da: 3\n",
    " - 3 . elementua `a` bektoreko 2. elementua da: 4\n",
    " - 4 . elementua `a` bektoreko 6. elementua da: 4\n",
    " - ...\n",
    " - 9 . elementua `a` bektoreko 4. elementua da: 347\n",
    " \n",
    "Beraz, balio horiek `a` bektoreari aplikatuz gero, nahi dena lortuko da:"
   ]
  },
  {
   "cell_type": "code",
   "execution_count": null,
   "metadata": {},
   "outputs": [],
   "source": [
    "x <- c(1,4,6,347,13,4,134,123,3)\n",
    "\n",
    "x[order(x)]"
   ]
  },
  {
   "cell_type": "markdown",
   "metadata": {},
   "source": [
    "Era berean ordenatzen ditu karaktere-kateak ere:"
   ]
  },
  {
   "cell_type": "code",
   "execution_count": null,
   "metadata": {},
   "outputs": [],
   "source": [
    "x <- c(\"Euria\",\"Elurra\",\"E\",\"Eskua\",\"Geruza\", \"Gerezi\")\n",
    "\n",
    "x[order(x)]"
   ]
  },
  {
   "cell_type": "markdown",
   "metadata": {},
   "source": [
    "Hori horrela dela ikusirik, emaitza horiek tauletara pasatzea falta zaigu:"
   ]
  },
  {
   "cell_type": "code",
   "execution_count": null,
   "metadata": {},
   "outputs": [],
   "source": [
    "df <- mtcars\n",
    "\n",
    "#'mpg' aldagaiaren arabera ordenatuko dugu\n",
    "df <- df[order(mtcars$mpg),]\n",
    "head(df)"
   ]
  },
  {
   "cell_type": "markdown",
   "metadata": {},
   "source": [
    "Ordenatzeko era aldatzea nahi baldin badugu, hau da, handitik txikira `order(..., decreasing = TRUE)` erabili beharko da"
   ]
  },
  {
   "cell_type": "code",
   "execution_count": null,
   "metadata": {},
   "outputs": [],
   "source": [
    "df <- mtcars\n",
    "\n",
    "#'mpg' aldagaiaren arabera ordenatuko dugu\n",
    "df <- df[order(mtcars$mpg, decreasing = TRUE),]\n",
    "head(df)"
   ]
  },
  {
   "cell_type": "markdown",
   "metadata": {},
   "source": [
    "## Data Frame-ak sortzen eta inportatzen\n",
    "Amaitzeko, Data Frame-ak nola sortu eta inportatu ikusiko da. Arraroa baldin badirudi ere atal hau koadernoaren amaieran aurkitzea, kasu honetan garrantzia gehiago eman zaio taulen erabilerari. Data Frame-ak sortzeko, `data.frame` funtzioa erabiliko dugu. Funtzio horrek aukera ezberdin ugari ditu, baina oraingo hontan era sinpleenetarikoena aztertuko da:"
   ]
  },
  {
   "cell_type": "code",
   "execution_count": null,
   "metadata": {},
   "outputs": [],
   "source": [
    "data.frame(\"Aldagaia1\" = 1:3, \"Aldagaia2\" = 3:1, \"Aldagaia3\" = c(\"A\",\"B\",\"C\"))"
   ]
  },
  {
   "cell_type": "markdown",
   "metadata": {},
   "source": [
    "Azter daitekeen bezala, taulen zatirik funtsezkoena aldagaiei ***izenak*** eta ***balioak*** ematea da. ***Izenak*** ezkerreko aldean jartzen dira `\"\"` komatxo artean eta ***balioak*** `=` ikurraren ondoren."
   ]
  },
  {
   "cell_type": "code",
   "execution_count": null,
   "metadata": {},
   "outputs": [],
   "source": [
    "data.frame(\"Urtea\" = 2018, \"Hilabetea\" = c(\"Urtarrila\", \"Otsaila\", \"Martxoa\"), \"Egun_kopurua\" = c(31,28,31))"
   ]
  },
  {
   "cell_type": "markdown",
   "metadata": {},
   "source": [
    "Bestalde, datuak inportatzeko garaian, datuak ze formatutan gordeta dauden jakin beharko da: \n",
    " - xls, txt, csv...\n",
    " \n",
    "Hemen, *csv* (*comma separated values*) formatuko datuak nola inportatu aztertuko da. Horretarako, `R`-k berez dakarren `read.csv` funtzioa erabili daiteke."
   ]
  },
  {
   "cell_type": "code",
   "execution_count": null,
   "metadata": {},
   "outputs": [],
   "source": [
    "df <- read.csv(\"adibide.csv\")\n",
    "class(df)\n",
    "df"
   ]
  },
  {
   "cell_type": "markdown",
   "metadata": {},
   "source": [
    "# Erabilitako funtzio berriak:\n",
    "\n",
    " - `summary`\n",
    " - `head`\n",
    " - `tail`\n",
    " - `str`\n",
    " - `subset`\n",
    " - `factor`\n",
    " - `order`"
   ]
  }
 ],
 "metadata": {
  "hide_input": false,
  "kernelspec": {
   "display_name": "R",
   "language": "R",
   "name": "ir"
  },
  "language_info": {
   "codemirror_mode": "r",
   "file_extension": ".r",
   "mimetype": "text/x-r-source",
   "name": "R",
   "pygments_lexer": "r",
   "version": "3.5.0"
  },
  "toc": {
   "nav_menu": {},
   "number_sections": true,
   "sideBar": true,
   "skip_h1_title": true,
   "toc_cell": false,
   "toc_position": {},
   "toc_section_display": "block",
   "toc_window_display": false
  }
 },
 "nbformat": 4,
 "nbformat_minor": 2
}
