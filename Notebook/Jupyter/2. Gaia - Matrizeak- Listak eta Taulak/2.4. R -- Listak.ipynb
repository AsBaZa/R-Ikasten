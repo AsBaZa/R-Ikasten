{
 "cells": [
  {
   "cell_type": "markdown",
   "metadata": {},
   "source": [
    "<img src=\"Images/Rlogo.png\"/>\n",
    "\n",
    "# Listak\n",
    "Listak, bektore generiko bat bezala uler daitezke eta `list` funtzioaren bidez sortzen dira. Kasu honetan, listako elementuak **edozein motatako objektuak** izan daitezke (listen barruan beste lista batzuk ere sar daitezke).\n",
    "\n",
    "`list` funtzioa `c()` funtzioa baino dezente moldagarriagoa da, aukera gehiago eskaintzen dituelako. Hala ere, ikusiko dugun bezala bi funtzio horiek ez dira baztergarriak, hau da, biak konbinatu daitezke aurrerago ikusiko den bezala.\n",
    "\n",
    "Has gaitezen lehen lista sortzen:"
   ]
  },
  {
   "cell_type": "code",
   "execution_count": null,
   "metadata": {},
   "outputs": [],
   "source": [
    "x <- list(1,TRUE,\"Lista\")\n",
    "print(x)"
   ]
  },
  {
   "cell_type": "markdown",
   "metadata": {},
   "source": [
    "Ikus daitekeen bezala, listen itxura eta ikusitako bektoreena desberdina da. Listetako elementuek ***beraien ezaugarriak mantentzen*** dituzte (aurrerago ikusiko da xehetasun gehiagorekin).\n",
    "\n",
    "Listako elementuei deitzeko modu desberdinak daude, baina hurrengo biekin hasiko gara: `[]` eta `[[]]`.\n",
    " - `[[]]` bidez, ***elementua bera*** lortzen da.\n",
    " - `[]` bidez, ***aukeratutako elementuen azpi-lista bat*** sortzen da."
   ]
  },
  {
   "cell_type": "code",
   "execution_count": null,
   "metadata": {},
   "outputs": [],
   "source": [
    "print(x[[1]])\n",
    "print(class(x[[1]]))\n",
    "\n",
    "print(\"#############\")\n",
    "\n",
    "print(x[1])\n",
    "print(class(x[1]))"
   ]
  },
  {
   "cell_type": "markdown",
   "metadata": {},
   "source": [
    "## Azpi-listak sortzen\n",
    "Ikusi berri den bezala azpi-listak sortzeko `[]` erabiltzen da, aukeratzea nahi ditugun elementuak zehaztuz.\n",
    "\n",
    "Hurrengo adibidean, lista bat sortuko dugu eta ondoren 3. elementua aukeratuko dugu alde batetik eta 2. eta 4. elementua beste alde batetik"
   ]
  },
  {
   "cell_type": "code",
   "execution_count": null,
   "metadata": {},
   "outputs": [],
   "source": [
    "#Lista sortuko dugu\n",
    "x <- list(2,\"Kaixo\",FALSE,3.14)\n",
    "\n",
    "#'x'-ren azpi-lista sortzen 3. elementuarekin\n",
    "print(x[3])"
   ]
  },
  {
   "cell_type": "code",
   "execution_count": null,
   "metadata": {},
   "outputs": [],
   "source": [
    "#'x'-ren azpi-lista sortzen 2. eta 4. elementuekin\n",
    "print(x[c(2,4)])"
   ]
  },
  {
   "cell_type": "markdown",
   "metadata": {},
   "source": [
    "Bektoreen inguruko koadernoan agertzen den bezala, kasu honetan ere kanpoan uztea nahi diren elementuak zehaztu daitezke:"
   ]
  },
  {
   "cell_type": "code",
   "execution_count": null,
   "metadata": {},
   "outputs": [],
   "source": [
    "#'x'-ren azpi-lista sortzen 4. elementua kanpoan utziz\n",
    "print(x[-4])"
   ]
  },
  {
   "cell_type": "code",
   "execution_count": null,
   "metadata": {},
   "outputs": [],
   "source": [
    "#'x'-ren azpi-lista sortzen 1. eta 3. elementuak kanpoan utziz\n",
    "print(x[-c(1,3)])"
   ]
  },
  {
   "cell_type": "markdown",
   "metadata": {},
   "source": [
    "## Listako elementuak aukeratzen\n",
    "Azpi-listak aukeratu beharrean, listako elementu bat aukeratzea nahi izanez gero `[[]]` erabiliko dugu aurrerago esan bezala."
   ]
  },
  {
   "cell_type": "code",
   "execution_count": null,
   "metadata": {},
   "outputs": [],
   "source": [
    "#Lista sortuko dugu\n",
    "x <- list(2,\"Kaixo\",FALSE,3.14)\n",
    "\n",
    "#'x'-ren 3. elementua aukeratzen\n",
    "print(x[[3]])\n",
    "\n",
    "#'x'-ren 1. elementua aukeratzen\n",
    "print(x[[1]])"
   ]
  },
  {
   "cell_type": "markdown",
   "metadata": {},
   "source": [
    "Esan bezala, `list`-en kasuan elementu bakoitzak bere klasea mantentzen du:\n",
    " - 1. elementua: zenbakizkoa (`numeric`)\n",
    " - 2. elementua: karaktere-katea (`character`)\n",
    " - 3. elementua: logizkoa (`logical`)\n",
    " - 4. elementua: zenbakizkoa (`numeric`)"
   ]
  },
  {
   "cell_type": "code",
   "execution_count": null,
   "metadata": {},
   "outputs": [],
   "source": [
    "print(class(x[[1]]))\n",
    "print(class(x[[2]]))\n",
    "print(class(x[[3]]))\n",
    "print(class(x[[4]]))"
   ]
  },
  {
   "cell_type": "markdown",
   "metadata": {},
   "source": [
    "**Oharra:** *Listak `for` kontrol aginduetan erabiltzerakoan `[[]]` agindua erabiltzen du elementuak banan-banan aukeratzen joateko*"
   ]
  },
  {
   "cell_type": "code",
   "execution_count": null,
   "metadata": {},
   "outputs": [],
   "source": [
    "#Hurrengo bi 'for' kontrol aginduek funtsean gauza bera egiten dute\n",
    "for (i in x){\n",
    "    print(i)\n",
    "}\n",
    "\n",
    "print(\"##################\")\n",
    "\n",
    "for (i in 1:4){\n",
    "    print(x[[i]])\n",
    "}"
   ]
  },
  {
   "cell_type": "markdown",
   "metadata": {},
   "source": [
    "## Listako elementuei izenak ematen\n",
    "Bektoreekin bezala, listako elementuei ere izenak emateko aukera dago, elementu bakoitza izen baten bidez identifikatzeko, ingelesez *key - value* bezala ezagutzen dena. Bi aukera nagusi daude:\n",
    "\n",
    " - **Hasieran definituz**"
   ]
  },
  {
   "cell_type": "code",
   "execution_count": null,
   "metadata": {},
   "outputs": [],
   "source": [
    "x <- list(lehenengoa = 10, bigarrena = TRUE, hirugarrena = \"Hiru\")\n",
    "print(x)"
   ]
  },
  {
   "cell_type": "markdown",
   "metadata": {},
   "source": [
    " - **`names` funtzioaren bidez**"
   ]
  },
  {
   "cell_type": "code",
   "execution_count": null,
   "metadata": {},
   "outputs": [],
   "source": [
    "x <- list(10,TRUE,\"Hiru\")\n",
    "names(x) <- c(\"lehenengoa\",\"bigarrena\",\"hirugarrena\")\n",
    "print(x)"
   ]
  },
  {
   "cell_type": "markdown",
   "metadata": {},
   "source": [
    "**Oharra:** *Izenak **BETI** izango dira karaktere-kate erakoak, nahiz eta zenbakiak edo/eta beste aldagai bat erabili.*\n",
    "### Elementuak aukeratzen izenen bidez\n",
    "Izenak erabiltzearen helburua, elementuak izenen bidez identifikatzea eta deitzea izaten da. Horretarako, aurreko bi erak erabili daitezke: `[]` eta `[[]]`"
   ]
  },
  {
   "cell_type": "code",
   "execution_count": null,
   "metadata": {},
   "outputs": [],
   "source": [
    "#1. elementuaren azpi-lista sortzeko\n",
    "a <- x[\"lehenengoa\"]\n",
    "print(a)"
   ]
  },
  {
   "cell_type": "code",
   "execution_count": null,
   "metadata": {},
   "outputs": [],
   "source": [
    "#2. eta 3. elementuen azpi-lista sortzeko\n",
    "a <- x[c(\"lehenengoa\",\"bigarrena\")]\n",
    "print(a)"
   ]
  },
  {
   "cell_type": "code",
   "execution_count": null,
   "metadata": {},
   "outputs": [],
   "source": [
    "#1. elementua aukeratzeko\n",
    "a <- x[[\"lehenengoa\"]]\n",
    "print(a)"
   ]
  },
  {
   "cell_type": "markdown",
   "metadata": {},
   "source": [
    "Beste aukera bat, `$` ikurraren bidez da (`[[]]`-ren baliokidea) eta era honetan erabiltzen da."
   ]
  },
  {
   "cell_type": "code",
   "execution_count": null,
   "metadata": {},
   "outputs": [],
   "source": [
    "x$lehenengoa"
   ]
  },
  {
   "cell_type": "code",
   "execution_count": null,
   "metadata": {},
   "outputs": [],
   "source": [
    "x$bigarrena"
   ]
  },
  {
   "cell_type": "markdown",
   "metadata": {},
   "source": [
    "**Oharra:** *Izenak definitzerakoan hutsuneren bat edo karaktere bereziren bat erabili baldin badugu, `$` metodoaren bidez arazoak izan ditzakegu, ondorioz kasu horietarako ```  erabili beharko da*"
   ]
  },
  {
   "cell_type": "code",
   "execution_count": null,
   "metadata": {},
   "outputs": [],
   "source": [
    "x <- list(\"bat zero\" = 10, \"1\" = TRUE, \"3 zenbakia\" = \"Hiru\")\n",
    "\n",
    "x$`bat zero`\n",
    "x$`1`\n",
    "x$`3 zenbakia`"
   ]
  },
  {
   "cell_type": "markdown",
   "metadata": {},
   "source": [
    "### Lista konplexuagoak sortzen\n",
    "Hasieran esan bezala, listetan edozein objektu mota sar dezakegu, beraz oraingo honetan objektu konplexuago batzuk sartuko ditugu:\n",
    " - Bektore bat\n",
    " - Matrize bat\n",
    " - Funtzio bat\n",
    " - Lista bat\n",
    " \n",
    "*(Azpi-atal honek aurrekoek baino zailtasun handiagoa du. Hartu behar den denbora listak ulertzeko eta proba desberdinak egiteko, oinarrizko kontzeptuak ulertu direla ziurtatzeko)*"
   ]
  },
  {
   "cell_type": "code",
   "execution_count": null,
   "metadata": {},
   "outputs": [],
   "source": [
    "konplexu <- list(bektore = c(1:10), \n",
    "                 matrize = matrix(c(1,2,3, 11,12,13), nrow = 2, ncol = 3),\n",
    "                 funtzio = sum,\n",
    "                 lista = list(1,5,TRUE,c(1:5)))"
   ]
  },
  {
   "cell_type": "markdown",
   "metadata": {},
   "source": [
    "Behin `konplexu` lista sortu dugula edozein elementu aukera dezakegu lehen ikusi ditugun metodoekin.\n",
    "\n",
    " - **Bektorea:**\n",
    "  \n",
    "$$\\mbox{konplexu[[1]]}\\Longleftrightarrow c(1:10)$$"
   ]
  },
  {
   "cell_type": "code",
   "execution_count": null,
   "metadata": {},
   "outputs": [],
   "source": [
    "#Bektorea erakusteko modu ezberdinak:\n",
    "konplexu[[1]]\n",
    "\n",
    "konplexu[[\"bektore\"]]\n",
    "\n",
    "konplexu$bektore"
   ]
  },
  {
   "cell_type": "code",
   "execution_count": null,
   "metadata": {},
   "outputs": [],
   "source": [
    "#Bektoreko lehenengo elementua hartzen\n",
    "konplexu[[1]][1]\n",
    "\n",
    "#Bektoreko azken 3 elementuak hartzen\n",
    "konplexu[[1]][c(8:10)]\n",
    "\n",
    "#Bektoreko azken 5 zenbakiak ezabatzen\n",
    "konplexu[[1]][-c(6:10)]\n",
    "\n",
    "#Bektoreko elementuak 1 elementuarekin batzen\n",
    "konplexu[[1]] + 1"
   ]
  },
  {
   "cell_type": "markdown",
   "metadata": {},
   "source": [
    " - **Matrizea**\n",
    " \n",
    "$$\\mbox{konplexu[[2]]}\\Longleftrightarrow \n",
    "\\begin{bmatrix}\n",
    "    1 & 3 & 12\\\\\n",
    "    2 & 11 & 13\n",
    "\\end{bmatrix}\n",
    "$$"
   ]
  },
  {
   "cell_type": "code",
   "execution_count": null,
   "metadata": {},
   "outputs": [],
   "source": [
    "#Matrizeko 1. errenkada aukeratzen\n",
    "konplexu[[2]][1,]\n",
    "\n",
    "#Matrizeko 1. errenkadako eta 2. zutabeko elementua aukeratzen\n",
    "konplexu[[2]][1,2]\n",
    "\n",
    "#Matrizeko elementuak batzen\n",
    "sum(konplexu[[2]])"
   ]
  },
  {
   "cell_type": "markdown",
   "metadata": {},
   "source": [
    " - **Funtzioa**\n",
    " \n",
    "$$\\mbox{konplexu[[3]]}\\Longleftrightarrow \\mbox{sum}$$"
   ]
  },
  {
   "cell_type": "code",
   "execution_count": null,
   "metadata": {},
   "outputs": [],
   "source": [
    "#Bektore baten elementuen batura\n",
    "konplexu[[3]](c(1:100))\n",
    "\n",
    "#Listako matrizeko elementuak batzen\n",
    "konplexu[[3]](konplexu[[2]])"
   ]
  },
  {
   "cell_type": "markdown",
   "metadata": {},
   "source": [
    " - **Lista**\n",
    " \n",
    "$$\\mbox{konplexu[[4]]}\\Longleftrightarrow\\mbox{list(1,5,TRUE,c(1:5)))}$$"
   ]
  },
  {
   "cell_type": "code",
   "execution_count": null,
   "metadata": {},
   "outputs": [],
   "source": [
    "#Lista horretako 2. elementua aukeratzen\n",
    "konplexu[[4]][[2]]\n",
    "\n",
    "#Lista horretako azpi-lista sortzen 1. eta 3. elementuekin\n",
    "print(konplexu[[4]][c(1,3)])\n",
    "\n",
    "#Lista horretako bektorearen 4. elementua aukeratzen\n",
    "konplexu[[4]][[4]][4]"
   ]
  },
  {
   "cell_type": "markdown",
   "metadata": {},
   "source": [
    "Aurreko adibidean ikus daitekeen bezala, nahi bezain lista konplexuak eraiki daitezke eta edozein motatako objektuekin.\n",
    "\n",
    "## Listak konbinatzen\n",
    "Amaitzeko, koaderno honen hasieran esandako ikusiko dugu: `c()` eta `list` funtzioen konbinazioa. Gogora dezagun, `c()` funtzioa *combine* funtzioa dela, hau da, elementuak konbinatzen dituen funtzioa. Ondorioz, bi lista konbinatzeko ere erabili daiteke."
   ]
  },
  {
   "cell_type": "code",
   "execution_count": null,
   "metadata": {},
   "outputs": [],
   "source": [
    "x <- list(2,\"Kaixo\",FALSE,3.14)\n",
    "y <- list(1,TRUE,\"Lista\")\n",
    "\n",
    "print(c(x, y))"
   ]
  },
  {
   "cell_type": "markdown",
   "metadata": {},
   "source": [
    "**Nota:** *Data Frame-ak eta Listak ikusi ondoren, elementuei eta aldagaiei deitzeko era eta egitura nahiko antzerakoa dela azter daiteke. Izan ere Data Frame-ak lista karratu bezala kontsidera daitezke, hau da, Data Frame bat lista bat da non elementu guztiek luzeera berdina duten.*"
   ]
  },
  {
   "cell_type": "markdown",
   "metadata": {},
   "source": [
    "# Erabilitako funtzio berriak:\n",
    " - `list`"
   ]
  }
 ],
 "metadata": {
  "kernelspec": {
   "display_name": "R",
   "language": "R",
   "name": "ir"
  },
  "language_info": {
   "codemirror_mode": "r",
   "file_extension": ".r",
   "mimetype": "text/x-r-source",
   "name": "R",
   "pygments_lexer": "r",
   "version": "3.5.0"
  }
 },
 "nbformat": 4,
 "nbformat_minor": 2
}
