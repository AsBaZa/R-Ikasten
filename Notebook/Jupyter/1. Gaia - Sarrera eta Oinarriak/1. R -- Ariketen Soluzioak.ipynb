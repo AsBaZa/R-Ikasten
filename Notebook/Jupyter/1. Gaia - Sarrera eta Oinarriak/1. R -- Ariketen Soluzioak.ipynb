{
 "cells": [
  {
   "cell_type": "markdown",
   "metadata": {},
   "source": [
    "<img src=\"Images/Rlogo.png\"/>\n",
    "\n",
    "# R-n Lehen Pausuak: Ariketen Soluzioak\n"
   ]
  },
  {
   "cell_type": "markdown",
   "metadata": {},
   "source": [
    "## 1.1 Sarrera"
   ]
  },
  {
   "cell_type": "code",
   "execution_count": null,
   "metadata": {},
   "outputs": [],
   "source": [
    "#Idatzi lerro honen azpian lehenengo eragiketa:\n",
    "\n",
    "(5 + 3) * 10^2\n",
    "#Idatzi lerro honen azpian bigarren eragiketa:\n",
    "\n",
    "(5 + 5)^(5 + 2)"
   ]
  },
  {
   "cell_type": "markdown",
   "metadata": {},
   "source": [
    "## 1.2 Aldagaiak"
   ]
  },
  {
   "cell_type": "code",
   "execution_count": null,
   "metadata": {},
   "outputs": [],
   "source": [
    "#Gorde 'egoera' aldagaian 'Ikasten' karaktere-katea\n",
    "\n",
    "egoera <- \"Ikasten\"\n",
    "#Gorde 'x' aldagaian 2^10 zenbakia\n",
    "\n",
    "x <- 2^10"
   ]
  },
  {
   "cell_type": "markdown",
   "metadata": {},
   "source": [
    "## 1.3 Bektoreak"
   ]
  },
  {
   "cell_type": "code",
   "execution_count": null,
   "metadata": {},
   "outputs": [],
   "source": [
    "#Gorde 'x' aldagaian (1,5,9,13,17,21,25,29,33,37,41,45) bektorea\n",
    "\n",
    "x <- seq(from = 1, to = 45, by = 4)\n",
    "#Kalkulatu 'x' bektoreko elementuen batura\n",
    "\n",
    "sum(x)\n",
    "#Kalkulatu 'x' bektorearen luzeera (elementu kopurua)\n",
    "\n",
    "length(x)\n",
    "#Aukeratu 'x' bektoreko 4. eta 7. elementuak\n",
    "\n",
    "x[c(4,7)]"
   ]
  },
  {
   "cell_type": "markdown",
   "metadata": {},
   "source": [
    "## 1.4 Eragile Logikoak"
   ]
  },
  {
   "cell_type": "code",
   "execution_count": null,
   "metadata": {},
   "outputs": [],
   "source": [
    "#Hurrengo lerroan, 'x' aldagaia definitzen da.\n",
    "set.seed(5)\n",
    "x <- sample(25, replace = T)\n",
    "\n",
    "#Kalkulatu 'x' aldagaiaren luzeera\n",
    "\n",
    "length(x)\n",
    "#Adierazi 'x' bektorean 20 balioa baino handiago duten elementuak\n",
    "\n",
    "x[x > 20]\n",
    "#Adierazi 'x' bektorean 20 balioa baino handiago duten elementuen POSIZIOA\n",
    "\n",
    "which(x > 20)\n",
    "#Kalkulatu 'x' bektorean zenbat elementuk duten 6 balioa\n",
    "\n",
    "length(x[x == 6])"
   ]
  },
  {
   "cell_type": "markdown",
   "metadata": {},
   "source": [
    "## 1.5.1 Kontrol Aginduak. if eta else"
   ]
  },
  {
   "cell_type": "code",
   "execution_count": null,
   "metadata": {},
   "outputs": [],
   "source": [
    "#Demagun 'x' aldagai bat dugula eta hurrengo if-else egitura sortu nahi dela:\n",
    "# - 'x'-en luzeera bikoitia bada 'sum(x)' egitea nahi da\n",
    "# - 'x'-en luzeera bakoitia bada 'prod(x)' egitea nahi da\n",
    "# - 'x'-en luzeera 0 baldin bada 'print(\"Bektorearen luzeera 0 da\")' egitea nahi da\n",
    "\n",
    "luzeera <- length(x)\n",
    "if (luzeera == 0){\n",
    "    print(\"Bektorearen luzeera 0 da\")\n",
    "} else if ((luzeera %% 2) == 0){\n",
    "    sum(x)\n",
    "} else{\n",
    "    prod(x)\n",
    "}"
   ]
  },
  {
   "cell_type": "markdown",
   "metadata": {},
   "source": [
    "## 1.5.2 Kontrol Aginduak. for eta while"
   ]
  },
  {
   "cell_type": "code",
   "execution_count": null,
   "metadata": {},
   "outputs": [],
   "source": [
    "#Kalkulatu 'for' bidez lehenengo 15 zenbakien arteko biderkadura (1*2*3*...*15)\n",
    "\n",
    "x <- 1\n",
    "for (i in 1:15){\n",
    "    x <- x * i\n",
    "}\n",
    "#Kalkulatu 'while' bidez lehenengo 15 zenbakien arteko biderkadura (1*2*3*...*15)\n",
    "\n",
    "x <- 1\n",
    "i <- 0\n",
    "while (i < 15){\n",
    "    i <- i + 1\n",
    "    x <- x * i\n",
    "}"
   ]
  },
  {
   "cell_type": "markdown",
   "metadata": {},
   "source": [
    "## 1. Ariketa\n",
    "Ariketa honetan, bi aldagai definitzea eskatuko da. Alde batetik `egutegia` aldagaia definituko dugu. `egutegia` aldagaiak 365 elementu izan behar ditu, hain zuzen ere 1 zenbakitik hasita 365 zenbakirarte dauden zenbaki oso guztiak. \n",
    "\n",
    "Bestalde, `egutegi_berria` sortzea eskatzen da, `egutegia` aldagaiaren antzekoa da, baina kasu honetan, *larunbatek*, hau da,\n",
    "$$6,13,20,27,34...$$\n",
    "elementuek -1 balioa izango dute eta *igandeek*, hau da,\n",
    "$$7,14,21,28,35...$$\n",
    "elementuek -2 balioa izango dute. Beste era batean esanda, `egutegi_berria` aldagaiak honako itxura izan beharko du:\n",
    "\n",
    "$$1,2,3,4,5,-1,-2,8,9,10,11,12,-1,-2,15,16...$$"
   ]
  },
  {
   "cell_type": "code",
   "execution_count": null,
   "metadata": {},
   "outputs": [],
   "source": [
    "################\n",
    "###1. ARIKETA###\n",
    "################\n",
    "\n",
    "#Sortu 'egutegia' aldagaia\n",
    "\n",
    "egutegia <- 1:365\n",
    "\n",
    "#Sortu 'egutegi_berria' aldagaia\n",
    "\n",
    "egutegi_berria <- egutegia\n",
    "egutegi_berria[(egutegia %% 7) == 6] <- -1\n",
    "egutegi_berria[(egutegia %% 7) == 0] <- -2"
   ]
  },
  {
   "cell_type": "markdown",
   "metadata": {},
   "source": [
    "## 2. Ariketa\n",
    "Kalkulatu hurrengo batuketa:\n",
    "$$\\sum_{n=0}^{100} \\dfrac{1}{n!}=\\dfrac{1}{0!}+\\dfrac{1}{1!}+\\dfrac{1}{2!}+\\dfrac{1}{3!}+...+\\dfrac{1}{100!}$$\n",
    "non\n",
    "$$n! = n\\cdot(n-1)\\cdot(n-2)\\cdot...\\cdot3\\cdot2\\cdot1$$\n",
    "adibide bezala,\n",
    "$$4!=4\\cdot3\\cdot2\\cdot1=24$$\n",
    "\n",
    "$$6!=6\\cdot5\\cdot4\\cdot3\\cdot2\\cdot1=720$$\n",
    "Eragiketa horri, [faktoriala](https://eu.wikipedia.org/wiki/Faktorial) deitzen zaio eta `R`-n funtzio bat existitzen da horretarako: `factorial()`\n",
    "\n",
    "Hurrengo lerroan ikus daiteke nola erabiltzen den:"
   ]
  },
  {
   "cell_type": "code",
   "execution_count": null,
   "metadata": {},
   "outputs": [],
   "source": [
    "factorial(4)\n",
    "factorial(6)"
   ]
  },
  {
   "cell_type": "markdown",
   "metadata": {},
   "source": [
    "Hori jakinik, sortu `batura` aldagaia eta gorde bertan batuketaren emaitza:\n",
    "$$\\sum_{n=0}^{100} \\dfrac{1}{n!}=\\dfrac{1}{0!}+\\dfrac{1}{1!}+\\dfrac{1}{2!}+\\dfrac{1}{3!}+...+\\dfrac{1}{100!}$$"
   ]
  },
  {
   "cell_type": "code",
   "execution_count": null,
   "metadata": {},
   "outputs": [],
   "source": [
    "################\n",
    "###2. ARIKETA###\n",
    "################\n",
    "\n",
    "batura <- 0\n",
    "for (i in 0:100){\n",
    "    batura <- batura + (1 / factorial(i))\n",
    "}"
   ]
  },
  {
   "cell_type": "markdown",
   "metadata": {},
   "source": [
    "## 3. Ariketa\n",
    "Ariketa honetarako zenbakizko bektore bat emango zaigu, `bektorea` aldagaian gordeta. Egin beharrekoa hurrengoa da:\n",
    " - Zenbat elementuk dute 19.2 balioa `bektorea` aldagaian? Gorde emaitza `zenbat` aldagaian.\n",
    " - Bektoreko zenbatgarren posizioan dago lehenengo 10.4 balioko elementua? Gorde emaitza `posizioa` aldagaian."
   ]
  },
  {
   "cell_type": "code",
   "execution_count": null,
   "metadata": {},
   "outputs": [],
   "source": [
    "################\n",
    "###3. ARIKETA###\n",
    "################\n",
    "\n",
    "###############################################\n",
    "#Aldagaia definitzen, EZ ALDATU EZER ERE EZ!!!#\n",
    "###############################################\n",
    "bektorea <- mtcars$mpg\n",
    "\n",
    "####################################\n",
    "#Hemendik aurrera hasten da ariketa#\n",
    "####################################\n",
    "zenbat <- length(bektorea[bektorea == 19.2])\n",
    "posizioa <- which(bektorea == 10.4)[1]"
   ]
  },
  {
   "cell_type": "markdown",
   "metadata": {},
   "source": [
    "## 4. Ariketa\n",
    "Sortu `fibonacci` aldagaia eta gorde bertan [Fibonacci-ren lehen 30 zenbakiak](https://eu.wikipedia.org/wiki/Fibonacciren_zenbakiak). Fibonacci-ren zenbakiak honako zenbaki segida dira:\n",
    "\n",
    "$$0,1,1,2,3,5,8,13,21,34...$$\n",
    "hau da, segidako hurrengo zenbakia, aurreko bien batura da:\n",
    "\n",
    "$$1=1+0$$\n",
    "$$2 = 1+1$$\n",
    "$$3=2+1$$\n",
    "$$5=3+2$$\n",
    "$$8=5+3$$\n",
    "$$13=8+5$$\n",
    "$$...$$\n",
    "Ondorioz, segidako hurrengo zenbakia 55 izango zen (34 + 21)."
   ]
  },
  {
   "cell_type": "code",
   "execution_count": null,
   "metadata": {},
   "outputs": [],
   "source": [
    "################\n",
    "###4. ARIKETA###\n",
    "################\n",
    "\n",
    "fibonacci <- 0:29\n",
    "for (i in 3:30){\n",
    "    fibonacci[i] <- fibonacci[i - 1] + fibonacci[i - 2]\n",
    "}"
   ]
  },
  {
   "cell_type": "markdown",
   "metadata": {},
   "source": [
    "## 5. Ariketa\n",
    "`zenbakiak` bektorean, 0 eta 1 tartean dauden 1.000.000 elementu gorde dira. Bektore horretako zenbat elementu behar dira (elementuak bektorean dauden ordenan harturik) horien arteko batura 1000 edo 1000 baino handiagoa izateko?\n",
    "\n",
    "$$a_1+a_2+a_3+...+a_n \\geq 1000$$ \n",
    "\n",
    "$$\\mbox{ Zein da }n\\mbox{ horren balioa?}$$\n",
    "\n",
    "*Gorde emaitza `kopurua` aldagaian.*\n",
    "\n",
    "Zenbat da elementu horien arteko batura totala?\n",
    "\n",
    "*Gorde emaitza `batura` aldagaian.*"
   ]
  },
  {
   "cell_type": "code",
   "execution_count": null,
   "metadata": {},
   "outputs": [],
   "source": [
    "################\n",
    "###5. ARIKETA###\n",
    "################\n",
    "\n",
    "set.seed(5)\n",
    "zenbakiak <- runif(1e+6,0,1)\n",
    "\n",
    "batura <- 0\n",
    "kopurua <- 0\n",
    "while(batura < 1000){\n",
    "    kopurua <- kopurua + 1\n",
    "    batura <- batura + zenbakiak[kopurua]\n",
    "}"
   ]
  }
 ],
 "metadata": {
  "kernelspec": {
   "display_name": "R",
   "language": "R",
   "name": "ir"
  },
  "language_info": {
   "codemirror_mode": "r",
   "file_extension": ".r",
   "mimetype": "text/x-r-source",
   "name": "R",
   "pygments_lexer": "r",
   "version": "3.5.0"
  }
 },
 "nbformat": 4,
 "nbformat_minor": 2
}
