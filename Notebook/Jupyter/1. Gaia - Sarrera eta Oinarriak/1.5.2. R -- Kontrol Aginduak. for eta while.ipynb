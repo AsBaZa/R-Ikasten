{
 "cells": [
  {
   "cell_type": "markdown",
   "metadata": {},
   "source": [
    "<img src=\"Images/Rlogo.png\"/>\n",
    "\n",
    "Koaderno honetan, programazioko beste oinarrizko atal bat ikusiko dugu: **Kontrol Aginduena**. \n",
    "# R-n Lehen Pausuak: kontrol aginduak\n",
    "Oraingoan, `for` eta `while` kontrol aginduak ikusiko ditugu, bukleak ('loop' ingelesez) sortzeko oso erabilgarriak direnak.\n",
    "\n",
    "## `for`\n",
    "\n",
    "Kontrol agindu honek, orokorrean bektoreen eta listen bidez funtzionatzen du. Bektore edo listako elementuak hartzen ditu banan-banan eta nahi ditugun ekintzak egin. Egitura honakoa da:\n",
    "\n",
    "`for (aldagaia in lista){\n",
    "    ekintza edo ekintzak\n",
    "}`\n",
    "\n",
    "Ikus dezagun adibide ezberdinen bidez"
   ]
  },
  {
   "cell_type": "code",
   "execution_count": null,
   "metadata": {},
   "outputs": [],
   "source": [
    "#Hurrengo kasuan, i aldagaiaren balioak bektoreko balioak izango dira: c(1:10)\n",
    "for (i in c(1:10)){\n",
    "    print(i)\n",
    "}"
   ]
  },
  {
   "cell_type": "code",
   "execution_count": null,
   "metadata": {},
   "outputs": [],
   "source": [
    "#Hurrengo kasuan, i aldagaiaren balioak bektoreko balioak izango dira\n",
    "for (i in c(20,5,6,2,10000,1e+30)){\n",
    "    print(i)\n",
    "}"
   ]
  },
  {
   "cell_type": "code",
   "execution_count": null,
   "metadata": {},
   "outputs": [],
   "source": [
    "#Hurrengo kasuan, i aldagaiaren balioak bektoreko balioak izango dira\n",
    "for (i in c(\"K\",\"A\",\"I\",\"X\",\"O\")){\n",
    "    print(i)\n",
    "}"
   ]
  },
  {
   "cell_type": "markdown",
   "metadata": {},
   "source": [
    "Goazen `for`-en erabilera batzuk aztertzera. Demagun bektore bateko elementuen batura egitea nahi dugula. Aurreko koaderno baten ikusi genuen bezala, horretarako `sum` funtzioa dugu. Hala ere, suposatuko dugu funtzio hori ez dela existitzen eta guk eraikitzea nahi dugula eta horretarako, aukera egoki bat `for` erabiltzea izango zen, bektoreko elementu guztietatik pasatzen delako. Ikus dezagun eragiketa hori egiteko aukera bat:"
   ]
  },
  {
   "cell_type": "code",
   "execution_count": null,
   "metadata": {},
   "outputs": [],
   "source": [
    "#Guk batzea nahi ditugun elementuak 'bektorea'-n gordeko ditugu:\n",
    "bektorea <- c(1:1000)\n",
    "\n",
    "#'batura' aldagai definituko dugu eta bertan elementu guztien batura gordetzen joango gara\n",
    "batura <- 0\n",
    "\n",
    "for (i in bektorea){\n",
    "    #Hurengo lerroan, batura aldagaian bektoreko elementu bakoitza batzen joango gara\n",
    "    batura <- batura + i\n",
    "}\n",
    "\n",
    "#Amaitzeko, emaitza printatuko dugu:\n",
    "print(batura)"
   ]
  },
  {
   "cell_type": "markdown",
   "metadata": {},
   "source": [
    "Kasu honetan emaitza ondo dagoen edo ez frogatzeko aukera desberdinak ditugu, hasteko, `sum` funtzioa erabili dezakegu:"
   ]
  },
  {
   "cell_type": "code",
   "execution_count": null,
   "metadata": {},
   "outputs": [],
   "source": [
    "sum(bektorea)"
   ]
  },
  {
   "cell_type": "markdown",
   "metadata": {},
   "source": [
    "Kasu honetan, erabilitako segida, [progresio aritmetiko](https://eu.wikipedia.org/wiki/Progresio_aritmetiko) bat denez, [Carl Friedrich Gauss](https://eu.wikipedia.org/wiki/Carl_Friedrich_Gauss) matematikariak emandako formularen bidez kalkula dezakegu:\n",
    "$$\\dfrac{a_1+a_n}{2}\\cdot n = \\dfrac{1+1000}{2}\\cdot 1000=500.5\\cdot 1000=500500$$\n",
    "Beraz, frogatutzat ematen dugu `for` bidez lortutako emaitza zuzena dela.\n",
    "\n",
    "Gauzak zerbait konplikatzeko, suposa dezagun oraingo honetan 2018. urteko astegun kopurua neurtzea nahi dugula (astelehen kopurua, astearte kopurua...). 2018. urtea astelehen baten hasi zela jakinik, hurrengo funtzioa erabiliko dugu urteko egutegia sortzeko:\n",
    "\n",
    " - `rep_len`\n",
    " \n",
    "Funtzio horrek (`rep_len` = repeat_length), nahi dugun bektorea errepikatzen digu nahi dugun luzeera lortu arte, kasu honetan, errepikatzea nahi dugun bektorea c(1:7) eta urteak dituen egun kopurua, 365."
   ]
  },
  {
   "cell_type": "code",
   "execution_count": null,
   "metadata": {},
   "outputs": [],
   "source": [
    "rep_len(c(1:7), 365)"
   ]
  },
  {
   "cell_type": "markdown",
   "metadata": {},
   "source": [
    "Beraz, helburua astegun bakoitzeko zenbat egun dauden kalkulatzea da `for` bidez:"
   ]
  },
  {
   "cell_type": "code",
   "execution_count": null,
   "metadata": {},
   "outputs": [],
   "source": [
    "#Lehenik eta behin 'egutegia' aldagaia definituko dugu\n",
    "egutegia <- rep_len(c(1:7), 365)\n",
    "\n",
    "#eta ondoren astegunen aldagaiak hasiarazi\n",
    "astelehen <- 0\n",
    "astearte <- 0\n",
    "asteazken <- 0\n",
    "ostegun <- 0\n",
    "ostiral <- 0\n",
    "larunbat <- 0\n",
    "igande <- 0\n",
    "\n",
    "#Orain, 'for' buklea sortuko dugu kontaketarako\n",
    "for (i in egutegia){\n",
    "    if (i == 1){\n",
    "        astelehen <- astelehen + 1\n",
    "    } else if (i == 2){\n",
    "        astearte <- astearte + 1\n",
    "    } else if (i == 3){\n",
    "        asteazken <- asteazken +1\n",
    "    } else if (i == 4){\n",
    "        ostegun <- ostegun + 1\n",
    "    } else if (i == 5){\n",
    "        ostiral <- ostiral + 1\n",
    "    } else if (i == 6){\n",
    "        larunbat <- larunbat + 1\n",
    "    } else{\n",
    "        igande <- igande + 1\n",
    "    }\n",
    "}\n",
    "\n",
    "#Azkenik, emaitzak printatuko ditugu\n",
    "print(\"Astelehen kopurua:\")\n",
    "print(astelehen)\n",
    "print(\"Astearte kopurua:\")\n",
    "print(astearte)\n",
    "print(\"Asteazken kopurua:\")\n",
    "print(asteazken)\n",
    "print(\"Ostegun kopurua:\")\n",
    "print(ostegun)\n",
    "print(\"Ostiral kopurua:\")\n",
    "print(ostiral)\n",
    "print(\"Larunbat kopurua:\")\n",
    "print(larunbat)\n",
    "print(\"Igande kopurua:\")\n",
    "print(igande)"
   ]
  },
  {
   "cell_type": "markdown",
   "metadata": {},
   "source": [
    "Lortutako emaitzekin atera daitekeen ondorioa, 2018. urteak 52 aste oso dituela eta astelehen batean hasi eta amaitzen dela.\n",
    "\n",
    " - **Oharra:** *`for` erabiltzerakoan, `i` aldagaia erabiltzen da kasu orokorretarako, baina erabiltzaileak nahi dion izena eman diezaioke, baldin eta kontuz ibiltzen baldin bada `for`-eko aldagaia kanpoko aldagai batekin ez nahasten (kasu horretan aldagaiaren balioa aldatuko zuelako).*"
   ]
  },
  {
   "cell_type": "code",
   "execution_count": null,
   "metadata": {},
   "outputs": [],
   "source": [
    "for (beste_aldagai_bat in c(1:10)){\n",
    "    print(beste_aldagai_bat)\n",
    "}"
   ]
  },
  {
   "cell_type": "code",
   "execution_count": null,
   "metadata": {},
   "outputs": [],
   "source": [
    "adibide <- 1000\n",
    "for (adibide in c(1:10)){\n",
    "    i <- adibide\n",
    "}\n",
    "\n",
    "#Konturatu 'adibide' aldagaiean 'for'-eko azken balioa geratzen dela gordeta\n",
    "print(adibide)"
   ]
  },
  {
   "cell_type": "markdown",
   "metadata": {},
   "source": [
    "## `while`\n",
    "Hasieran esan bezala, `for` eta `while` bukleak sortzeko erabiltzen diren kontrol aginduak dira, baina era desberdin baten funtzionatzen dute. `for`-en kasuan, ikusi dugun bezala iterazio kopurua zehaztuta dago, aurrez jakin dezakegu, lista edo bektorearen luzeera hain zuzen ere:\n",
    "\n",
    "`for (i in c(1:10)){\n",
    "    print(i)\n",
    "}`\n",
    "\n",
    "Aurreko kasuan adibidez, badakigu 10 iterazio egongo direla, `c(1:10)` bektorearen luzeera 10 delako. `while`-n kasuan aldiz, hori ezin dezakegu beti jakin eta batzutan bukle infinituak sortzeko arriskua ere egoten da. `while`-n egitura honako hau da:\n",
    "\n",
    "`while (baldinza edo baldintzak){\n",
    "    ekintza edo ekintzak\n",
    "}`\n",
    "\n",
    "Hau da, `if`-en antzera baldintza baten arabera funtzionatzen dute: parentesi barruko baldintza betetzen den bitartean, `{}` arteko ekintzak behin eta berriro errepikatuko dira. Ikus dezagun hurrengo adibidea:"
   ]
  },
  {
   "cell_type": "code",
   "execution_count": null,
   "metadata": {},
   "outputs": [],
   "source": [
    "#'a' aldagaiari 0 balioa emango diogu\n",
    "a <- 0\n",
    "\n",
    "#'a' 1000 baino txikiagoa den bitartean, 'a' 7 zenbakiarekin batuko dugu, handitzen joateko\n",
    "while (a < 1000){\n",
    "    a <- a + 7\n",
    "}\n",
    "\n",
    "print(a)"
   ]
  },
  {
   "cell_type": "markdown",
   "metadata": {},
   "source": [
    "Konturatzen baldin bagara, 1000 zenbakia baino handiagoa den 7aren multiplorik txikiena lortu dugu (1001 zenbakia).\n",
    "\n",
    "Sarritan, behar den iterazio kopurua aurrez jakin daitekeenean, `while` eta `for`-en bidez helburu berdina lor dezakegu:"
   ]
  },
  {
   "cell_type": "code",
   "execution_count": null,
   "metadata": {},
   "outputs": [],
   "source": [
    "#for\n",
    "batura <- 0\n",
    "for (i in c(1:1000)){\n",
    "    batura <- batura + i\n",
    "}\n",
    "print(batura)\n",
    "\n",
    "\n",
    "#while\n",
    "batura <- 0\n",
    "i <- 0\n",
    "while(i <= 1000){\n",
    "    batura <- batura + i\n",
    "    i <- i + 1\n",
    "}\n",
    "print(batura)"
   ]
  },
  {
   "cell_type": "markdown",
   "metadata": {},
   "source": [
    "Orokorrean, `while` erabilgarriagoa da iterazio kopurua ezezaguna denean\n",
    "# Erabilitako funtzio berriak:\n",
    " - `rep_len`"
   ]
  }
 ],
 "metadata": {
  "kernelspec": {
   "display_name": "R",
   "language": "R",
   "name": "ir"
  },
  "language_info": {
   "codemirror_mode": "r",
   "file_extension": ".r",
   "mimetype": "text/x-r-source",
   "name": "R",
   "pygments_lexer": "r",
   "version": "3.5.0"
  }
 },
 "nbformat": 4,
 "nbformat_minor": 2
}
