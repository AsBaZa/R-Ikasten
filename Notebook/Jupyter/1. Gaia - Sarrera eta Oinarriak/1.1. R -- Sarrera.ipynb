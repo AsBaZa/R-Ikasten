{
 "cells": [
  {
   "cell_type": "markdown",
   "metadata": {},
   "source": [
    "<img src=\"Images/Rlogo.png\"/>\n",
    "\n",
    "`R` lengoaia 1993. urtean sortu zen programazio-lengoaia librea da, analisi estatistikora bideratuta dagoena. C programazio-lengoaian idatzita dago eta gaur egun ikerkuntzan eta datu meataritzan oso zabaldua eta erabilia da, pakete eta algoritmo desberdin asko gehitzen baitituzte komunitate ezberdinek eta eguneraketa konstanteak izaten dituztelako pakete garrantzitsuenek.\n",
    "\n",
    "Notebook sorta hauen helburua, `R` lengoaiaren sarrera eta ikuspuntu garrantzitsu batzuk aztertzea da eta ez da beharrezkoa programaketan jakituria handirik izatea.\n",
    "\n",
    "Gida honetarako, [Jupyter Notebook](http://jupyter.org/) erabiliko da. Ez da `R` erabiltzeko erarik efizienteena, baina kodea eta testua konbinatzeko gai da era sinple eta garbi batean. `R`-n era efizienteago baten programatzeko, pertsonalki [RStudio](https://www.rstudio.com/) erabiltzea gomendatzen da.\n",
    "# R-n Lehen Pausuak\n",
    " - `\"Hello, World!\"`\n",
    " \n",
    "Has gaitezen beraz `R`-ko lehen lerroa exekutatzen. Horretarako, hurrengo kode blokea klikatu eta `Ctrl + Enter` (edo `Shift + Enter`) sakatu:"
   ]
  },
  {
   "cell_type": "code",
   "execution_count": null,
   "metadata": {},
   "outputs": [],
   "source": [
    "print(\"Hello, World!\")"
   ]
  },
  {
   "cell_type": "markdown",
   "metadata": {},
   "source": [
    "Kode lerroa exekutatzea lortu baldin badugu hurrengo irudiaren antzeko zerbait lortu beharko genuke:\n",
    "\n",
    "<img src=\"Images/Hello World.png\"/>\n",
    "\n",
    "`In [1]:`-k `R`-n exekutatu dugun 1. kode blokea dela esan nahi du. Behin eta berriz exekutatzen baldin badugu aurreko kode-lerroa, kortxete barruko zenbakia haunditzen doala ikusiko dugu. Momentuz ez dugu zertan jakin behar `print` funtzioaren gorabeherak ezta `\"\"` ikurren erabilera, aurrerago ikusiko baita."
   ]
  },
  {
   "cell_type": "markdown",
   "metadata": {},
   "source": [
    "## Oinarrizko eragiketa matematikoak\n",
    "`R`, beste programazio-lengoaiak bezala, oinarrizko eragiketa matematikoak egiteko gai da. Has gaitezen horietako batzuk aztertzen:"
   ]
  },
  {
   "cell_type": "markdown",
   "metadata": {},
   "source": [
    "### Batuketak: \n",
    "`+`\n",
    "$$9 + 18=27$$"
   ]
  },
  {
   "cell_type": "code",
   "execution_count": null,
   "metadata": {},
   "outputs": [],
   "source": [
    "9 + 18"
   ]
  },
  {
   "cell_type": "markdown",
   "metadata": {},
   "source": [
    "### Kenketak:\n",
    "`-`\n",
    "$$20-4=16$$"
   ]
  },
  {
   "cell_type": "code",
   "execution_count": null,
   "metadata": {},
   "outputs": [],
   "source": [
    "20 - 4"
   ]
  },
  {
   "cell_type": "markdown",
   "metadata": {},
   "source": [
    "### Biderketak:\n",
    "`*`\n",
    "$$2\\cdot7=14$$"
   ]
  },
  {
   "cell_type": "code",
   "execution_count": null,
   "metadata": {},
   "outputs": [],
   "source": [
    "2 * 7"
   ]
  },
  {
   "cell_type": "markdown",
   "metadata": {},
   "source": [
    "### Zatiketak:\n",
    "`/`\n",
    "$$\\dfrac{27}{3} = 9$$"
   ]
  },
  {
   "cell_type": "code",
   "execution_count": null,
   "metadata": {},
   "outputs": [],
   "source": [
    "27 / 3"
   ]
  },
  {
   "cell_type": "markdown",
   "metadata": {},
   "source": [
    "### Berreketak:\n",
    "`**` edo `^`\n",
    "$$3^3=27$$"
   ]
  },
  {
   "cell_type": "code",
   "execution_count": null,
   "metadata": {},
   "outputs": [],
   "source": [
    "3 ** 3\n",
    "3 ^ 3"
   ]
  },
  {
   "cell_type": "markdown",
   "metadata": {},
   "source": [
    "### Erroketak:\n",
    "`**` edo `^`(Konturatu erroketak berreketa bezala idatz daitezkeela)\n",
    "\\begin{equation*}\n",
    "    \\sqrt{9}=9^{1/2}=3\n",
    "\\end{equation*}\n",
    "\n",
    "$$\\sqrt{9^3} = 9^{3/2}=27$$"
   ]
  },
  {
   "cell_type": "code",
   "execution_count": null,
   "metadata": {},
   "outputs": [],
   "source": [
    "9 ** (1/2)\n",
    "9 ^ (3/2)"
   ]
  },
  {
   "cell_type": "markdown",
   "metadata": {},
   "source": [
    "**Oharra:** *Matematiketan bezala, `R`-n ere eragiketa batzuk beste batzuk baino lehentasun handiagoa dute.*\n",
    " - Lehentasun handiena: Berreketak eta erroketak\n",
    " - Lehentasun ertaina: Biderketak eta zatiketak\n",
    " - Lehentasun baxua: Batuketak eta kenketak\n",
    "\n",
    "$$3+2\\cdot5=3+(2\\cdot5)=3+10=13$$\n",
    "\n",
    "$$2+4\\cdot6^2=2+(4\\cdot(6^2))=2+(4\\cdot36)=2+144=146$$"
   ]
  },
  {
   "cell_type": "code",
   "execution_count": null,
   "metadata": {},
   "outputs": [],
   "source": [
    "3 + 2 * 5\n",
    "2 + 4 * 6 ** 2"
   ]
  },
  {
   "cell_type": "markdown",
   "metadata": {},
   "source": [
    "**Gomendioa:** *`R`-ren barnean dauden lehentasunak jakin beharrean, parentesiak erabiltzea gomendatzen da, guk ziurtatzeko nahi dugun exekuzio lehentasuna.*"
   ]
  },
  {
   "cell_type": "code",
   "execution_count": null,
   "metadata": {},
   "outputs": [],
   "source": [
    "3 + (2 * 5)\n",
    "2 + (4 * (6 ** 2))"
   ]
  },
  {
   "cell_type": "markdown",
   "metadata": {},
   "source": [
    "### Ariketak: \n",
    "Egin hurrengo eragiketak:\n",
    "$$(5+3)\\cdot10^2$$\n",
    "$$(5+5)^{5+2}$$"
   ]
  },
  {
   "cell_type": "code",
   "execution_count": null,
   "metadata": {},
   "outputs": [],
   "source": [
    "#Idatzi lerro honen azpian lehenengo eragiketa:\n",
    "\n",
    "\n",
    "#Idatzi lerro honen azpian bigarren eragiketa:\n",
    "\n"
   ]
  },
  {
   "cell_type": "markdown",
   "metadata": {},
   "source": [
    "  >- **Emaitzak:**\n",
    "  $$800$$\n",
    "  $$1\\mbox{e+}07=10.000.000$$"
   ]
  },
  {
   "cell_type": "markdown",
   "metadata": {},
   "source": [
    "### Modulua:\n",
    "\n",
    "`%%`\n",
    "\n",
    "Beste oinarrizko eragiketa bat, [modulua](https://eu.wikipedia.org/wiki/Aritmetika_modular) da, hau da, zatiketa egiterakoan lortzen den **hondarra**.\n",
    "\n",
    "$$9=4\\cdot{\\color{blue}2}+{\\color{red}1}\\Rightarrow  9 \\equiv {\\color{red}1} \\mbox{ (mod }{\\color{blue}2})$$\n",
    "\n",
    "$$17=5\\cdot{\\color{blue}3}+{\\color{red}2}\\Rightarrow  17 \\equiv {\\color{red}2} \\mbox{ (mod } {\\color{blue}3}) $$"
   ]
  },
  {
   "cell_type": "code",
   "execution_count": null,
   "metadata": {},
   "outputs": [],
   "source": [
    "9 %% 2\n",
    "17 %% 3"
   ]
  },
  {
   "cell_type": "markdown",
   "metadata": {},
   "source": [
    "# Erabilitako funtzio berriak:\n",
    " - `print`"
   ]
  }
 ],
 "metadata": {
  "kernelspec": {
   "display_name": "R",
   "language": "R",
   "name": "ir"
  },
  "language_info": {
   "codemirror_mode": "r",
   "file_extension": ".r",
   "mimetype": "text/x-r-source",
   "name": "R",
   "pygments_lexer": "r",
   "version": "3.5.0"
  }
 },
 "nbformat": 4,
 "nbformat_minor": 2
}
