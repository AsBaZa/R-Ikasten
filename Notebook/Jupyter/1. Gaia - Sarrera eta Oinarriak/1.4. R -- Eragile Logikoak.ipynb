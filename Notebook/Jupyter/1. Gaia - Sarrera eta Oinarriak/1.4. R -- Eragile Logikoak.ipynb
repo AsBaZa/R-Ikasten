{
 "cells": [
  {
   "cell_type": "markdown",
   "metadata": {},
   "source": [
    "<img src=\"Images/Rlogo.png\"/>\n",
    "\n",
    "Koaderno honetan, programazioko beste oinarrizko atal bat ikusiko da: **eragile logikoena**. \n",
    "# R-n Lehen Pausuak: Eragile Logikoak\n",
    "Programazio-lengoaia guztiak edo ia guztiak egitura logiko baten bidez osatuta daude. Sistema sinpleenek ere bere baitan izaten dute. Sistema bitar baten oinarritzen direnez gehienak, informazioa 0 edo 1 bidez pasatzen da, BAI edo EZ, EGIA edo GEZURRA. Horregatik eta oso erabilgarriak direlako garrantzia berezia izaten dute eragile logikoek.\n",
    "\n",
    "Hurrengo taulan, eragile logiko oinarrizkoenak `R`-n nola idazten diren agertzen da.\n",
    "<img src=\"Images/Eragile Logikoak.png\"/>\n",
    "\n",
    "Has gaitezen adibide erraz batekin, 2 zenbakia 3 baino txikiagoa al da?"
   ]
  },
  {
   "cell_type": "code",
   "execution_count": null,
   "metadata": {},
   "outputs": [],
   "source": [
    "2 < 3"
   ]
  },
  {
   "cell_type": "markdown",
   "metadata": {},
   "source": [
    "Aurreko lerroa exekutatu baldin badugu, erantzun bezala `TRUE` itzuli digula ikusiko dugu, hau da, jarri duguna EGIA dela. Berdina egin dezakegu beste eragile logiko batzuekin ere."
   ]
  },
  {
   "cell_type": "code",
   "execution_count": null,
   "metadata": {},
   "outputs": [],
   "source": [
    "#2 zenbakia 3 zenbakia BAINO TXIKIAGOA EDO BERDINA da?\n",
    "2 <= 3\n",
    "\n",
    "#2 zenbakia 3 BAINO HANDIAGOA da?\n",
    "2 > 3\n",
    "\n",
    "#2 zenbakia 3 BAINO HANDIAGOA EDO BERDINA da?\n",
    "2 >= 3\n",
    "\n",
    "#2 zenbakia 3 zenbakiaren BERDINA da?\n",
    "2 == 3\n",
    "\n",
    "#2 zenbakia 3 zenbakiaren EZBERDINA da?\n",
    "2 != 3"
   ]
  },
  {
   "cell_type": "markdown",
   "metadata": {},
   "source": [
    "Zenbakiekin egin dugun gauza berdina egin dezakegu aldagai logikoekin:\n",
    " - Berdintzen kasuan:"
   ]
  },
  {
   "cell_type": "code",
   "execution_count": null,
   "metadata": {},
   "outputs": [],
   "source": [
    "TRUE == TRUE\n",
    "\n",
    "TRUE == FALSE\n",
    "\n",
    "FALSE == TRUE\n",
    "\n",
    "FALSE == FALSE"
   ]
  },
  {
   "cell_type": "markdown",
   "metadata": {},
   "source": [
    "**Oharra**:*Berdintzarentzako `==` erabili behar da eta ez da `=`-rekin nahastu behar. `R`-n, `=` ikurrak `<-` ikurraren ia funtzio berdina betetzen du, aldagaiei balioa esleitzea.*\n",
    " - Ezberdintzen kasuan:"
   ]
  },
  {
   "cell_type": "code",
   "execution_count": null,
   "metadata": {},
   "outputs": [],
   "source": [
    "TRUE != TRUE\n",
    "\n",
    "TRUE != FALSE\n",
    "\n",
    "FALSE != TRUE\n",
    "\n",
    "FALSE != FALSE"
   ]
  },
  {
   "cell_type": "markdown",
   "metadata": {},
   "source": [
    "Orain, aldagai logikoen bidez goiko irudiko beste 3 eragile logikoak erabiliko ditugu:"
   ]
  },
  {
   "cell_type": "code",
   "execution_count": null,
   "metadata": {},
   "outputs": [],
   "source": [
    "#Bietako bat EGIA da? Hau da, bata EDO bestea EGIA al da?\n",
    "\n",
    "TRUE | TRUE\n",
    "\n",
    "TRUE | FALSE\n",
    "\n",
    "FALSE | TRUE\n",
    "\n",
    "FALSE | FALSE"
   ]
  },
  {
   "cell_type": "code",
   "execution_count": null,
   "metadata": {},
   "outputs": [],
   "source": [
    "#Biak al dira EGIA? Hau da, bata ETA bestea EGIAK dira?\n",
    "\n",
    "TRUE & TRUE\n",
    "\n",
    "TRUE & FALSE\n",
    "\n",
    "FALSE & TRUE\n",
    "\n",
    "FALSE & FALSE"
   ]
  },
  {
   "cell_type": "markdown",
   "metadata": {},
   "source": [
    "Azken bi eragiketa hauek, luzeera handiagoko kateetan ere erabili daiteke"
   ]
  },
  {
   "cell_type": "code",
   "execution_count": null,
   "metadata": {},
   "outputs": [],
   "source": [
    "#Denak al dira EGIA?\n",
    "TRUE & TRUE & FALSE & TRUE"
   ]
  },
  {
   "cell_type": "code",
   "execution_count": null,
   "metadata": {},
   "outputs": [],
   "source": [
    "#Guztietatik bat behintzat EGIA al da?\n",
    "TRUE | TRUE | FALSE | TRUE"
   ]
  },
  {
   "cell_type": "markdown",
   "metadata": {},
   "source": [
    "## Eragile Logikoak Bektoreetan\n",
    "Programazio-lengoaietan berria den pertsona batentzako, baliteke eragile logikoeri buruz orain arte ikusitakoak ezer gutxi esatea, baina aplikazio anitz dituzte eta horietako asko oso erabilgarriak. Hasteko, bektoreetan duten garrantzia aztertuko dugu. Ikus dezagun hurrengo adibidea:"
   ]
  },
  {
   "cell_type": "code",
   "execution_count": null,
   "metadata": {},
   "outputs": [],
   "source": [
    "#x bektorea definitu\n",
    "x <- c(-1,1,5,2,-4,6,-2,3,1,10)\n",
    "\n",
    "#x bektoreko elementuak 0 baino handiagoak dira?\n",
    "x > 0"
   ]
  },
  {
   "cell_type": "markdown",
   "metadata": {},
   "source": [
    "Aurreko emaitza aztertuz gero, `x > 0` bidez beste bektore bat lortu dugu, `TRUE` eta `FALSE` bidez osatutakoa (jarritako baldintzari lotuta).\n",
    "\n",
    "Orain, $[0,8]$ tartean dauden elementuak ikusiko ditugu:"
   ]
  },
  {
   "cell_type": "code",
   "execution_count": null,
   "metadata": {},
   "outputs": [],
   "source": [
    "(x >= 0) & (x <= 8)"
   ]
  },
  {
   "cell_type": "markdown",
   "metadata": {},
   "source": [
    " - **Oharra:** *Aurreko lerroan parentesiak jarri dira ulerterrazagoa izateko, baina parentesiak jarri gabe ere emaitza berdina lortuko genuen, desberdintzak lehentasuna duelako kasu horretan. `R`-k dituen lehentasunak ez baldin baditugu ezagutzen (normala den bezala) edo dudak baldin baditugu, parentesiak erabiltzea gomendatzen da, lehentasuna ziurtatzeko.*\n",
    "\n",
    "Gogoratu dezagun nola lor ditzazkegun bektoreen barneko elementuak:"
   ]
  },
  {
   "cell_type": "code",
   "execution_count": null,
   "metadata": {},
   "outputs": [],
   "source": [
    "#4. elementua lortzeko\n",
    "x[4]\n",
    "\n",
    "#1. elementutik 4. elementura lortzeko\n",
    "x[1:4]"
   ]
  },
  {
   "cell_type": "markdown",
   "metadata": {},
   "source": [
    "### Bektoreen elementuak `TRUE` eta `FALSE` bidez\n",
    "\n",
    "Oraingo honetan, eragiketa berdina egiteko beste modu bat ikusiko dugu, aldagai logikoen bidez:"
   ]
  },
  {
   "cell_type": "code",
   "execution_count": null,
   "metadata": {},
   "outputs": [],
   "source": [
    "#4. elementua lortzeko\n",
    "x[c(FALSE,FALSE,FALSE,TRUE,FALSE,FALSE,FALSE,FALSE,FALSE,FALSE)]\n",
    "#beste modu bat\n",
    "#x[c(F,F,F,T,F,F,F,F,F,F)]\n",
    "\n",
    "#1. elementutik 4. elementura lortzeko\n",
    "x[c(TRUE,TRUE,TRUE,TRUE,FALSE,FALSE,FALSE,FALSE,FALSE,FALSE)]\n",
    "#beste modu bat\n",
    "#x[c(T,T,T,T,F,F,F,F,F,F)]"
   ]
  },
  {
   "cell_type": "markdown",
   "metadata": {},
   "source": [
    "Hau da, `TRUE` eta `FALSE` bidez sortutako bektore baten bidez, `TRUE` elementuen posizioan dauden elementuak bueltatzen digu. Hau hasiera batean zaila izan daiteke ulertzeko, baina ez ahaztu nahi diren probak egin ditzazkegula hobeto ulertzeko eta esperimentuak egiteko, azken finean horrela ikasten baita.\n",
    "\n",
    "### Bektoreen elementuak aukeratzen iragazkien bidez\n",
    "\n",
    "Aurreko bi puntuak ikusita, oraingo honetan, bektoreei iragazki desberdinak nola jarri ikasiko dugu. Demagun berriro ere aurreko `x` bektorea dugula eta 0 baino handiagoak diren elementuak erakustea nahi ditugula. Horretarako, hurrengoa egin beharko dugu:"
   ]
  },
  {
   "cell_type": "code",
   "execution_count": null,
   "metadata": {},
   "outputs": [],
   "source": [
    "#x bektorea definitu\n",
    "x <- c(-1,1,5,2,-4,6,-2,3,1,10)\n",
    "\n",
    "#0 baino handiagoak diren elementuak erakutsi\n",
    "x[x > 0]"
   ]
  },
  {
   "cell_type": "markdown",
   "metadata": {},
   "source": [
    "Konturatzen baldin bagara, aurreko bi propietateak konbinatuz lortu dugu:"
   ]
  },
  {
   "cell_type": "code",
   "execution_count": null,
   "metadata": {
    "scrolled": false
   },
   "outputs": [],
   "source": [
    "x > 0\n",
    "x[x > 0]"
   ]
  },
  {
   "cell_type": "markdown",
   "metadata": {},
   "source": [
    "Aurreko kasuan ikusi dugun bezala, berriro ere bi baldintza jarriko ditugu:\n",
    "\n",
    "$$\\mbox{0 baino handiagoa izatea eta 10 baino txikiagoa.}$$"
   ]
  },
  {
   "cell_type": "code",
   "execution_count": null,
   "metadata": {},
   "outputs": [],
   "source": [
    "x[(x > 0) & (x < 10)]"
   ]
  },
  {
   "cell_type": "markdown",
   "metadata": {},
   "source": [
    "##  `1 == TRUE` eta `0 == FALSE`\n",
    "\n",
    "`R`-n, beste lengoaia batzutan bezala, 1 balioa `TRUE` balioaren *baliokidea* da zentzu batzutan eta 0 balioa `FALSE` balioarena, ikus dezagun hurrengo berdintzaren bidez"
   ]
  },
  {
   "cell_type": "code",
   "execution_count": null,
   "metadata": {},
   "outputs": [],
   "source": [
    "1 == TRUE\n",
    "\n",
    "0 == FALSE"
   ]
  },
  {
   "cell_type": "markdown",
   "metadata": {},
   "source": [
    "Propietate hori, bektoreetan ere aplika dezakegu:"
   ]
  },
  {
   "cell_type": "code",
   "execution_count": null,
   "metadata": {},
   "outputs": [],
   "source": [
    "c(2,0,1,4,-1,5,10) == TRUE\n",
    "\n",
    "c(2,0,1,4,-1,5,10) == FALSE"
   ]
  },
  {
   "cell_type": "markdown",
   "metadata": {},
   "source": [
    "## `which` funtzioa\n",
    "`which` funtzioa bektoreekin eta eragile logikoekin loturik dago eta bektoreko elementu jakinen posizioa bueltatzen du:"
   ]
  },
  {
   "cell_type": "code",
   "execution_count": null,
   "metadata": {},
   "outputs": [],
   "source": [
    "#'x' bektorea definitu\n",
    "x <- c(1,1,5,2,4,7,2,3,1,12)\n",
    "\n",
    "#Zein posiziotan aurkitzen da 1 elementua 'x' bektorean?\n",
    "which(x == 1)\n",
    "\n",
    "#Zein posiziotan aurkitzen dira 5 baino handiagoak diren elementuak 'x' bektorean?\n",
    "which(x > 5)\n",
    "\n",
    "#Zein posiziotan aurkitzen dira zenbaki bikoitiak 'x' bektorean?\n",
    "which((x %% 2) == 0)"
   ]
  },
  {
   "cell_type": "markdown",
   "metadata": {},
   "source": [
    "### Ariketak:\n",
    "Hurrengo kode blokean `x` aldagaia definitzen da, ez da aldaketarik egin behar:"
   ]
  },
  {
   "cell_type": "code",
   "execution_count": null,
   "metadata": {},
   "outputs": [],
   "source": [
    "#Hurrengo lerroan, 'x' aldagaia definitzen da.\n",
    "set.seed(5)\n",
    "x <- sample(25, replace = T)"
   ]
  },
  {
   "cell_type": "markdown",
   "metadata": {},
   "source": [
    "Ariketa hemendik aurrera hasten da:"
   ]
  },
  {
   "cell_type": "code",
   "execution_count": null,
   "metadata": {},
   "outputs": [],
   "source": [
    "#Kalkulatu 'x' aldagaiaren luzeera\n",
    "\n",
    "\n",
    "#Adierazi 'x' bektorean 20 balioa baino handiago duten elementuak\n",
    "\n",
    "\n",
    "#Adierazi 'x' bektorean 20 balioa baino handiago duten elementuen POSIZIOA\n",
    "\n",
    "\n",
    "#Kalkulatu 'x' bektorean zenbat elementuk duten 6 balioa\n",
    "\n"
   ]
  },
  {
   "cell_type": "markdown",
   "metadata": {},
   "source": [
    "# Erabilitako funtzio berriak:\n",
    " - `which`"
   ]
  }
 ],
 "metadata": {
  "kernelspec": {
   "display_name": "R",
   "language": "R",
   "name": "ir"
  },
  "language_info": {
   "codemirror_mode": "r",
   "file_extension": ".r",
   "mimetype": "text/x-r-source",
   "name": "R",
   "pygments_lexer": "r",
   "version": "3.5.0"
  }
 },
 "nbformat": 4,
 "nbformat_minor": 2
}
