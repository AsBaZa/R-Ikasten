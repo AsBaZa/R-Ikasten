{
 "cells": [
  {
   "cell_type": "markdown",
   "metadata": {},
   "source": [
    "<img src=\"Images/Rlogo.png\"/>\n",
    "\n",
    "Koaderno honetan, programazioko beste oinarrizko atal bat ikusiko dugu: **bektoreena**. \n",
    "# R-n Lehen Pausuak: Bektoreak\n",
    "Bektoreak, dimentsio bakarreko aldagai zerrenda bezala uler daiteke. Aldagaiak, aurreko atalean ikusi bezala mota desberdinekoak izan daitezke. `R`-n bektoreak sortzeko aukera bat `c()` funtzioa da (*combine*-etik datorrena). \n",
    "\n",
    "`c()` funtzioa erabiltzen hasteko, hurrengo karaktere bektorea sortuko dugu:\n",
    "<img src=\"Images/Bektorea.png\"/>"
   ]
  },
  {
   "cell_type": "code",
   "execution_count": null,
   "metadata": {},
   "outputs": [],
   "source": [
    "x <- c('A','D','I','B','I','D','E','A')\n",
    "\n",
    "x"
   ]
  },
  {
   "cell_type": "markdown",
   "metadata": {},
   "source": [
    "Behin bektorea definitzen dugunean, bektorearen edozein elementu lortzeko aukera dugu. Horretarako `[]` karaktereak erabiliko ditugu:\n",
    " - Adibidez, `B` letra lortzea nahi badugu, `x` bektoreko 4. elementua, hurrengoa idatzi beharko dugu:"
   ]
  },
  {
   "cell_type": "code",
   "execution_count": null,
   "metadata": {},
   "outputs": [],
   "source": [
    "x[4]"
   ]
  },
  {
   "cell_type": "markdown",
   "metadata": {},
   "source": [
    " - `E` letra lortzea nahi badugu aldiz, `x` bektoreko 7. elementuari deitu behar diogu:"
   ]
  },
  {
   "cell_type": "code",
   "execution_count": null,
   "metadata": {},
   "outputs": [],
   "source": [
    "x[7]"
   ]
  },
  {
   "cell_type": "markdown",
   "metadata": {},
   "source": [
    "Era berean, bektore numerikoak, bektore logikoak eta bektore mistoak defini ditzakegu, hurrengo kode blokean agertzen den bezala:"
   ]
  },
  {
   "cell_type": "code",
   "execution_count": null,
   "metadata": {},
   "outputs": [],
   "source": [
    "y <- c(1,5,7,9)\n",
    "z <- c(TRUE, T, F, FALSE)\n",
    "A <- c(1, TRUE, \"B\", -90, FALSE, \"Karaktere Katea\")\n",
    "\n",
    "y\n",
    "z\n",
    "A"
   ]
  },
  {
   "cell_type": "markdown",
   "metadata": {},
   "source": [
    "Behin `y`, `z` eta `A` definiturik ditugula, aurreko kasuan bezala lor ditzazkegu elementuak:"
   ]
  },
  {
   "cell_type": "code",
   "execution_count": null,
   "metadata": {},
   "outputs": [],
   "source": [
    "y[2]\n",
    "z[4]\n",
    "A[6]\n",
    "A[1]"
   ]
  },
  {
   "cell_type": "markdown",
   "metadata": {},
   "source": [
    " - **Oharra:** *Konturatu `A` bektorearen balio guztiak karaktereetara eraldatu direla. `R`-k, bektoreko balio-motak desberdinak direnean denak eraldatzen ditu mota berdinera. Kasu honetan karaktereetara, karaktereen bidez aldagai horiek guztiak adierazi baitaitezke.*"
   ]
  },
  {
   "cell_type": "code",
   "execution_count": null,
   "metadata": {},
   "outputs": [],
   "source": [
    "class(A)"
   ]
  },
  {
   "cell_type": "markdown",
   "metadata": {},
   "source": [
    "## Bektoreko elementuak eraldatzen\n",
    "Orain arte, bektoreen elementuak aukeratzeko eta ikusteko modu bat ikusi dugu. Nola eraldatu ditzakegu ordea bektore horiek? Demagun hurrengo bektorea dugula\n",
    "\n",
    "$$(1,2,3,5,5,6)$$\n",
    "\n",
    "eta 4. elementua eraldatzea nahi dugula, adibidez, 4. elementuari 4 balioa ematea nahi diogula. Lehenik eta behin bektore hori definituko dugu:"
   ]
  },
  {
   "cell_type": "code",
   "execution_count": null,
   "metadata": {},
   "outputs": [],
   "source": [
    "gaizki <- c(1,2,3,5,5,6)"
   ]
  },
  {
   "cell_type": "markdown",
   "metadata": {},
   "source": [
    "Horretarako, hurrengo lerroa idatzi beharko dugu, hau da, 4. elementuari 4 balioa ematen diona."
   ]
  },
  {
   "cell_type": "code",
   "execution_count": null,
   "metadata": {},
   "outputs": [],
   "source": [
    "gaizki[4] <- 4\n",
    "\n",
    "gaizki"
   ]
  },
  {
   "cell_type": "markdown",
   "metadata": {},
   "source": [
    "Demagun orain, gure bektorean balio bat soberan dagoela, eta balio hori ezabatzea nahi dugula, gure adibiderako, hurrengo bektorea erabiliko dugu\n",
    "\n",
    "$$\\mbox{c('G','A','I','Z','Z','K','I')}$$\n",
    "\n",
    "eta errepikatuta dagoen `Z` letra ezabatzea nahi dugula, hau da, 4. elementua (edo 5. elementua). Exekuta dezagun hurrengo kode blokea ea zer gertatzen den ikusteko."
   ]
  },
  {
   "cell_type": "code",
   "execution_count": null,
   "metadata": {},
   "outputs": [],
   "source": [
    "x <- c('G','A','I','Z','Z','K','I')\n",
    "\n",
    "x[-1]\n",
    "\n",
    "x[-3]\n",
    "\n",
    "x[-4]\n",
    "\n",
    "x[-6]"
   ]
  },
  {
   "cell_type": "markdown",
   "metadata": {},
   "source": [
    "Beraz, `-` ikurraren bidez, gure bektoretik kanpo utziko dugu adierazitako elementua. Aldaketa hori gordetzea nahi baldin badugu, aldaketa hori aldagai berdinean edota beste aldagai baten gorde beharko dugu"
   ]
  },
  {
   "cell_type": "code",
   "execution_count": null,
   "metadata": {},
   "outputs": [],
   "source": [
    "y <- x[-4]\n",
    "\n",
    "y"
   ]
  },
  {
   "cell_type": "markdown",
   "metadata": {},
   "source": [
    "## Bektoreen arteko eragiketak\n",
    "\n",
    "Informazioa eta datuak aldagaietan gordetzea ondo dago, baina benetan interesgarriena datu horiekin lan egitea da, datuak eraldatzea gure nahien arabera. Bektore numerikoen kasuan, oinarrizko eragiketa matematikoak egin ditzakegu:\n",
    "\n",
    "$$(1,3,5)+(3,-2,5)=(1+3,3-2,5+5)=(4,1,10)$$\n",
    "\n",
    "$$(1,3,5)-(3,-2,5)=(1-3,3+2,5-5)=(-2,5,0)$$"
   ]
  },
  {
   "cell_type": "code",
   "execution_count": null,
   "metadata": {},
   "outputs": [],
   "source": [
    "bektorea_1 <- c(1,3,5)\n",
    "bektorea_2 <- c(3,-2,5)\n",
    "\n",
    "bektorea_1 + bektorea_2\n",
    "bektorea_1 - bektorea_2"
   ]
  },
  {
   "cell_type": "markdown",
   "metadata": {},
   "source": [
    "Bestalde, `R`-k era estandarrean elementuz elementuko biderketa eta zatiketa egiten du:\n",
    "\n",
    "$$(1,3,5)\\ast(3,-2,5)=(1\\ast3,3\\ast(-2),5\\ast5)=(3,-6,25)$$\n",
    "\n",
    "$$(1,3,5)/(3,-2,5)=(1/3,3/(-2),5/5)=(1/3,-3/2,1)$$"
   ]
  },
  {
   "cell_type": "code",
   "execution_count": null,
   "metadata": {},
   "outputs": [],
   "source": [
    "bektorea_1 * bektorea_2\n",
    "bektorea_1 / bektorea_2"
   ]
  },
  {
   "cell_type": "markdown",
   "metadata": {},
   "source": [
    "Bektoreen arteko biderketa eskalarra egitea nahi baldin badugu `%*%` eragiketa erabili beharko dugu:\n",
    "\n",
    "$$(1,3,5)\\cdot(3,−2,5)=1∗3 + 3∗(−2) + 5∗5=3 - 6 + 25=22$$"
   ]
  },
  {
   "cell_type": "code",
   "execution_count": null,
   "metadata": {},
   "outputs": [],
   "source": [
    "bektorea_1 %*% bektorea_2"
   ]
  },
  {
   "cell_type": "markdown",
   "metadata": {},
   "source": [
    "### Birziklapen araua\n",
    "\n",
    "Bektoreen arteko oinarrizko eragiketak ikusi ditugu eta orain eragiketa arau desberdin batzuk ikusiko ditugu. Ze gertatzen da `R`-n hurrengo eragiketa eginez gero? Errore bat jaurtiko al du?\n",
    "\n",
    "$$(1,2,3)+1$$\n",
    "\n",
    "Erantzun hori lortzeko, ondorengoa exektutatzearekin nahiko dugu:"
   ]
  },
  {
   "cell_type": "code",
   "execution_count": null,
   "metadata": {},
   "outputs": [],
   "source": [
    "x <- 1\n",
    "y <- \"Bat\"\n",
    "z <- TRUE\n",
    "\n",
    "class(x)\n",
    "class(y)\n",
    "class(z)"
   ]
  },
  {
   "cell_type": "code",
   "execution_count": null,
   "metadata": {},
   "outputs": [],
   "source": [
    "c(1,2,3) + 1\n",
    "\n",
    "6 / c(1,2,3)"
   ]
  },
  {
   "cell_type": "markdown",
   "metadata": {},
   "source": [
    "Beste programazio-lengoaia batzuk ikusi dituenak seguraski emaitza normaltzat jo du. `R`-k, bektoreen arteko eragiketetan luzeera gutxien duen bektorearen elementuak **birziklatzen** edo **errepikatzen** ditu bi bektoreen luzeerak berdinak bihurtzeko:\n",
    "\n",
    "$$(1,2,3)+1:=(1,2,3)+(1,1,1)$$\n",
    "\n",
    "$$6\\ /\\ (1,2,3):=(6,6,6)\\ /\\ (1,2,3):=(6/1,6/2,6/3)$$\n",
    "\n",
    "Berdina gertatzen da luzeera desberdina duten beste kasuetan ere, **birziklapena** ematen da hurrengo eran:\n",
    "\n",
    "$$(1,2,3,4,5,6)+(1,3):=(1,2,3,4,5,6)+(1,3,1,3,1,3)=(2,5,4,7,6,9)$$\n",
    "\n",
    "$$(1,2,3,4,5,6,7,8,9)+(1,2,3):=(1,2,3,4,5,6,7,8,9)+(1,2,3,1,2,3,1,2,3)=(2,4,6,5,7,9,8,10,12)$$"
   ]
  },
  {
   "cell_type": "code",
   "execution_count": null,
   "metadata": {},
   "outputs": [],
   "source": [
    "c(1,2,3,4,5,6) + c(1,3)\n",
    "\n",
    "c(1,2,3,4,5,6,7,8,9) + c(1,2,3)"
   ]
  },
  {
   "cell_type": "markdown",
   "metadata": {},
   "source": [
    "Aurreko kasuetan, bektoreen luzeerak proportzionalak ziren, lehenengo kasuan:\n",
    "\n",
    "$$3=1\\cdot3$$\n",
    "\n",
    "eta beste bietan:\n",
    "\n",
    "$$6=2\\cdot3$$\n",
    "\n",
    "$$9=3\\cdot3$$\n",
    "\n",
    "Azken bertsioetan, bektoreen luzeerak ez dira proportzionalak izan behar eragiketa egiteko, baina `R`-k `Warning` abisua emango bi bektoreen luzeerak ez direla proportzionalak esanez.\n",
    "\n",
    "$$(1,2,3,4,5) + (1,2) := (1,2,3,4,5)+(1,2,1,2,1)=(2,4,4,6,6)$$"
   ]
  },
  {
   "cell_type": "code",
   "execution_count": null,
   "metadata": {},
   "outputs": [],
   "source": [
    "c(1,2,3,4,5) + c(1,2)"
   ]
  },
  {
   "cell_type": "markdown",
   "metadata": {},
   "source": [
    "## `sum()`, `prod()`, `mean()` eta `sd()` funtzioak\n",
    "Atal honetan 4 funtzio aztertuko ditugu, besteak beste bektore numerikoetan erabiltzen direnak: `sum()`, `prod()`, `mean()` eta `sd()`. Lehenengoak, bektorearen elementuen batuketa egiten du eta bigarrenak berriz elementuen arteko biderketa"
   ]
  },
  {
   "cell_type": "code",
   "execution_count": null,
   "metadata": {},
   "outputs": [],
   "source": [
    "x <- c(1,2,3,4)\n",
    "\n",
    "sum(c(1,2,3,4))\n",
    "sum(x)\n",
    "\n",
    "prod(c(1,2,3,4))\n",
    "prod(x)"
   ]
  },
  {
   "cell_type": "markdown",
   "metadata": {},
   "source": [
    "`mean()` eta `sd()`-k aldiz, [media](https://eu.wikipedia.org/wiki/Batezbesteko_aritmetiko_sinple) eta [desbiderapen estandarra](https://eu.wikipedia.org/wiki/Desbideratze_estandar) (standard deviation) kalkulatzen dute:"
   ]
  },
  {
   "cell_type": "code",
   "execution_count": null,
   "metadata": {},
   "outputs": [],
   "source": [
    "mean(x)\n",
    "\n",
    "sd(x)"
   ]
  },
  {
   "cell_type": "markdown",
   "metadata": {},
   "source": [
    "### Segida aritmetikoak sortzen\n",
    "\n",
    "Segida aritmetikoak, hurrengo itxura duten zenbaki segidak dira:\n",
    "\n",
    "$$a_n = a_{n-1} + d$$\n",
    "non $d$ zenbaki finko bat den. Adibidez:\n",
    "\n",
    "$$1,2,3,4,5,\\ldots,100$$\n",
    "\n",
    "$$2,4,6,8,10,\\ldots,270$$\n",
    "\n",
    "$$20,18,16,14,12,\\ldots,0$$\n",
    "\n",
    "$d=1$ den kasuetarako, `:` erabili daiteke"
   ]
  },
  {
   "cell_type": "code",
   "execution_count": null,
   "metadata": {},
   "outputs": [],
   "source": [
    "1:20\n",
    "\n",
    "5:17\n",
    "\n",
    "3:-10"
   ]
  },
  {
   "cell_type": "markdown",
   "metadata": {},
   "source": [
    "$d\\neq1$ den kasuetarako `seq()` funtzioa existitzen da. Funtzioaren barruan, argumentu bezala hurrengoak erabiliko ditug:\n",
    " - `from`: segidaren lehen zenbakia\n",
    " - `to`: segidaren azken zenbakia\n",
    " - `by`: segida aritmetikoaren $d$ balioa"
   ]
  },
  {
   "cell_type": "code",
   "execution_count": null,
   "metadata": {},
   "outputs": [],
   "source": [
    "seq(from = 10, to = 20, by = 2)\n",
    "\n",
    "seq(from = 3, to = -15, by = -3)"
   ]
  },
  {
   "cell_type": "markdown",
   "metadata": {},
   "source": [
    "## Bektoreen elementu anitzen aukeraketa\n",
    "Koaderno honen hasieran, bektoreen elementuei nola deitu azaldu da, baina elementu bakar bati. Oraingoan, kasu hori orokortuko da elementu bati baino gehiagori deitzeko"
   ]
  },
  {
   "cell_type": "code",
   "execution_count": null,
   "metadata": {},
   "outputs": [],
   "source": [
    "x <- 1:100\n",
    "\n",
    "#x bektorearen 2,6 eta 7. elementuak lortuko ditugu\n",
    "x[c(2,6,7)]\n",
    "\n",
    "#x bektorearen 77,78,79 eta 80. elementuak lortuko ditugu\n",
    "x[77:80]\n",
    "\n",
    "#x bektoretik 2, 6 eta 7. elementuak kenduko ditugu\n",
    "x[-c(2,6,7)]\n",
    "\n",
    "#x bektorearen 99,96,93 eta 90. elementuak lortuko ditugu\n",
    "x[seq(from = 99, to = 90, by = -3)]"
   ]
  },
  {
   "cell_type": "markdown",
   "metadata": {},
   "source": [
    "## Bektoreen elementuei izenak ematen\n",
    "\n",
    "Bektoreko elementuei posizioaren arabera deitu beharrean izenaren bidez deitzea nahi baldin badugu, `names()` funtzioa erabiliko dugu. Suposa dezagun `urteak` bektorean gurasoen eta anai-arreben jaiotze-data gordetzea nahi dugula hurrengo eran ordenaturik:\n",
    " - Aita\n",
    " - Ama\n",
    " - Anaia\n",
    " - Arreba"
   ]
  },
  {
   "cell_type": "code",
   "execution_count": null,
   "metadata": {},
   "outputs": [],
   "source": [
    "urteak <- c(1950,1949,1985,1988)"
   ]
  },
  {
   "cell_type": "markdown",
   "metadata": {},
   "source": [
    "Sartutako datuen ordena ahizteko arazoa dugunez, `names()` funtzioa erabiliko dugu:"
   ]
  },
  {
   "cell_type": "code",
   "execution_count": null,
   "metadata": {},
   "outputs": [],
   "source": [
    "names(urteak) <- c(\"Aita\", \"Ama\", \"Anaia\", \"Arreba\")\n",
    "\n",
    "urteak"
   ]
  },
  {
   "cell_type": "markdown",
   "metadata": {},
   "source": [
    "Beraz, behin bektoreari izenak definitu eta gero izen horien bidez lor daitezke nahi ditugun balioak, kasu honetan jaiotze-data:"
   ]
  },
  {
   "cell_type": "code",
   "execution_count": null,
   "metadata": {},
   "outputs": [],
   "source": [
    "urteak[\"Aita\"]\n",
    "\n",
    "urteak[c(\"Ama\",\"Arreba\")]"
   ]
  },
  {
   "cell_type": "markdown",
   "metadata": {},
   "source": [
    " - **Oharra:** `names()` funtzioaren bidez edozein aldagai mota esleitzen dugula ere, era automatikoan karaktereetara bihurtuko du"
   ]
  },
  {
   "cell_type": "code",
   "execution_count": null,
   "metadata": {},
   "outputs": [],
   "source": [
    "x <- 21:30\n",
    "\n",
    "names(x) <- 1:10\n",
    "\n",
    "x\n",
    "\n",
    "x[\"1\"]"
   ]
  },
  {
   "cell_type": "markdown",
   "metadata": {},
   "source": [
    "## `length` funtzioa\n",
    "Bektoreei oso loturik doan funtzio bat `length` funtzioa da. Funtzio honek, ingelesezko hitzak dioen bezala luzeera kalkulatzen du, hau da, bektorearen elementu kopurua:"
   ]
  },
  {
   "cell_type": "code",
   "execution_count": null,
   "metadata": {},
   "outputs": [],
   "source": [
    "length(c(1,2,5,10,5,2,1))\n",
    "\n",
    "length(c(8:1006))"
   ]
  },
  {
   "cell_type": "markdown",
   "metadata": {},
   "source": [
    "# Erabilitako funtzio berriak:\n",
    " - `c`\n",
    " - `sum`\n",
    " - `prod`\n",
    " - `mean`\n",
    " - `sd`\n",
    " - `seq`\n",
    " - `names`\n",
    " - `length`"
   ]
  }
 ],
 "metadata": {
  "kernelspec": {
   "display_name": "R",
   "language": "R",
   "name": "ir"
  },
  "language_info": {
   "codemirror_mode": "r",
   "file_extension": ".r",
   "mimetype": "text/x-r-source",
   "name": "R",
   "pygments_lexer": "r",
   "version": "3.5.0"
  }
 },
 "nbformat": 4,
 "nbformat_minor": 2
}
