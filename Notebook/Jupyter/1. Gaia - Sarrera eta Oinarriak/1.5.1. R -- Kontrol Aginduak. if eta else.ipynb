{
 "cells": [
  {
   "cell_type": "markdown",
   "metadata": {},
   "source": [
    "<img src=\"Images/Rlogo.png\"/>\n",
    "\n",
    "Koaderno honetan, programazioko beste oinarrizko atal bat ikusiko dugu: **Kontrol Aginduena**. \n",
    "# R-n Lehen Pausuak: kontrol aginduak\n",
    "Kontrol aginduak konputazioaren funtsa dira. Konputazioaren helburu nagusienetako bat, lan errepikakorrak egitea da behin eta berriro. Adibide bezala, demagun lehen 10.000 zenbakiak marraztea nahi ditugula, pertsona gehientsuenentzat, lan hori ez da lan zail bat, baina bai errepikakorra eta denbora dexente behar duena (hala ere, beti dago aspertuta dagoen pertsonaren bat eta lehen 100.000 zenbakiak kontatzen grabatzen duenik ere [Bideoa](https://www.youtube.com/watch?v=xWcIdHxHFpo))\n",
    "\n",
    "Horrelako lanetarako hain zuzen ere oso aproposak eta eraginkorrak dira ordenagailuak. Ikus dezagun zenbat denbora behar duen gure ordenagailuak lehen 10.000 zenbakiak marrazteko."
   ]
  },
  {
   "cell_type": "code",
   "execution_count": null,
   "metadata": {},
   "outputs": [],
   "source": [
    "1:10000"
   ]
  },
  {
   "cell_type": "markdown",
   "metadata": {},
   "source": [
    "Demagun orain $2^{100}$ kalkulatzea nahi dugula. Pertsona arrunt batek denbora asko beharko luke kalkulu hori egiteko (beste askok inoiz ere ez dugu lortuko egitea), baina gaur egungo ordenagailuek ez dute ezta segundo erdi behar"
   ]
  },
  {
   "cell_type": "code",
   "execution_count": null,
   "metadata": {},
   "outputs": [],
   "source": [
    "2^100"
   ]
  },
  {
   "cell_type": "markdown",
   "metadata": {},
   "source": [
    "Hala ere, gehienetan kalkulu eta prozesu konplexuagoak edota gure beharren araberakoak egitea beharko dugu eta hor sartzen dira jokoan **kontrol aginduak**"
   ]
  },
  {
   "cell_type": "markdown",
   "metadata": {},
   "source": [
    "## `if` eta `else`\n",
    "`if` eta `else` kontrol aginduak orain arte ikusitako gehiena bezala, ia edozein programazio-lengoaiatan aurki daiteke. Ingelesezko hitzak dira:\n",
    "\n",
    "$$if \\equiv baldin$$\n",
    "$$else \\equiv bestela$$\n",
    "\n",
    "Has gaitezen lehenengoarekin\n",
    "\n",
    "### `if`\n",
    "\n",
    "`if`-ek duen egitura honelako da:\n",
    "\n",
    "`if (baldintza edo baldintzak){\n",
    "    ekintza edo ekintzak\n",
    "}`\n",
    "\n",
    "Ikus dezagun hurrengo bi adibideen bitartez"
   ]
  },
  {
   "cell_type": "code",
   "execution_count": null,
   "metadata": {},
   "outputs": [],
   "source": [
    "#'a' aldagaiari 1 balioa esleituko diogu\n",
    "a <- 1\n",
    "\n",
    "#6 > 5 betetzen bada (TRUE baldin bada), orduan { } giltzen tartean dagoena egingo du\n",
    "#Kasu honetan betetzen da, beraz giltzen barnekoa egiten du\n",
    "if (6 > 5){\n",
    "    a <- 2\n",
    "}\n",
    "\n",
    "a"
   ]
  },
  {
   "cell_type": "code",
   "execution_count": null,
   "metadata": {},
   "outputs": [],
   "source": [
    "#'a' aldagaiari 1 balioa esleituko diogu\n",
    "a <- 1\n",
    "\n",
    "#6 < 5 betetzen bada (TRUE baldin bada), orduan { } giltzen tartean dagoena egingo du\n",
    "#Kasu honetan ez da betetzen, beraz ez du giltzen barnekoa egiten\n",
    "if (6 < 5){\n",
    "    a <- 2\n",
    "}\n",
    "\n",
    "a"
   ]
  },
  {
   "cell_type": "markdown",
   "metadata": {},
   "source": [
    "Konturatzen baldin bagara, lehenengo kasuan, `a`-ren hasierako balioa aldatu da `if`-en parentesi barneko baldintza egia zelako (TRUE) eta bigarren kasuan aldiz parentesi barneko baldintza betetzen ez zenez, ez da `a`-ren hasierako balioa aldatu. Goazen orain beste adibide zailago batekin:"
   ]
  },
  {
   "cell_type": "code",
   "execution_count": null,
   "metadata": {},
   "outputs": [],
   "source": [
    "#'eguna' aldagaiari 1 eta 7 zenbakien arteko balio bat esleituko diogu\n",
    "#Aldatu balioa nahi izanez gero\n",
    "eguna <- 5\n",
    "\n",
    "\n",
    "if (eguna == 1){\n",
    "    print(\"Astelehena\")\n",
    "}\n",
    "if (eguna == 2){\n",
    "    print(\"Asteartea\")\n",
    "}\n",
    "if (eguna == 3){\n",
    "    print(\"Asteazkena\")\n",
    "}\n",
    "if (eguna == 4){\n",
    "    print(\"Osteguna\")\n",
    "}\n",
    "if (eguna == 5){\n",
    "    print(\"Ostirala\")\n",
    "}\n",
    "if (eguna == 6){\n",
    "    print(\"Larunbata\")\n",
    "}\n",
    "if (eguna == 7){\n",
    "    print(\"Igandea\")\n",
    "}"
   ]
  },
  {
   "cell_type": "markdown",
   "metadata": {},
   "source": [
    "Azken kasu honetan, 7 baldintza ezberdin ditugu eta horietako bat betetzen baldin bada, asteko egun bat itzuliko du."
   ]
  },
  {
   "cell_type": "markdown",
   "metadata": {},
   "source": [
    "### `else`\n",
    "\n",
    "`else`-ren egitura honako hau da:\n",
    "\n",
    "\n",
    "`if (baldintza edo baldintzak){\n",
    "    ekintza edo ekintzak\n",
    "} else{\n",
    "    ekintza edo ekintzak\n",
    "}`\n",
    "\n",
    "**Oharra**: *`else`-k **BETI** behar du `if` bat izatea bere aurretik, bestela errore bat emango digu. Hurrengo kode lerroa exekutatzen badugu adibidez, errore bat emango digu*"
   ]
  },
  {
   "cell_type": "code",
   "execution_count": null,
   "metadata": {},
   "outputs": [],
   "source": [
    "else{\n",
    "    a <- 5\n",
    "}"
   ]
  },
  {
   "cell_type": "markdown",
   "metadata": {},
   "source": [
    "Hurrengo blokeak ere errorea emango digu (`else` ez dagoelako era egokian idatzirik):"
   ]
  },
  {
   "cell_type": "code",
   "execution_count": null,
   "metadata": {},
   "outputs": [],
   "source": [
    "#Gorde 'a' aldagaian nahi den zenbaki oso bat\n",
    "a <- 11\n",
    "\n",
    "if (a %% 2){\n",
    "    print(\"Gure aldagaia bikoitia da\")\n",
    "}\n",
    "else{\n",
    "    print(\"Gure aldagaia bakoitia da\")\n",
    "}"
   ]
  },
  {
   "cell_type": "markdown",
   "metadata": {},
   "source": [
    "Esan bezala, ondo idazteko era egokia hurrengoa da:"
   ]
  },
  {
   "cell_type": "code",
   "execution_count": null,
   "metadata": {},
   "outputs": [],
   "source": [
    "#Gorde 'a' aldagaian nahi den zenbaki oso bat\n",
    "a <- 11\n",
    "\n",
    "#'a' 2-rekin zatitzean, hondarra 0 baldin bada, hau da, bikoitia bada\n",
    "if ((a %% 2) == 0){\n",
    "    \"Gure aldagaia bikoitia da\"\n",
    "} else{ \n",
    "    \"Gure aldagaia bakoitia da\"\n",
    "}"
   ]
  },
  {
   "cell_type": "markdown",
   "metadata": {},
   "source": [
    "Azken kode blokean, `a` aldagaiari zenbaki oso bat esleitu ondoren, zenbaki hori bikoitia den edo ez aztertzen dugu:\n",
    "\n",
    "                                    (a %% 2) == 0\n",
    "                            \n",
    "Gogoratu `%%` eragiketa modulua kalkulatzeko erabiltzen dela, hau da, zatiketa egin ondoren geratzen den hondarra kalkulatzeko (ondorioz, zenbaki bakoitien hondarra 1 izango da eta bikoitiena 0).\n",
    "\n",
    "Baldintza hori betetzen bada, `Gure aldagaia bikoitia da` printatzen du eta bestela, `Gure aldagaia bakoitia da`.\n",
    "\n",
    "`if` eta `else` sinpleetarako, `ifelse` funtzioa existitzen da. Funtzio honen forma honakoa da:\n",
    "\n",
    "`ifelse(baldintza, ekintzak1, ekintzak2)`\n",
    "\n",
    "`ekintzak1` baldintza betetzen denean burutzen da eta `ekintzak2` baldintza betetzen ez denean. Aurreko adibidea honela idatz genezake:"
   ]
  },
  {
   "cell_type": "code",
   "execution_count": null,
   "metadata": {},
   "outputs": [],
   "source": [
    "a <- 11\n",
    "\n",
    "ifelse((a %% 2) == 0, \"Gure aldagaia bikoitia da\", \"Gure aldagaia bakoitia da\")"
   ]
  },
  {
   "cell_type": "markdown",
   "metadata": {},
   "source": [
    "Bi moduetara idatzita ondo dago eta nahi dena aukeratu daiteke, gustuaren arabera."
   ]
  },
  {
   "cell_type": "markdown",
   "metadata": {},
   "source": [
    "## `else if`\n",
    "Koaderno honi amaiera emateko, `else if` ikusiko dugu, honen bidez aurreko bi aukerak konbinatzeko aukera ematen digu. Egitura, `else`-ren antzekoa da:\n",
    "\n",
    "`if (baldintza edo baldintzak){\n",
    "    ekintza edo ekintzak\n",
    "} else if (baldintza edo baldintzak){\n",
    "    ekintza edo ekintzak\n",
    "}`\n",
    "\n",
    "`else if` honela ere uler daiteke `else + if`, hau da, lehendabizi `else` aplikatzen zaio eta ondoren beste `if` baldintza bat. Hurrengo adibidea aztertuko dugu:"
   ]
  },
  {
   "cell_type": "code",
   "execution_count": null,
   "metadata": {},
   "outputs": [],
   "source": [
    "#'a' aldagaiari zenbaki bat esleituko diogu:\n",
    "#Probatu hurrengo balioekin probak egiteko: 6, 7, 33\n",
    "a <- 33\n",
    "\n",
    "if ((a %% 2) == 0){\n",
    "    \"Gure aldagaia bikoitia da\"\n",
    "}else if ((a %% 3) == 0){\n",
    "    \"Gure aldagaia ez da bikoitia, baina bai 3aren multiploa\"\n",
    "}"
   ]
  },
  {
   "cell_type": "markdown",
   "metadata": {},
   "source": [
    "Aurreko blokean `a` aldagaiari 6, 7 eta 33 balioak jarriz gero hurrengo emaitzak jasoko dira hurrenez hurren:\n",
    " - `Gure aldagaia bikoitia da` (Kasu honetan, 6 bikoitia eta 3aren multiploa da, baina lehen baldintza bete denez hurrengo lerroan `else`-rengatik ez du hurrengo lerroa printatuko)\n",
    " - `` (Kasu honetan, 7 zenbakia ez denez ez bikoitia ezta 3aren multiploa ere ez, ez da ezer ere ez printatu)\n",
    " - `Gure aldagaia ez da bikoitia, baina bai 3aren multiploa` (33aren kasuan, lehenengo baldintza ez denez bete, bigarren baldintzara joaten da eta bigarren baldintza betetzen denez, bigarren mezua printatzen du)\n",
    " \n",
    "Egin dezagun orain ariketa berdina, baina kasu honetan, `else if` erabili beharrean `if` bakarrik erabiliz eta azter ditzagun desberdintasunak.\n"
   ]
  },
  {
   "cell_type": "code",
   "execution_count": null,
   "metadata": {},
   "outputs": [],
   "source": [
    "#'a' aldagaiari zenbaki bat esleituko diogu:\n",
    "#Probatu hurrengo balioekin probak egiteko: 6, 7, 33\n",
    "a <- 6\n",
    "\n",
    "if ((a %% 2) == 0){\n",
    "    \"Gure aldagaia bikoitia da\"\n",
    "}\n",
    "if ((a %% 3) == 0){\n",
    "    \"Gure aldagaia 3aren multiploa da\"\n",
    "}"
   ]
  },
  {
   "cell_type": "markdown",
   "metadata": {},
   "source": [
    "Azken adibide honetan, aldaketa garrantzitsuena 6 zenbakiarekin ematen da. Kasu honetan, **BI** mezuak printatzen ditu: `Gure aldagaia bikoitia da` eta `Gure aldagaia 3aren multiploa da`. Hain zuzen ere `else if`-en ordez `if` jartzeak hori egiten du, bi baldintzak aldi berean gertatzeko aukera eman.\n",
    "\n",
    "Hasieran, asteko egunekin aurkeztu da adibide bat `if`-ak erabiliz. Hala ere, urteko egun bakoitza asteko egun bakar bati dagokio (ez da egongo aldi berean astelehena eta asteartea den egunik), ondorioz hori idazteko era egokiagoa `else if` bidez izango zen"
   ]
  },
  {
   "cell_type": "code",
   "execution_count": null,
   "metadata": {},
   "outputs": [],
   "source": [
    "#'eguna' aldagaiari 1 eta 7 zenbakien arteko balio bat esleituko diogu\n",
    "#Aldatu balioa nahi izanez gero\n",
    "eguna <- 5\n",
    "\n",
    "\n",
    "if (eguna == 1){\n",
    "    print(\"Astelehena\")\n",
    "} else if (eguna == 2){\n",
    "    print(\"Asteartea\")\n",
    "} else if (eguna == 3){\n",
    "    print(\"Asteazkena\")\n",
    "} else if (eguna == 4){\n",
    "    print(\"Osteguna\")\n",
    "} else if (eguna == 5){\n",
    "    print(\"Ostirala\")\n",
    "} else if (eguna == 6){\n",
    "    print(\"Larunbata\")\n",
    "} else if (eguna == 7){\n",
    "    print(\"Igandea\")\n",
    "}"
   ]
  },
  {
   "cell_type": "markdown",
   "metadata": {},
   "source": [
    " - **Nota garrantzitsua:** *Orain idatzitako modu hau egokiagoa eta optimoagoa eta arrazoia hurrengoa da. Demagun `eguna <- 1` ezarri dugula. `else if`-ak erabili ditugun kasuan `R`-k baldintza bakarra aztertu behar du, hau da, `eguna == 1` baldintza. Behin baldintza hori betetzen dela ikusita `else`-engatik ez ditu aztertuko beste baldintzak. Lehenengo kasuan aldiz, `if`-en kasuan, `R`-k 7 baldintzak aztertzen ditu nahiz eta beharrezkoak ez izan. *"
   ]
  },
  {
   "cell_type": "markdown",
   "metadata": {},
   "source": [
    "# Erabilitako funtzio berriak:\n",
    " - `ifelse`"
   ]
  }
 ],
 "metadata": {
  "kernelspec": {
   "display_name": "R",
   "language": "R",
   "name": "ir"
  },
  "language_info": {
   "codemirror_mode": "r",
   "file_extension": ".r",
   "mimetype": "text/x-r-source",
   "name": "R",
   "pygments_lexer": "r",
   "version": "3.5.0"
  }
 },
 "nbformat": 4,
 "nbformat_minor": 2
}
