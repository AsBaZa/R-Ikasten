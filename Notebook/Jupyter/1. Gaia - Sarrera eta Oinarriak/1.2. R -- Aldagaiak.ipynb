{
 "cells": [
  {
   "cell_type": "markdown",
   "metadata": {},
   "source": [
    "<img src=\"Images/Rlogo.png\"/>\n",
    "\n",
    "Notebook honetan, programazioko beste oinarrizko atal bat ikusiko dugu: **aldagaiena**. Aldagaietan, programazio lengoaiak eskaintzen dituen objektu desberdinak gorde daitezke, besteak beste:\n",
    " - Zenbakiak\n",
    " - Karaktere-kateak\n",
    " - Aldagai-logikoak\n",
    " \n",
    "# R-n Lehen Pausuak: Aldagaiak\n",
    "## Aldagai Numerikoak\n",
    "\n",
    "Hasteko, aldagaietan zenbakiak gordetzen hasiko gara. Hurrengo lerroan, `x` aldagaiari 10 balioa esleituko diogu.\n",
    "\n",
    "Horretarako, `<-` erabiliko dugu:"
   ]
  },
  {
   "cell_type": "code",
   "execution_count": null,
   "metadata": {},
   "outputs": [],
   "source": [
    "x <- 10"
   ]
  },
  {
   "cell_type": "markdown",
   "metadata": {},
   "source": [
    "Aurreko lerroa exekutatu baldin badugu, `x` aldagaiak 10 balioa izango du gordeta bere baitan. Beraz, `x` exekutatzen baldin badugu, gordeta daukan balioa erakutsiko digu, hau da, kasu honetan 10 balioa.\n",
    "$$x=10$$"
   ]
  },
  {
   "cell_type": "code",
   "execution_count": null,
   "metadata": {},
   "outputs": [],
   "source": [
    "x"
   ]
  },
  {
   "cell_type": "markdown",
   "metadata": {},
   "source": [
    "`R`-n, gure saioan gordeta ditugun aldagaiak ikusteko `ls()` funtzioa dago:"
   ]
  },
  {
   "cell_type": "code",
   "execution_count": null,
   "metadata": {},
   "outputs": [],
   "source": [
    "ls()"
   ]
  },
  {
   "cell_type": "markdown",
   "metadata": {},
   "source": [
    "Aldagaiak, balioak gordetzeaz gain eragiketa ezberdinak egiteko balio dute. Defini ditzagun hurrengo bi aldagaiak:\n",
    " - `amak_emandako_dirua`\n",
    " - `aitak_emandako_dirua`\n",
    " \n",
    "Non lehenengoaren balioa 20 den eta bigarrenarena 12. Gure helburua gurasoengandik jasotako diru kopuru totala baldin bada, bien arteko batura egin beharko dugu, hau da:\n",
    " - `amak_emandako_dirua + aitak_emandako_dirua`\n",
    "\n",
    "eta noski, espero den emaitza 32 izango da."
   ]
  },
  {
   "cell_type": "code",
   "execution_count": null,
   "metadata": {},
   "outputs": [],
   "source": [
    "amak_emandako_dirua <- 20\n",
    "aitak_emandako_dirua <- 12\n",
    "\n",
    "amak_emandako_dirua + aitak_emandako_dirua"
   ]
  },
  {
   "cell_type": "markdown",
   "metadata": {},
   "source": [
    "Demagun, diru kopuru hori astero jasotzen dugula eta urte amaieran gurasoengandik jaso dugun diru kopurua kalkulatzea nahi dugula. Urteak 52 aste dituela suposatzen badugu, urte betean jasotako diru kantitate totala hurrengoa izango da:\n",
    "\n",
    "$$52\\cdot \\mbox{(amak_emandako_dirua + aitak_emandako_dirua)}$$\n",
    "\n",
    "$$52\\cdot \\mbox{(20 + 12)}$$"
   ]
  },
  {
   "cell_type": "code",
   "execution_count": null,
   "metadata": {},
   "outputs": [],
   "source": [
    "52 * (amak_emandako_dirua + aitak_emandako_dirua)"
   ]
  },
  {
   "cell_type": "markdown",
   "metadata": {},
   "source": [
    "**Oharra:** *Aldagaiei izenak ematerako orduan arau batzuk bete behar dira, besteak beste ezin dira **hutsuneak** erabili aldagaien izenentzako ezta **karaktere bereziak** ere ez* (`*`,`/`,`+`,`-`,`(`,`)`,`\\`...)."
   ]
  },
  {
   "cell_type": "code",
   "execution_count": null,
   "metadata": {},
   "outputs": [],
   "source": [
    "amak emandako dirua <- 20"
   ]
  },
  {
   "cell_type": "code",
   "execution_count": null,
   "metadata": {},
   "outputs": [],
   "source": [
    "karaktere*berezia <- 20"
   ]
  },
  {
   "cell_type": "markdown",
   "metadata": {},
   "source": [
    "## Karaktere-kate aldagaiak\n",
    "Beste aldagai-mota estandar bat, karaktere-kateena da. `R`-n karaktere-kateak sartzerako orduan bi era daude, `''` komatxo sinple bidez edo `\"\"` komatxo bikoitzen bidez:"
   ]
  },
  {
   "cell_type": "code",
   "execution_count": null,
   "metadata": {},
   "outputs": [],
   "source": [
    "komatxo_sinpleak <- 'Adibidea'\n",
    "komatxo_bikoitzak <- \"Adibidea\"\n",
    "\n",
    "komatxo_sinpleak\n",
    "komatxo_bikoitzak"
   ]
  },
  {
   "cell_type": "markdown",
   "metadata": {},
   "source": [
    "## Aldagai Logikoak (Aldagai Boolearrak)\n",
    "Beste aldagai-mota estandar bat, aldagai logikoena da. Aldagai logikoek, bi aukera dute:\n",
    " - `TRUE` (edo `T`)\n",
    " - `FALSE` (edo `F`)\n",
    " \n",
    "eta sarritan kodea idazterako orduan oso erabilgarriak izaten dira, kasu binario baten aurrean baldin bagaude:\n",
    "\n",
    " - Zabalik/Itxita\n",
    " - Bai/Ez\n",
    " - Jarraitu/Gelditu\n",
    " - ...\n",
    " \n",
    "Kasu horietan, bi aukera posible bakarrik egon behar dira, edo bata edo bestea betetzen da, ezin da beste aukerarik egon aldagai logikoen kasuan. "
   ]
  },
  {
   "cell_type": "code",
   "execution_count": null,
   "metadata": {},
   "outputs": [],
   "source": [
    "true_aldagaia <- TRUE\n",
    "true_aldagaia2 <- T\n",
    "false_aldagaia <- FALSE\n",
    "false_aldagaia2 <- F\n",
    "\n",
    "true_aldagaia\n",
    "true_aldagaia2\n",
    "false_aldagaia\n",
    "false_aldagaia2"
   ]
  },
  {
   "cell_type": "markdown",
   "metadata": {},
   "source": [
    "## Azken nota batzuk\n",
    "`R`-n, beste programazio-lengoaia batzuetan ez bezala (`C`-n adibidez), ez dugu derrigorrez aldagaian sartzen dugun aldagai-mota zehaztu behar, programak berak zehazten du automatikoki. Hau da, `x` aldagaian zenbaki bat sartzea nahi baldin badugu, ez dago zehaztu beharrik aldagai-mota edo klasea."
   ]
  },
  {
   "cell_type": "code",
   "execution_count": null,
   "metadata": {},
   "outputs": [],
   "source": [
    "x <- 1\n",
    "y <- \"Bat\"\n",
    "z <- TRUE\n",
    "\n",
    "class(x)\n",
    "class(y)\n",
    "class(z)"
   ]
  },
  {
   "cell_type": "markdown",
   "metadata": {},
   "source": [
    "Hortaz gain, `R`-n  `#` karakterearen ondoren datorrena ez da exekutatzen, ondoren ikus daitekeen bezala:"
   ]
  },
  {
   "cell_type": "code",
   "execution_count": null,
   "metadata": {},
   "outputs": [],
   "source": [
    "1 + 1 #Orain idazten dena ez da exekutatzen"
   ]
  },
  {
   "cell_type": "markdown",
   "metadata": {},
   "source": [
    "Bestalde, normalean komando bakoitza lerro ezberdin batean exekutatzea gomendatzen den arren, nahi izanez gero, `;` ikurra erabili dezakegu operazio bat baino gehiago egiteko lerro berean."
   ]
  },
  {
   "cell_type": "code",
   "execution_count": null,
   "metadata": {},
   "outputs": [],
   "source": [
    "1 + 1; 2 + 3; x <- 10; x"
   ]
  },
  {
   "cell_type": "markdown",
   "metadata": {},
   "source": [
    "### Ariketak:"
   ]
  },
  {
   "cell_type": "code",
   "execution_count": null,
   "metadata": {},
   "outputs": [],
   "source": [
    "#Gorde 'egoera' aldagaian 'Ikasten' karaktere-katea\n",
    "\n",
    "\n",
    "#Gorde 'x' aldagaian 2^10 zenbakia\n",
    "\n"
   ]
  },
  {
   "cell_type": "markdown",
   "metadata": {},
   "source": [
    "# Erabilitako funtzio berriak:\n",
    " - `ls`\n",
    " - `class`"
   ]
  }
 ],
 "metadata": {
  "kernelspec": {
   "display_name": "R",
   "language": "R",
   "name": "ir"
  },
  "language_info": {
   "codemirror_mode": "r",
   "file_extension": ".r",
   "mimetype": "text/x-r-source",
   "name": "R",
   "pygments_lexer": "r",
   "version": "3.5.0"
  }
 },
 "nbformat": 4,
 "nbformat_minor": 2
}
