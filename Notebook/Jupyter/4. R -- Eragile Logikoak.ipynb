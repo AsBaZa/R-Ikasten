{
 "cells": [
  {
   "cell_type": "markdown",
   "metadata": {},
   "source": [
    "<img src=\"Rlogo.png\" style=\"width: 180px;\"/>\n",
    "\n",
    "Koaderno honetan, programazioko beste oinarrizko atal bat ikusiko dugu: **eragile logikoena**. "
   ]
  },
  {
   "cell_type": "markdown",
   "metadata": {},
   "source": [
    "# R-n Lehen Pausuak: Eragile Logikoak"
   ]
  },
  {
   "cell_type": "markdown",
   "metadata": {},
   "source": [
    "Programazio-lengoaia guztiak edo ia guztiak egitura logiko baten bidez osatuta daude. Sistema sinpleenak ere bere baitan izaten dute. Sistema bitar baten oinarritzen direnez gehienak, informazioa 0 edo 1 bidez pasatzen da, BAI edo EZ, EGIA edo GEZURRA. Horregatik eta oso erabilgarriak direlako garrantzia berezia izaten dute eragile logikoek.\n",
    "\n",
    "Hurrengo taulan, eragile logiko garrantzitsuenak `R`-n nola idazten diren agertzen da.\n",
    "<img src=\"Eragile Logikoak.png\" style=\"width: 280px;\"/>\n",
    "\n",
    "Has gaitezen adibide erraz batekin, 2 zenbakia 3 baino txikiagoa al da?"
   ]
  },
  {
   "cell_type": "code",
   "execution_count": null,
   "metadata": {},
   "outputs": [],
   "source": [
    "2 < 3"
   ]
  },
  {
   "cell_type": "markdown",
   "metadata": {},
   "source": [
    "Aurreko lerroa exekutatu baldin badugu, erantzun bezala `TRUE` itzuli digula ikusiko dugu, hau da, jarri duguna EGIA dela. Berdina egin dezakegu beste eragile logiko batzuekin ere."
   ]
  },
  {
   "cell_type": "code",
   "execution_count": null,
   "metadata": {},
   "outputs": [],
   "source": [
    "#2 zenbakia 3 zenbakia BAINO TXIKIAGOA EDO BERDINA da?\n",
    "2 <= 3\n",
    "\n",
    "#2 zenbakia 3 BAINO HANDIAGOA da?\n",
    "2 > 3\n",
    "\n",
    "#2 zenbakia 3 BAINO HANDIAGOA EDO BERDINA da?\n",
    "2 >= 3\n",
    "\n",
    "#2 zenbakia 3 zenbakiaren BERDINA da?\n",
    "2 == 3\n",
    "\n",
    "#2 zenbakia 3 zenbakiaren EZBERDINA da?\n",
    "2 != 3"
   ]
  },
  {
   "cell_type": "markdown",
   "metadata": {},
   "source": [
    "Zenbakiekin egin dugun gauza berdina egin dezakegu aldagai logikoekin:\n",
    " - Berdintzen kasuan:"
   ]
  },
  {
   "cell_type": "code",
   "execution_count": null,
   "metadata": {},
   "outputs": [],
   "source": [
    "TRUE == TRUE\n",
    "\n",
    "TRUE == FALSE\n",
    "\n",
    "FALSE == TRUE\n",
    "\n",
    "FALSE == FALSE"
   ]
  },
  {
   "cell_type": "markdown",
   "metadata": {},
   "source": [
    " - Ezberdintzen kasuan:"
   ]
  },
  {
   "cell_type": "code",
   "execution_count": null,
   "metadata": {},
   "outputs": [],
   "source": [
    "TRUE != TRUE\n",
    "\n",
    "TRUE != FALSE\n",
    "\n",
    "FALSE != TRUE\n",
    "\n",
    "FALSE != FALSE"
   ]
  },
  {
   "cell_type": "markdown",
   "metadata": {},
   "source": [
    "Orain, aldagai logikoen bidez goiko irudiko beste 3 eragile logikoak erabiliko ditugu:"
   ]
  },
  {
   "cell_type": "code",
   "execution_count": null,
   "metadata": {},
   "outputs": [],
   "source": [
    "#Bietako bat EGIA da? Hau da, bata EDO bestea EGIA al da?\n",
    "\n",
    "TRUE | TRUE\n",
    "\n",
    "TRUE | FALSE\n",
    "\n",
    "FALSE | TRUE\n",
    "\n",
    "FALSE | FALSE"
   ]
  },
  {
   "cell_type": "code",
   "execution_count": null,
   "metadata": {},
   "outputs": [],
   "source": [
    "#Biak al dira EGIA? Hau da, bata ETA bestea EGIAK dira?\n",
    "\n",
    "TRUE & TRUE\n",
    "\n",
    "TRUE & FALSE\n",
    "\n",
    "FALSE & TRUE\n",
    "\n",
    "FALSE & FALSE"
   ]
  },
  {
   "cell_type": "markdown",
   "metadata": {},
   "source": [
    "Azken bi eragiketa hauek, luzeera handiagoko kateetan ere erabili daiteke"
   ]
  },
  {
   "cell_type": "code",
   "execution_count": null,
   "metadata": {},
   "outputs": [],
   "source": [
    "#Denak al dira EGIA?\n",
    "TRUE & TRUE & FALSE & TRUE"
   ]
  },
  {
   "cell_type": "code",
   "execution_count": null,
   "metadata": {},
   "outputs": [],
   "source": [
    "#Bateonbat EGIA al da?\n",
    "TRUE | TRUE | FALSE | TRUE"
   ]
  },
  {
   "cell_type": "markdown",
   "metadata": {},
   "source": [
    "### Eragile Logikoak Bektoreetan"
   ]
  },
  {
   "cell_type": "markdown",
   "metadata": {},
   "source": [
    "Programazio-lengoaietan berria den pertsona batentzako, baliteke eragile logikoeri buruz orain arte ikusitakoak ezer gutxi esatea, baina aplikazio anitz dituzte eta horietako asko oso erabilgarriak. Hasteko, bektoreetan dute garrantzia aztertuko dugu. Ikus dezagun hurrengo adibidea:"
   ]
  },
  {
   "cell_type": "code",
   "execution_count": null,
   "metadata": {},
   "outputs": [],
   "source": [
    "#x bektorea definitu\n",
    "x <- c(-1,1,5,2,-4,6,-2,3,1,10)\n",
    "\n",
    "#x bektoreko elementuak 0 baino handiagoak dira?\n",
    "x > 0"
   ]
  },
  {
   "cell_type": "markdown",
   "metadata": {},
   "source": [
    "Aurreko emaitza aztertuz gero, `x > 0` bidez beste bektore bat lortu dugu, `TRUE` eta `FALSE` bidez osatutakoa (jarritako baldintzari lotuta).\n",
    "\n",
    "Orain, $[0,8]$ tartean dauden elementuak ikusiko ditugu:"
   ]
  },
  {
   "cell_type": "code",
   "execution_count": null,
   "metadata": {},
   "outputs": [],
   "source": [
    "(x >= 0) & (x <= 8)"
   ]
  },
  {
   "cell_type": "markdown",
   "metadata": {},
   "source": [
    " - **Oharra:** *Aurreko lerroan parentesiak jarri dira ulerterrazagoa izateko, baina parentesiak jarri gabe ere emaitza berdina lortuko genuen, desberdintzak lehentasuna duelako kasu horretan. `R`-k dituen lehentasunak ez baldin badizkigu (normala den bezala) edo dudak baldin baditugu, parentesiak erabiltzea gomendatzen da, lehentasuna ziurtatzeko.*"
   ]
  },
  {
   "cell_type": "markdown",
   "metadata": {},
   "source": [
    "Gogoratu dezagun nola lor ditzakegun bektoreen barneko elementuak:"
   ]
  },
  {
   "cell_type": "code",
   "execution_count": null,
   "metadata": {},
   "outputs": [],
   "source": [
    "#4. elementua lortzeko\n",
    "x[4]\n",
    "\n",
    "#1. elementutik 4. elementura lortzeko\n",
    "x[1:4]"
   ]
  },
  {
   "cell_type": "markdown",
   "metadata": {},
   "source": [
    "#### Bektoreen elementuak `TRUE` eta `FALSE` bidez\n",
    "\n",
    "Oraingo honetan, eragiketa berdina egiteko beste modu bat ikusiko dugu, aldagai logikoen bidez:"
   ]
  },
  {
   "cell_type": "code",
   "execution_count": null,
   "metadata": {},
   "outputs": [],
   "source": [
    "#4. elementua lortzeko\n",
    "x[c(FALSE,FALSE,FALSE,TRUE,FALSE,FALSE,FALSE,FALSE,FALSE,FALSE)]\n",
    "#beste modu bat\n",
    "#x[c(F,F,F,T,F,F,F,F,F,F)]\n",
    "\n",
    "#1. elementutik 4. elementura lortzeko\n",
    "x[c(TRUE,TRUE,TRUE,TRUE,FALSE,FALSE,FALSE,FALSE,FALSE,FALSE)]\n",
    "#beste modu bat\n",
    "#x[c(T,T,T,T,F,F,F,F,F,F)]"
   ]
  },
  {
   "cell_type": "markdown",
   "metadata": {},
   "source": [
    "Hau da, `TRUE` eta `FALSE` bidez sortutako bektore baten bidez, `TRUE` elementuen posizioa bueltatzen digu. Hau hasiera batean zaila izan daiteke ulertzeko, baina ez ahaztu nahi diren probak egin ditzakezula hobeto ulertzeko eta esperimentuak egiteko. Azken finean horrela ikasten baita.\n",
    "\n",
    "#### Bektoreen elementuak aukeratzen iragazkien bidez\n",
    "\n",
    "Aurreko bi puntuak ikusita, oraingo honetan, bektoreei iragazki desberdinak nola jarri ikasiko dugu. Demagun berriro ere aurreko `x` bektorea dugula eta 0 baino handiagoak diren elementuak erakustea nahi ditugula. Horretarako, hurrengoa egin beharko dugu:"
   ]
  },
  {
   "cell_type": "code",
   "execution_count": null,
   "metadata": {},
   "outputs": [],
   "source": [
    "#x bektorea definitu\n",
    "x <- c(-1,1,5,2,-4,6,-2,3,1,10)\n",
    "\n",
    "#0 baino handiagoak diren elementuak erakutsi\n",
    "x[x > 0]"
   ]
  },
  {
   "cell_type": "markdown",
   "metadata": {},
   "source": [
    "Konturatzen baldin bagara, aurreko bi propietateak konbinatuz lortu dugu:"
   ]
  },
  {
   "cell_type": "code",
   "execution_count": null,
   "metadata": {
    "scrolled": false
   },
   "outputs": [],
   "source": [
    "x > 0\n",
    "x[x > 0]"
   ]
  },
  {
   "cell_type": "markdown",
   "metadata": {},
   "source": [
    "Aurreko kasuan ikusi dugun bezala, berriro ere bi baldintza jarriko ditugu:\n",
    "\n",
    "$$\\mbox{0 baino handiagoa izatea eta 10 baino txikiagoa.}$$"
   ]
  },
  {
   "cell_type": "code",
   "execution_count": null,
   "metadata": {},
   "outputs": [],
   "source": [
    "x[(x > 0) & (x < 10)]"
   ]
  },
  {
   "cell_type": "markdown",
   "metadata": {},
   "source": [
    "###  `1 == TRUE` eta `0 == FALSE`\n",
    "\n",
    "`R`-n, beste lengoaia batzutan bezala, 1 balioa `TRUE` balioaren *baliokidea* da zentzu batzutan eta 0 balioa `FALSE` balioarena, ikus dezagun hurrengo berdintzaren bidez"
   ]
  },
  {
   "cell_type": "code",
   "execution_count": null,
   "metadata": {},
   "outputs": [],
   "source": [
    "1 == TRUE\n",
    "\n",
    "0 == FALSE"
   ]
  },
  {
   "cell_type": "markdown",
   "metadata": {},
   "source": [
    "Propietate hori, bektoreetan ere aplika dezakegu:"
   ]
  },
  {
   "cell_type": "code",
   "execution_count": null,
   "metadata": {},
   "outputs": [],
   "source": [
    "c(2,0,1,4,-1,5,10) == TRUE\n",
    "\n",
    "c(2,0,1,4,-1,5,10) == FALSE"
   ]
  }
 ],
 "metadata": {
  "kernelspec": {
   "display_name": "R 3.5.0 x64",
   "language": "R",
   "name": "ir"
  },
  "language_info": {
   "codemirror_mode": "r",
   "file_extension": ".r",
   "mimetype": "text/x-r-source",
   "name": "R",
   "pygments_lexer": "r",
   "version": "3.5.0"
  }
 },
 "nbformat": 4,
 "nbformat_minor": 2
}
